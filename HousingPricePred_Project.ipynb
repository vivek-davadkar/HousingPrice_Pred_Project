{
 "cells": [
  {
   "cell_type": "markdown",
   "id": "4a082a0f-f573-4074-bdfb-6905790388b8",
   "metadata": {},
   "source": [
    "# Project: HomePrice Dynamics Analysis: Unveiling Influential Factors Over 20 Years"
   ]
  },
  {
   "cell_type": "markdown",
   "id": "37d67a9a-1569-4205-9776-f5118e70b58a",
   "metadata": {},
   "source": [
    "## objective:"
   ]
  },
  {
   "cell_type": "markdown",
   "id": "b61ef89d-7650-42ee-bec7-0ad85fc7342b",
   "metadata": {},
   "source": [
    "`The project aims to create a comprehensive data science model aimed at elucidating the influence of various factors on home prices observed over the past 20 years. The prime purpose is to discern and quantify the key drivers that have contributed to fluctuations in home prices, thereby facilitating a deeper understanding of the housing market dynamics.`"
   ]
  },
  {
   "cell_type": "markdown",
   "id": "cc6c1e66-367c-4134-adf4-e5378cee0bdb",
   "metadata": {},
   "source": [
    "#### Gathering data & importing datasets files using Pandas"
   ]
  },
  {
   "cell_type": "code",
   "execution_count": 100,
   "id": "bf17ad10-8178-4f94-9643-2450d0e346ea",
   "metadata": {},
   "outputs": [],
   "source": [
    "import pandas as pd\n",
    "import seaborn as sns\n",
    "import matplotlib.pyplot as plt"
   ]
  },
  {
   "cell_type": "code",
   "execution_count": 213,
   "id": "ccec70ce-de37-4f57-8d02-e297ba9dd41a",
   "metadata": {},
   "outputs": [],
   "source": [
    "dataset1 = pd.read_csv('Downloads/MORTGAGE30US (1).csv') # Fixed Rate Mortgage Average in the United States\n",
    "dataset2 = pd.read_csv('Downloads/ASPUS.csv') # Average Sales Price of Houses in the United States\n",
    "dataset3 = pd.read_csv('Downloads/CGBD2534.csv') # Unemployment Rate in the United States\n",
    "dataset4 = pd.read_csv('Downloads/CSUSHPINSA.csv') # Home Price Index in the United States\n",
    "dataset5 = pd.read_csv('Downloads/CUUR0000SEHA.csv') # CPI: Rent of Residence Average in the United States\n",
    "dataset6 = pd.read_csv('Downloads/MICH.csv') # CSI:Inflation Expectations in the United States \n",
    "dataset7 = pd.read_csv('Downloads/MEHOINUSA672N.csv') # Median Household Income in the United States\n",
    "dataset8 = pd.read_csv('Downloads/ETOTALUSQ176N.csv') # Housing Inventory Estimate in the United States\n",
    "dataset9 = pd.read_csv('Downloads/MSACSR.csv') # Monthly Supply of New Houses in the United States\n",
    "dataset10 = pd.read_csv('Downloads/TTLCONS.csv') # Total Construction Spending: Total Construction in the United States \n",
    "dataset11 = pd.read_csv('Downloads/CXUTOTALEXPLB0403M.csv') # Expenditures: Total Average Annual Expenditures"
   ]
  },
  {
   "cell_type": "markdown",
   "id": "fe7935f9-651a-41e8-ae27-73845b662a23",
   "metadata": {},
   "source": [
    "#### EDA (Exploratory Data Analysis) & FE (Feature Engineering)"
   ]
  },
  {
   "cell_type": "code",
   "execution_count": 102,
   "id": "0f161343-fd0c-4878-b753-1367fcacc4f9",
   "metadata": {
    "scrolled": true
   },
   "outputs": [
    {
     "data": {
      "text/html": [
       "<div>\n",
       "<style scoped>\n",
       "    .dataframe tbody tr th:only-of-type {\n",
       "        vertical-align: middle;\n",
       "    }\n",
       "\n",
       "    .dataframe tbody tr th {\n",
       "        vertical-align: top;\n",
       "    }\n",
       "\n",
       "    .dataframe thead th {\n",
       "        text-align: right;\n",
       "    }\n",
       "</style>\n",
       "<table border=\"1\" class=\"dataframe\">\n",
       "  <thead>\n",
       "    <tr style=\"text-align: right;\">\n",
       "      <th></th>\n",
       "      <th>DATE</th>\n",
       "      <th>MORTGAGE30US</th>\n",
       "    </tr>\n",
       "  </thead>\n",
       "  <tbody>\n",
       "    <tr>\n",
       "      <th>0</th>\n",
       "      <td>1971-04-02</td>\n",
       "      <td>7.33</td>\n",
       "    </tr>\n",
       "    <tr>\n",
       "      <th>1</th>\n",
       "      <td>1971-04-09</td>\n",
       "      <td>7.31</td>\n",
       "    </tr>\n",
       "    <tr>\n",
       "      <th>2</th>\n",
       "      <td>1971-04-16</td>\n",
       "      <td>7.31</td>\n",
       "    </tr>\n",
       "    <tr>\n",
       "      <th>3</th>\n",
       "      <td>1971-04-23</td>\n",
       "      <td>7.31</td>\n",
       "    </tr>\n",
       "    <tr>\n",
       "      <th>4</th>\n",
       "      <td>1971-04-30</td>\n",
       "      <td>7.29</td>\n",
       "    </tr>\n",
       "  </tbody>\n",
       "</table>\n",
       "</div>"
      ],
      "text/plain": [
       "         DATE  MORTGAGE30US\n",
       "0  1971-04-02          7.33\n",
       "1  1971-04-09          7.31\n",
       "2  1971-04-16          7.31\n",
       "3  1971-04-23          7.31\n",
       "4  1971-04-30          7.29"
      ]
     },
     "execution_count": 102,
     "metadata": {},
     "output_type": "execute_result"
    }
   ],
   "source": [
    "dataset1.head()"
   ]
  },
  {
   "cell_type": "code",
   "execution_count": 103,
   "id": "8e2d21ab-9883-453b-8819-6bd7ffb7a34d",
   "metadata": {},
   "outputs": [
    {
     "data": {
      "text/html": [
       "<div>\n",
       "<style scoped>\n",
       "    .dataframe tbody tr th:only-of-type {\n",
       "        vertical-align: middle;\n",
       "    }\n",
       "\n",
       "    .dataframe tbody tr th {\n",
       "        vertical-align: top;\n",
       "    }\n",
       "\n",
       "    .dataframe thead th {\n",
       "        text-align: right;\n",
       "    }\n",
       "</style>\n",
       "<table border=\"1\" class=\"dataframe\">\n",
       "  <thead>\n",
       "    <tr style=\"text-align: right;\">\n",
       "      <th></th>\n",
       "      <th>DATE</th>\n",
       "      <th>MORTGAGE30US</th>\n",
       "    </tr>\n",
       "  </thead>\n",
       "  <tbody>\n",
       "    <tr>\n",
       "      <th>2745</th>\n",
       "      <td>2023-11-09</td>\n",
       "      <td>7.50</td>\n",
       "    </tr>\n",
       "    <tr>\n",
       "      <th>2746</th>\n",
       "      <td>2023-11-16</td>\n",
       "      <td>7.44</td>\n",
       "    </tr>\n",
       "    <tr>\n",
       "      <th>2747</th>\n",
       "      <td>2023-11-22</td>\n",
       "      <td>7.29</td>\n",
       "    </tr>\n",
       "    <tr>\n",
       "      <th>2748</th>\n",
       "      <td>2023-11-30</td>\n",
       "      <td>7.22</td>\n",
       "    </tr>\n",
       "    <tr>\n",
       "      <th>2749</th>\n",
       "      <td>2023-12-07</td>\n",
       "      <td>7.03</td>\n",
       "    </tr>\n",
       "  </tbody>\n",
       "</table>\n",
       "</div>"
      ],
      "text/plain": [
       "            DATE  MORTGAGE30US\n",
       "2745  2023-11-09          7.50\n",
       "2746  2023-11-16          7.44\n",
       "2747  2023-11-22          7.29\n",
       "2748  2023-11-30          7.22\n",
       "2749  2023-12-07          7.03"
      ]
     },
     "execution_count": 103,
     "metadata": {},
     "output_type": "execute_result"
    }
   ],
   "source": [
    "dataset1.tail()"
   ]
  },
  {
   "cell_type": "code",
   "execution_count": 104,
   "id": "d95a5279-a9e4-4abf-977e-6e8c416481c8",
   "metadata": {
    "scrolled": true
   },
   "outputs": [
    {
     "name": "stdout",
     "output_type": "stream",
     "text": [
      "<class 'pandas.core.frame.DataFrame'>\n",
      "RangeIndex: 2750 entries, 0 to 2749\n",
      "Data columns (total 2 columns):\n",
      " #   Column        Non-Null Count  Dtype  \n",
      "---  ------        --------------  -----  \n",
      " 0   DATE          2750 non-null   object \n",
      " 1   MORTGAGE30US  2750 non-null   float64\n",
      "dtypes: float64(1), object(1)\n",
      "memory usage: 43.1+ KB\n"
     ]
    }
   ],
   "source": [
    "dataset1.info()"
   ]
  },
  {
   "cell_type": "code",
   "execution_count": 105,
   "id": "8f895283-9d95-4956-978e-95e6f7c7f5d7",
   "metadata": {},
   "outputs": [],
   "source": [
    "dataset1.rename(columns={'MORTGAGE30US':'Fixed Rate Mortgage Average'}, inplace=True)"
   ]
  },
  {
   "cell_type": "code",
   "execution_count": 106,
   "id": "a41860e1-1192-490e-a7a9-bdad851e06d0",
   "metadata": {},
   "outputs": [],
   "source": [
    "dataset1['DATE'] = pd.to_datetime(dataset1['DATE'])"
   ]
  },
  {
   "cell_type": "code",
   "execution_count": 107,
   "id": "571ee6c4-233d-4391-b3f0-2dd13b5587c5",
   "metadata": {
    "scrolled": true
   },
   "outputs": [
    {
     "name": "stdout",
     "output_type": "stream",
     "text": [
      "<class 'pandas.core.frame.DataFrame'>\n",
      "RangeIndex: 2750 entries, 0 to 2749\n",
      "Data columns (total 2 columns):\n",
      " #   Column                       Non-Null Count  Dtype         \n",
      "---  ------                       --------------  -----         \n",
      " 0   DATE                         2750 non-null   datetime64[ns]\n",
      " 1   Fixed Rate Mortgage Average  2750 non-null   float64       \n",
      "dtypes: datetime64[ns](1), float64(1)\n",
      "memory usage: 43.1 KB\n"
     ]
    }
   ],
   "source": [
    "dataset1.info()"
   ]
  },
  {
   "cell_type": "code",
   "execution_count": 108,
   "id": "f11ac923-fbd2-43a8-b8b5-f89b8c3d9deb",
   "metadata": {},
   "outputs": [],
   "source": [
    "start_year = pd.to_datetime('today').year - 20"
   ]
  },
  {
   "cell_type": "code",
   "execution_count": 109,
   "id": "16bcac15-7054-4347-94e6-eb9b39c9fdb3",
   "metadata": {},
   "outputs": [],
   "source": [
    "end_year = pd.to_datetime('today').year"
   ]
  },
  {
   "cell_type": "code",
   "execution_count": 110,
   "id": "c77df70e-b365-491f-949c-39a6bf66bd7e",
   "metadata": {},
   "outputs": [],
   "source": [
    "# Filter the DataFrame for the last 20 years \n",
    "df1 = dataset1[(dataset1['DATE'].dt.year >= start_year) & (dataset1['DATE'].dt.year <= end_year)]"
   ]
  },
  {
   "cell_type": "code",
   "execution_count": 111,
   "id": "233eea6b-6426-4723-bebd-b2b6ed5b6b00",
   "metadata": {
    "scrolled": true
   },
   "outputs": [
    {
     "data": {
      "text/html": [
       "<div>\n",
       "<style scoped>\n",
       "    .dataframe tbody tr th:only-of-type {\n",
       "        vertical-align: middle;\n",
       "    }\n",
       "\n",
       "    .dataframe tbody tr th {\n",
       "        vertical-align: top;\n",
       "    }\n",
       "\n",
       "    .dataframe thead th {\n",
       "        text-align: right;\n",
       "    }\n",
       "</style>\n",
       "<table border=\"1\" class=\"dataframe\">\n",
       "  <thead>\n",
       "    <tr style=\"text-align: right;\">\n",
       "      <th></th>\n",
       "      <th>DATE</th>\n",
       "      <th>Fixed Rate Mortgage Average</th>\n",
       "    </tr>\n",
       "  </thead>\n",
       "  <tbody>\n",
       "    <tr>\n",
       "      <th>1657</th>\n",
       "      <td>2003-01-03</td>\n",
       "      <td>5.85</td>\n",
       "    </tr>\n",
       "    <tr>\n",
       "      <th>1658</th>\n",
       "      <td>2003-01-10</td>\n",
       "      <td>5.95</td>\n",
       "    </tr>\n",
       "    <tr>\n",
       "      <th>1659</th>\n",
       "      <td>2003-01-17</td>\n",
       "      <td>5.97</td>\n",
       "    </tr>\n",
       "    <tr>\n",
       "      <th>1660</th>\n",
       "      <td>2003-01-24</td>\n",
       "      <td>5.91</td>\n",
       "    </tr>\n",
       "    <tr>\n",
       "      <th>1661</th>\n",
       "      <td>2003-01-31</td>\n",
       "      <td>5.90</td>\n",
       "    </tr>\n",
       "    <tr>\n",
       "      <th>...</th>\n",
       "      <td>...</td>\n",
       "      <td>...</td>\n",
       "    </tr>\n",
       "    <tr>\n",
       "      <th>2745</th>\n",
       "      <td>2023-11-09</td>\n",
       "      <td>7.50</td>\n",
       "    </tr>\n",
       "    <tr>\n",
       "      <th>2746</th>\n",
       "      <td>2023-11-16</td>\n",
       "      <td>7.44</td>\n",
       "    </tr>\n",
       "    <tr>\n",
       "      <th>2747</th>\n",
       "      <td>2023-11-22</td>\n",
       "      <td>7.29</td>\n",
       "    </tr>\n",
       "    <tr>\n",
       "      <th>2748</th>\n",
       "      <td>2023-11-30</td>\n",
       "      <td>7.22</td>\n",
       "    </tr>\n",
       "    <tr>\n",
       "      <th>2749</th>\n",
       "      <td>2023-12-07</td>\n",
       "      <td>7.03</td>\n",
       "    </tr>\n",
       "  </tbody>\n",
       "</table>\n",
       "<p>1093 rows × 2 columns</p>\n",
       "</div>"
      ],
      "text/plain": [
       "           DATE  Fixed Rate Mortgage Average\n",
       "1657 2003-01-03                         5.85\n",
       "1658 2003-01-10                         5.95\n",
       "1659 2003-01-17                         5.97\n",
       "1660 2003-01-24                         5.91\n",
       "1661 2003-01-31                         5.90\n",
       "...         ...                          ...\n",
       "2745 2023-11-09                         7.50\n",
       "2746 2023-11-16                         7.44\n",
       "2747 2023-11-22                         7.29\n",
       "2748 2023-11-30                         7.22\n",
       "2749 2023-12-07                         7.03\n",
       "\n",
       "[1093 rows x 2 columns]"
      ]
     },
     "execution_count": 111,
     "metadata": {},
     "output_type": "execute_result"
    }
   ],
   "source": [
    "df1"
   ]
  },
  {
   "cell_type": "code",
   "execution_count": 112,
   "id": "514ac74a-8621-4df2-9dd7-fd7a935f6c98",
   "metadata": {
    "scrolled": true
   },
   "outputs": [
    {
     "data": {
      "text/plain": [
       "DATE                           0\n",
       "Fixed Rate Mortgage Average    0\n",
       "dtype: int64"
      ]
     },
     "execution_count": 112,
     "metadata": {},
     "output_type": "execute_result"
    }
   ],
   "source": [
    "df1.isnull().sum()"
   ]
  },
  {
   "cell_type": "code",
   "execution_count": 113,
   "id": "4dda8c55-b546-4314-acdb-b71e8dcf0f66",
   "metadata": {
    "scrolled": true
   },
   "outputs": [
    {
     "data": {
      "text/html": [
       "<div>\n",
       "<style scoped>\n",
       "    .dataframe tbody tr th:only-of-type {\n",
       "        vertical-align: middle;\n",
       "    }\n",
       "\n",
       "    .dataframe tbody tr th {\n",
       "        vertical-align: top;\n",
       "    }\n",
       "\n",
       "    .dataframe thead th {\n",
       "        text-align: right;\n",
       "    }\n",
       "</style>\n",
       "<table border=\"1\" class=\"dataframe\">\n",
       "  <thead>\n",
       "    <tr style=\"text-align: right;\">\n",
       "      <th></th>\n",
       "      <th>DATE</th>\n",
       "      <th>Fixed Rate Mortgage Average</th>\n",
       "    </tr>\n",
       "  </thead>\n",
       "  <tbody>\n",
       "    <tr>\n",
       "      <th>count</th>\n",
       "      <td>1093</td>\n",
       "      <td>1093.000000</td>\n",
       "    </tr>\n",
       "    <tr>\n",
       "      <th>mean</th>\n",
       "      <td>2013-06-20 00:28:59.066788864</td>\n",
       "      <td>4.779469</td>\n",
       "    </tr>\n",
       "    <tr>\n",
       "      <th>min</th>\n",
       "      <td>2003-01-03 00:00:00</td>\n",
       "      <td>2.650000</td>\n",
       "    </tr>\n",
       "    <tr>\n",
       "      <th>25%</th>\n",
       "      <td>2008-03-27 00:00:00</td>\n",
       "      <td>3.850000</td>\n",
       "    </tr>\n",
       "    <tr>\n",
       "      <th>50%</th>\n",
       "      <td>2013-06-20 00:00:00</td>\n",
       "      <td>4.530000</td>\n",
       "    </tr>\n",
       "    <tr>\n",
       "      <th>75%</th>\n",
       "      <td>2018-09-13 00:00:00</td>\n",
       "      <td>5.870000</td>\n",
       "    </tr>\n",
       "    <tr>\n",
       "      <th>max</th>\n",
       "      <td>2023-12-07 00:00:00</td>\n",
       "      <td>7.790000</td>\n",
       "    </tr>\n",
       "    <tr>\n",
       "      <th>std</th>\n",
       "      <td>NaN</td>\n",
       "      <td>1.177220</td>\n",
       "    </tr>\n",
       "  </tbody>\n",
       "</table>\n",
       "</div>"
      ],
      "text/plain": [
       "                                DATE  Fixed Rate Mortgage Average\n",
       "count                           1093                  1093.000000\n",
       "mean   2013-06-20 00:28:59.066788864                     4.779469\n",
       "min              2003-01-03 00:00:00                     2.650000\n",
       "25%              2008-03-27 00:00:00                     3.850000\n",
       "50%              2013-06-20 00:00:00                     4.530000\n",
       "75%              2018-09-13 00:00:00                     5.870000\n",
       "max              2023-12-07 00:00:00                     7.790000\n",
       "std                              NaN                     1.177220"
      ]
     },
     "execution_count": 113,
     "metadata": {},
     "output_type": "execute_result"
    }
   ],
   "source": [
    "df1.describe()"
   ]
  },
  {
   "cell_type": "code",
   "execution_count": 114,
   "id": "355b35a6-cf13-44f7-953c-bafce05c0200",
   "metadata": {
    "scrolled": true
   },
   "outputs": [
    {
     "data": {
      "image/png": "[encoded data removed]",
      "text/plain": [
       "<Figure size 600x400 with 1 Axes>"
      ]
     },
     "metadata": {},
     "output_type": "display_data"
    }
   ],
   "source": [
    "# Plotting using Matplotlib\n",
    "plt.figure(figsize=(6, 4))\n",
    "plt.plot(df1['DATE'], df1['Fixed Rate Mortgage Average'])\n",
    "plt.title('Fixed Rate Mortgage Average Over Time')\n",
    "plt.xlabel('Date')\n",
    "plt.ylabel('Fixed Rate Mortgage Average')\n",
    "plt.grid(True)\n",
    "plt.show()"
   ]
  },
  {
   "cell_type": "code",
   "execution_count": 115,
   "id": "3935b3c5-8251-4793-90c2-3c37fd0c4fb3",
   "metadata": {},
   "outputs": [
    {
     "data": {
      "image/png": "[encoded data removed]",
      "text/plain": [
       "<Figure size 640x480 with 1 Axes>"
      ]
     },
     "metadata": {},
     "output_type": "display_data"
    }
   ],
   "source": [
    "# Ploting using seaborn \n",
    "sns.histplot(df1['Fixed Rate Mortgage Average'], kde=True)\n",
    "plt.title('Distribution of Fixed Rate Mortgage Average')\n",
    "plt.xlabel('Fixed Rate Mortgage Average')\n",
    "plt.ylabel('Frequency')\n",
    "plt.show()"
   ]
  },
  {
   "cell_type": "code",
   "execution_count": 116,
   "id": "d8edbd54-c34f-4d56-996a-f9434261b9a1",
   "metadata": {
    "scrolled": true
   },
   "outputs": [
    {
     "data": {
      "text/html": [
       "<div>\n",
       "<style scoped>\n",
       "    .dataframe tbody tr th:only-of-type {\n",
       "        vertical-align: middle;\n",
       "    }\n",
       "\n",
       "    .dataframe tbody tr th {\n",
       "        vertical-align: top;\n",
       "    }\n",
       "\n",
       "    .dataframe thead th {\n",
       "        text-align: right;\n",
       "    }\n",
       "</style>\n",
       "<table border=\"1\" class=\"dataframe\">\n",
       "  <thead>\n",
       "    <tr style=\"text-align: right;\">\n",
       "      <th></th>\n",
       "      <th>DATE</th>\n",
       "      <th>ASPUS</th>\n",
       "    </tr>\n",
       "  </thead>\n",
       "  <tbody>\n",
       "    <tr>\n",
       "      <th>0</th>\n",
       "      <td>1963-01-01</td>\n",
       "      <td>19300.0</td>\n",
       "    </tr>\n",
       "    <tr>\n",
       "      <th>1</th>\n",
       "      <td>1963-04-01</td>\n",
       "      <td>19400.0</td>\n",
       "    </tr>\n",
       "    <tr>\n",
       "      <th>2</th>\n",
       "      <td>1963-07-01</td>\n",
       "      <td>19200.0</td>\n",
       "    </tr>\n",
       "    <tr>\n",
       "      <th>3</th>\n",
       "      <td>1963-10-01</td>\n",
       "      <td>19600.0</td>\n",
       "    </tr>\n",
       "    <tr>\n",
       "      <th>4</th>\n",
       "      <td>1964-01-01</td>\n",
       "      <td>19600.0</td>\n",
       "    </tr>\n",
       "  </tbody>\n",
       "</table>\n",
       "</div>"
      ],
      "text/plain": [
       "         DATE    ASPUS\n",
       "0  1963-01-01  19300.0\n",
       "1  1963-04-01  19400.0\n",
       "2  1963-07-01  19200.0\n",
       "3  1963-10-01  19600.0\n",
       "4  1964-01-01  19600.0"
      ]
     },
     "execution_count": 116,
     "metadata": {},
     "output_type": "execute_result"
    }
   ],
   "source": [
    "dataset2.head()"
   ]
  },
  {
   "cell_type": "code",
   "execution_count": 117,
   "id": "d4651ce6-d161-4bef-a2e6-eabf671ee05f",
   "metadata": {
    "scrolled": true
   },
   "outputs": [
    {
     "data": {
      "text/html": [
       "<div>\n",
       "<style scoped>\n",
       "    .dataframe tbody tr th:only-of-type {\n",
       "        vertical-align: middle;\n",
       "    }\n",
       "\n",
       "    .dataframe tbody tr th {\n",
       "        vertical-align: top;\n",
       "    }\n",
       "\n",
       "    .dataframe thead th {\n",
       "        text-align: right;\n",
       "    }\n",
       "</style>\n",
       "<table border=\"1\" class=\"dataframe\">\n",
       "  <thead>\n",
       "    <tr style=\"text-align: right;\">\n",
       "      <th></th>\n",
       "      <th>DATE</th>\n",
       "      <th>ASPUS</th>\n",
       "    </tr>\n",
       "  </thead>\n",
       "  <tbody>\n",
       "    <tr>\n",
       "      <th>238</th>\n",
       "      <td>2022-07-01</td>\n",
       "      <td>547800.0</td>\n",
       "    </tr>\n",
       "    <tr>\n",
       "      <th>239</th>\n",
       "      <td>2022-10-01</td>\n",
       "      <td>552600.0</td>\n",
       "    </tr>\n",
       "    <tr>\n",
       "      <th>240</th>\n",
       "      <td>2023-01-01</td>\n",
       "      <td>505300.0</td>\n",
       "    </tr>\n",
       "    <tr>\n",
       "      <th>241</th>\n",
       "      <td>2023-04-01</td>\n",
       "      <td>503000.0</td>\n",
       "    </tr>\n",
       "    <tr>\n",
       "      <th>242</th>\n",
       "      <td>2023-07-01</td>\n",
       "      <td>513400.0</td>\n",
       "    </tr>\n",
       "  </tbody>\n",
       "</table>\n",
       "</div>"
      ],
      "text/plain": [
       "           DATE     ASPUS\n",
       "238  2022-07-01  547800.0\n",
       "239  2022-10-01  552600.0\n",
       "240  2023-01-01  505300.0\n",
       "241  2023-04-01  503000.0\n",
       "242  2023-07-01  513400.0"
      ]
     },
     "execution_count": 117,
     "metadata": {},
     "output_type": "execute_result"
    }
   ],
   "source": [
    "dataset2.tail()"
   ]
  },
  {
   "cell_type": "code",
   "execution_count": 118,
   "id": "8a622e43-b5ad-43a1-84fe-279250ac92a5",
   "metadata": {
    "scrolled": true
   },
   "outputs": [
    {
     "name": "stdout",
     "output_type": "stream",
     "text": [
      "<class 'pandas.core.frame.DataFrame'>\n",
      "RangeIndex: 243 entries, 0 to 242\n",
      "Data columns (total 2 columns):\n",
      " #   Column  Non-Null Count  Dtype  \n",
      "---  ------  --------------  -----  \n",
      " 0   DATE    243 non-null    object \n",
      " 1   ASPUS   243 non-null    float64\n",
      "dtypes: float64(1), object(1)\n",
      "memory usage: 3.9+ KB\n"
     ]
    }
   ],
   "source": [
    "dataset2.info()"
   ]
  },
  {
   "cell_type": "code",
   "execution_count": 119,
   "id": "d13d244d-b2a6-4021-b60e-95c544020434",
   "metadata": {},
   "outputs": [],
   "source": [
    "dataset2.rename(columns={'ASPUS':'Average Sales Price of Houses'}, inplace=True)"
   ]
  },
  {
   "cell_type": "code",
   "execution_count": 120,
   "id": "10b9cb2e-0c5c-4a95-9b1f-a12126b2aefc",
   "metadata": {},
   "outputs": [],
   "source": [
    "dataset2['DATE'] = pd.to_datetime(dataset2['DATE'])"
   ]
  },
  {
   "cell_type": "code",
   "execution_count": 121,
   "id": "96bec2d9-a42b-4bc0-bb5c-83264c34925f",
   "metadata": {
    "scrolled": true
   },
   "outputs": [
    {
     "name": "stdout",
     "output_type": "stream",
     "text": [
      "<class 'pandas.core.frame.DataFrame'>\n",
      "RangeIndex: 243 entries, 0 to 242\n",
      "Data columns (total 2 columns):\n",
      " #   Column                         Non-Null Count  Dtype         \n",
      "---  ------                         --------------  -----         \n",
      " 0   DATE                           243 non-null    datetime64[ns]\n",
      " 1   Average Sales Price of Houses  243 non-null    float64       \n",
      "dtypes: datetime64[ns](1), float64(1)\n",
      "memory usage: 3.9 KB\n"
     ]
    }
   ],
   "source": [
    "dataset2.info()"
   ]
  },
  {
   "cell_type": "code",
   "execution_count": 122,
   "id": "3427fdbf-dcb2-4b98-acb4-ae76aa301ef7",
   "metadata": {},
   "outputs": [],
   "source": [
    "# Filter the DataFrame for the last 20 years \n",
    "df2 = dataset2[(dataset2['DATE'].dt.year >= start_year) & (dataset2['DATE'].dt.year <= end_year)]"
   ]
  },
  {
   "cell_type": "code",
   "execution_count": 123,
   "id": "e1b1096e-2274-43a9-9897-6fdbcbe420a4",
   "metadata": {
    "scrolled": true
   },
   "outputs": [
    {
     "data": {
      "text/html": [
       "<div>\n",
       "<style scoped>\n",
       "    .dataframe tbody tr th:only-of-type {\n",
       "        vertical-align: middle;\n",
       "    }\n",
       "\n",
       "    .dataframe tbody tr th {\n",
       "        vertical-align: top;\n",
       "    }\n",
       "\n",
       "    .dataframe thead th {\n",
       "        text-align: right;\n",
       "    }\n",
       "</style>\n",
       "<table border=\"1\" class=\"dataframe\">\n",
       "  <thead>\n",
       "    <tr style=\"text-align: right;\">\n",
       "      <th></th>\n",
       "      <th>DATE</th>\n",
       "      <th>Average Sales Price of Houses</th>\n",
       "    </tr>\n",
       "  </thead>\n",
       "  <tbody>\n",
       "    <tr>\n",
       "      <th>160</th>\n",
       "      <td>2003-01-01</td>\n",
       "      <td>233100.0</td>\n",
       "    </tr>\n",
       "    <tr>\n",
       "      <th>161</th>\n",
       "      <td>2003-04-01</td>\n",
       "      <td>241000.0</td>\n",
       "    </tr>\n",
       "    <tr>\n",
       "      <th>162</th>\n",
       "      <td>2003-07-01</td>\n",
       "      <td>248100.0</td>\n",
       "    </tr>\n",
       "    <tr>\n",
       "      <th>163</th>\n",
       "      <td>2003-10-01</td>\n",
       "      <td>256000.0</td>\n",
       "    </tr>\n",
       "    <tr>\n",
       "      <th>164</th>\n",
       "      <td>2004-01-01</td>\n",
       "      <td>262900.0</td>\n",
       "    </tr>\n",
       "    <tr>\n",
       "      <th>...</th>\n",
       "      <td>...</td>\n",
       "      <td>...</td>\n",
       "    </tr>\n",
       "    <tr>\n",
       "      <th>238</th>\n",
       "      <td>2022-07-01</td>\n",
       "      <td>547800.0</td>\n",
       "    </tr>\n",
       "    <tr>\n",
       "      <th>239</th>\n",
       "      <td>2022-10-01</td>\n",
       "      <td>552600.0</td>\n",
       "    </tr>\n",
       "    <tr>\n",
       "      <th>240</th>\n",
       "      <td>2023-01-01</td>\n",
       "      <td>505300.0</td>\n",
       "    </tr>\n",
       "    <tr>\n",
       "      <th>241</th>\n",
       "      <td>2023-04-01</td>\n",
       "      <td>503000.0</td>\n",
       "    </tr>\n",
       "    <tr>\n",
       "      <th>242</th>\n",
       "      <td>2023-07-01</td>\n",
       "      <td>513400.0</td>\n",
       "    </tr>\n",
       "  </tbody>\n",
       "</table>\n",
       "<p>83 rows × 2 columns</p>\n",
       "</div>"
      ],
      "text/plain": [
       "          DATE  Average Sales Price of Houses\n",
       "160 2003-01-01                       233100.0\n",
       "161 2003-04-01                       241000.0\n",
       "162 2003-07-01                       248100.0\n",
       "163 2003-10-01                       256000.0\n",
       "164 2004-01-01                       262900.0\n",
       "..         ...                            ...\n",
       "238 2022-07-01                       547800.0\n",
       "239 2022-10-01                       552600.0\n",
       "240 2023-01-01                       505300.0\n",
       "241 2023-04-01                       503000.0\n",
       "242 2023-07-01                       513400.0\n",
       "\n",
       "[83 rows x 2 columns]"
      ]
     },
     "execution_count": 123,
     "metadata": {},
     "output_type": "execute_result"
    }
   ],
   "source": [
    "df2"
   ]
  },
  {
   "cell_type": "code",
   "execution_count": 124,
   "id": "5db575ae-b337-4ec7-8bfa-770df6e10164",
   "metadata": {
    "scrolled": true
   },
   "outputs": [
    {
     "data": {
      "text/plain": [
       "DATE                             0\n",
       "Average Sales Price of Houses    0\n",
       "dtype: int64"
      ]
     },
     "execution_count": 124,
     "metadata": {},
     "output_type": "execute_result"
    }
   ],
   "source": [
    "df2.isnull().sum()"
   ]
  },
  {
   "cell_type": "code",
   "execution_count": 125,
   "id": "376bfb51-2e78-490c-88ea-f9338fa1a483",
   "metadata": {
    "scrolled": true
   },
   "outputs": [
    {
     "data": {
      "text/html": [
       "<div>\n",
       "<style scoped>\n",
       "    .dataframe tbody tr th:only-of-type {\n",
       "        vertical-align: middle;\n",
       "    }\n",
       "\n",
       "    .dataframe tbody tr th {\n",
       "        vertical-align: top;\n",
       "    }\n",
       "\n",
       "    .dataframe thead th {\n",
       "        text-align: right;\n",
       "    }\n",
       "</style>\n",
       "<table border=\"1\" class=\"dataframe\">\n",
       "  <thead>\n",
       "    <tr style=\"text-align: right;\">\n",
       "      <th></th>\n",
       "      <th>DATE</th>\n",
       "      <th>Average Sales Price of Houses</th>\n",
       "    </tr>\n",
       "  </thead>\n",
       "  <tbody>\n",
       "    <tr>\n",
       "      <th>count</th>\n",
       "      <td>83</td>\n",
       "      <td>83.000000</td>\n",
       "    </tr>\n",
       "    <tr>\n",
       "      <th>mean</th>\n",
       "      <td>2013-04-01 03:28:11.566265088</td>\n",
       "      <td>341625.301205</td>\n",
       "    </tr>\n",
       "    <tr>\n",
       "      <th>min</th>\n",
       "      <td>2003-01-01 00:00:00</td>\n",
       "      <td>233100.000000</td>\n",
       "    </tr>\n",
       "    <tr>\n",
       "      <th>25%</th>\n",
       "      <td>2008-02-15 12:00:00</td>\n",
       "      <td>280350.000000</td>\n",
       "    </tr>\n",
       "    <tr>\n",
       "      <th>50%</th>\n",
       "      <td>2013-04-01 00:00:00</td>\n",
       "      <td>322100.000000</td>\n",
       "    </tr>\n",
       "    <tr>\n",
       "      <th>75%</th>\n",
       "      <td>2018-05-16 12:00:00</td>\n",
       "      <td>376800.000000</td>\n",
       "    </tr>\n",
       "    <tr>\n",
       "      <th>max</th>\n",
       "      <td>2023-07-01 00:00:00</td>\n",
       "      <td>552600.000000</td>\n",
       "    </tr>\n",
       "    <tr>\n",
       "      <th>std</th>\n",
       "      <td>NaN</td>\n",
       "      <td>77332.835993</td>\n",
       "    </tr>\n",
       "  </tbody>\n",
       "</table>\n",
       "</div>"
      ],
      "text/plain": [
       "                                DATE  Average Sales Price of Houses\n",
       "count                             83                      83.000000\n",
       "mean   2013-04-01 03:28:11.566265088                  341625.301205\n",
       "min              2003-01-01 00:00:00                  233100.000000\n",
       "25%              2008-02-15 12:00:00                  280350.000000\n",
       "50%              2013-04-01 00:00:00                  322100.000000\n",
       "75%              2018-05-16 12:00:00                  376800.000000\n",
       "max              2023-07-01 00:00:00                  552600.000000\n",
       "std                              NaN                   77332.835993"
      ]
     },
     "execution_count": 125,
     "metadata": {},
     "output_type": "execute_result"
    }
   ],
   "source": [
    "df2.describe()"
   ]
  },
  {
   "cell_type": "code",
   "execution_count": 127,
   "id": "099fb5c0-b1e9-4ca3-88c6-1bd5116b917d",
   "metadata": {
    "scrolled": true
   },
   "outputs": [
    {
     "data": {
      "image/png": "[encoded data removed]",
      "text/plain": [
       "<Figure size 640x480 with 1 Axes>"
      ]
     },
     "metadata": {},
     "output_type": "display_data"
    }
   ],
   "source": [
    "sns.histplot(df2['Average Sales Price of Houses'], kde=True)\n",
    "plt.title('Distribution of Average Sales Price of Houses')\n",
    "plt.xlabel('Average Sales Price')\n",
    "plt.ylabel('Frequency')\n",
    "plt.show()"
   ]
  },
  {
   "cell_type": "code",
   "execution_count": 128,
   "id": "90b85c2e-b9f7-4178-990a-7c680bb49ab6",
   "metadata": {
    "scrolled": true
   },
   "outputs": [
    {
     "data": {
      "image/png": "[encoded data removed]",
      "text/plain": [
       "<Figure size 640x480 with 1 Axes>"
      ]
     },
     "metadata": {},
     "output_type": "display_data"
    }
   ],
   "source": [
    "sns.boxplot(data=df2, y='Average Sales Price of Houses')\n",
    "plt.title('Boxplot of Average Sales Price of Houses')\n",
    "plt.ylabel('Average Sales Price')\n",
    "plt.show()"
   ]
  },
  {
   "cell_type": "code",
   "execution_count": 129,
   "id": "caedc2f1-67b1-46b9-9a7a-ffdccdd4d4ac",
   "metadata": {
    "scrolled": true
   },
   "outputs": [
    {
     "data": {
      "image/png": "[encoded data removed]",
      "text/plain": [
       "<Figure size 600x400 with 1 Axes>"
      ]
     },
     "metadata": {},
     "output_type": "display_data"
    }
   ],
   "source": [
    "# Plotting using Matplotlib\n",
    "plt.figure(figsize=(6, 4))\n",
    "plt.plot(df2['DATE'], df2['Average Sales Price of Houses'])\n",
    "plt.title('Average Sales Price of Houses Over Time')\n",
    "plt.xlabel('Date')\n",
    "plt.ylabel('Average Sales Price of Houses')\n",
    "plt.grid(True)\n",
    "plt.show()"
   ]
  },
  {
   "cell_type": "code",
   "execution_count": 131,
   "id": "88d3820a-d1b3-4239-ac07-01d01e92e5ac",
   "metadata": {
    "scrolled": true
   },
   "outputs": [
    {
     "data": {
      "text/html": [
       "<div>\n",
       "<style scoped>\n",
       "    .dataframe tbody tr th:only-of-type {\n",
       "        vertical-align: middle;\n",
       "    }\n",
       "\n",
       "    .dataframe tbody tr th {\n",
       "        vertical-align: top;\n",
       "    }\n",
       "\n",
       "    .dataframe thead th {\n",
       "        text-align: right;\n",
       "    }\n",
       "</style>\n",
       "<table border=\"1\" class=\"dataframe\">\n",
       "  <thead>\n",
       "    <tr style=\"text-align: right;\">\n",
       "      <th></th>\n",
       "      <th>DATE</th>\n",
       "      <th>CGBD2534</th>\n",
       "    </tr>\n",
       "  </thead>\n",
       "  <tbody>\n",
       "    <tr>\n",
       "      <th>0</th>\n",
       "      <td>2000-01-01</td>\n",
       "      <td>2.1</td>\n",
       "    </tr>\n",
       "    <tr>\n",
       "      <th>1</th>\n",
       "      <td>2000-02-01</td>\n",
       "      <td>1.4</td>\n",
       "    </tr>\n",
       "    <tr>\n",
       "      <th>2</th>\n",
       "      <td>2000-03-01</td>\n",
       "      <td>1.6</td>\n",
       "    </tr>\n",
       "    <tr>\n",
       "      <th>3</th>\n",
       "      <td>2000-04-01</td>\n",
       "      <td>1.5</td>\n",
       "    </tr>\n",
       "    <tr>\n",
       "      <th>4</th>\n",
       "      <td>2000-05-01</td>\n",
       "      <td>1.9</td>\n",
       "    </tr>\n",
       "  </tbody>\n",
       "</table>\n",
       "</div>"
      ],
      "text/plain": [
       "         DATE  CGBD2534\n",
       "0  2000-01-01       2.1\n",
       "1  2000-02-01       1.4\n",
       "2  2000-03-01       1.6\n",
       "3  2000-04-01       1.5\n",
       "4  2000-05-01       1.9"
      ]
     },
     "execution_count": 131,
     "metadata": {},
     "output_type": "execute_result"
    }
   ],
   "source": [
    "dataset3.head()"
   ]
  },
  {
   "cell_type": "code",
   "execution_count": 132,
   "id": "8cac8e52-3a53-4a52-b094-e0a3b06fde8c",
   "metadata": {
    "scrolled": true
   },
   "outputs": [
    {
     "data": {
      "text/html": [
       "<div>\n",
       "<style scoped>\n",
       "    .dataframe tbody tr th:only-of-type {\n",
       "        vertical-align: middle;\n",
       "    }\n",
       "\n",
       "    .dataframe tbody tr th {\n",
       "        vertical-align: top;\n",
       "    }\n",
       "\n",
       "    .dataframe thead th {\n",
       "        text-align: right;\n",
       "    }\n",
       "</style>\n",
       "<table border=\"1\" class=\"dataframe\">\n",
       "  <thead>\n",
       "    <tr style=\"text-align: right;\">\n",
       "      <th></th>\n",
       "      <th>DATE</th>\n",
       "      <th>CGBD2534</th>\n",
       "    </tr>\n",
       "  </thead>\n",
       "  <tbody>\n",
       "    <tr>\n",
       "      <th>282</th>\n",
       "      <td>2023-07-01</td>\n",
       "      <td>3.1</td>\n",
       "    </tr>\n",
       "    <tr>\n",
       "      <th>283</th>\n",
       "      <td>2023-08-01</td>\n",
       "      <td>3.1</td>\n",
       "    </tr>\n",
       "    <tr>\n",
       "      <th>284</th>\n",
       "      <td>2023-09-01</td>\n",
       "      <td>2.7</td>\n",
       "    </tr>\n",
       "    <tr>\n",
       "      <th>285</th>\n",
       "      <td>2023-10-01</td>\n",
       "      <td>3.1</td>\n",
       "    </tr>\n",
       "    <tr>\n",
       "      <th>286</th>\n",
       "      <td>2023-11-01</td>\n",
       "      <td>2.7</td>\n",
       "    </tr>\n",
       "  </tbody>\n",
       "</table>\n",
       "</div>"
      ],
      "text/plain": [
       "           DATE  CGBD2534\n",
       "282  2023-07-01       3.1\n",
       "283  2023-08-01       3.1\n",
       "284  2023-09-01       2.7\n",
       "285  2023-10-01       3.1\n",
       "286  2023-11-01       2.7"
      ]
     },
     "execution_count": 132,
     "metadata": {},
     "output_type": "execute_result"
    }
   ],
   "source": [
    "dataset3.tail()"
   ]
  },
  {
   "cell_type": "code",
   "execution_count": 133,
   "id": "ef9e26e0-0adf-425d-a77a-aa9ce343583a",
   "metadata": {
    "scrolled": true
   },
   "outputs": [
    {
     "name": "stdout",
     "output_type": "stream",
     "text": [
      "<class 'pandas.core.frame.DataFrame'>\n",
      "RangeIndex: 287 entries, 0 to 286\n",
      "Data columns (total 2 columns):\n",
      " #   Column    Non-Null Count  Dtype  \n",
      "---  ------    --------------  -----  \n",
      " 0   DATE      287 non-null    object \n",
      " 1   CGBD2534  287 non-null    float64\n",
      "dtypes: float64(1), object(1)\n",
      "memory usage: 4.6+ KB\n"
     ]
    }
   ],
   "source": [
    "dataset3.info()"
   ]
  },
  {
   "cell_type": "code",
   "execution_count": 134,
   "id": "83e153cf-e32a-4ef2-a1cf-6262a6f48680",
   "metadata": {},
   "outputs": [],
   "source": [
    " dataset3.rename(columns ={'CGBD2534':'Unemployment Rate'},inplace = True)"
   ]
  },
  {
   "cell_type": "code",
   "execution_count": 135,
   "id": "49fc6bb0-ac5d-4840-8a98-46c8f7e3e1b0",
   "metadata": {},
   "outputs": [],
   "source": [
    "dataset3['DATE'] = pd.to_datetime(dataset3['DATE'])"
   ]
  },
  {
   "cell_type": "code",
   "execution_count": 136,
   "id": "5ee18c93-a68a-4573-ae98-d1d0e98836a6",
   "metadata": {
    "scrolled": true
   },
   "outputs": [
    {
     "name": "stdout",
     "output_type": "stream",
     "text": [
      "<class 'pandas.core.frame.DataFrame'>\n",
      "RangeIndex: 287 entries, 0 to 286\n",
      "Data columns (total 2 columns):\n",
      " #   Column             Non-Null Count  Dtype         \n",
      "---  ------             --------------  -----         \n",
      " 0   DATE               287 non-null    datetime64[ns]\n",
      " 1   Unemployment Rate  287 non-null    float64       \n",
      "dtypes: datetime64[ns](1), float64(1)\n",
      "memory usage: 4.6 KB\n"
     ]
    }
   ],
   "source": [
    "dataset3.info()"
   ]
  },
  {
   "cell_type": "code",
   "execution_count": 137,
   "id": "c17de6ea-e14c-4d33-ae03-ded386074331",
   "metadata": {},
   "outputs": [],
   "source": [
    "# Filter the DataFrame for the last 20 years \n",
    "df3 = dataset3[(dataset3['DATE'].dt.year >= start_year) & (dataset3['DATE'].dt.year <= end_year)]"
   ]
  },
  {
   "cell_type": "code",
   "execution_count": 138,
   "id": "60a2c910-73ca-4752-8b88-fec8830f847d",
   "metadata": {
    "scrolled": true
   },
   "outputs": [
    {
     "data": {
      "text/html": [
       "<div>\n",
       "<style scoped>\n",
       "    .dataframe tbody tr th:only-of-type {\n",
       "        vertical-align: middle;\n",
       "    }\n",
       "\n",
       "    .dataframe tbody tr th {\n",
       "        vertical-align: top;\n",
       "    }\n",
       "\n",
       "    .dataframe thead th {\n",
       "        text-align: right;\n",
       "    }\n",
       "</style>\n",
       "<table border=\"1\" class=\"dataframe\">\n",
       "  <thead>\n",
       "    <tr style=\"text-align: right;\">\n",
       "      <th></th>\n",
       "      <th>DATE</th>\n",
       "      <th>Unemployment Rate</th>\n",
       "    </tr>\n",
       "  </thead>\n",
       "  <tbody>\n",
       "    <tr>\n",
       "      <th>36</th>\n",
       "      <td>2003-01-01</td>\n",
       "      <td>3.9</td>\n",
       "    </tr>\n",
       "    <tr>\n",
       "      <th>37</th>\n",
       "      <td>2003-02-01</td>\n",
       "      <td>3.1</td>\n",
       "    </tr>\n",
       "    <tr>\n",
       "      <th>38</th>\n",
       "      <td>2003-03-01</td>\n",
       "      <td>3.2</td>\n",
       "    </tr>\n",
       "    <tr>\n",
       "      <th>39</th>\n",
       "      <td>2003-04-01</td>\n",
       "      <td>3.2</td>\n",
       "    </tr>\n",
       "    <tr>\n",
       "      <th>40</th>\n",
       "      <td>2003-05-01</td>\n",
       "      <td>2.9</td>\n",
       "    </tr>\n",
       "    <tr>\n",
       "      <th>...</th>\n",
       "      <td>...</td>\n",
       "      <td>...</td>\n",
       "    </tr>\n",
       "    <tr>\n",
       "      <th>282</th>\n",
       "      <td>2023-07-01</td>\n",
       "      <td>3.1</td>\n",
       "    </tr>\n",
       "    <tr>\n",
       "      <th>283</th>\n",
       "      <td>2023-08-01</td>\n",
       "      <td>3.1</td>\n",
       "    </tr>\n",
       "    <tr>\n",
       "      <th>284</th>\n",
       "      <td>2023-09-01</td>\n",
       "      <td>2.7</td>\n",
       "    </tr>\n",
       "    <tr>\n",
       "      <th>285</th>\n",
       "      <td>2023-10-01</td>\n",
       "      <td>3.1</td>\n",
       "    </tr>\n",
       "    <tr>\n",
       "      <th>286</th>\n",
       "      <td>2023-11-01</td>\n",
       "      <td>2.7</td>\n",
       "    </tr>\n",
       "  </tbody>\n",
       "</table>\n",
       "<p>251 rows × 2 columns</p>\n",
       "</div>"
      ],
      "text/plain": [
       "          DATE  Unemployment Rate\n",
       "36  2003-01-01                3.9\n",
       "37  2003-02-01                3.1\n",
       "38  2003-03-01                3.2\n",
       "39  2003-04-01                3.2\n",
       "40  2003-05-01                2.9\n",
       "..         ...                ...\n",
       "282 2023-07-01                3.1\n",
       "283 2023-08-01                3.1\n",
       "284 2023-09-01                2.7\n",
       "285 2023-10-01                3.1\n",
       "286 2023-11-01                2.7\n",
       "\n",
       "[251 rows x 2 columns]"
      ]
     },
     "execution_count": 138,
     "metadata": {},
     "output_type": "execute_result"
    }
   ],
   "source": [
    "df3"
   ]
  },
  {
   "cell_type": "code",
   "execution_count": 140,
   "id": "94777e1b-82d9-4c27-bb66-255d80293040",
   "metadata": {
    "scrolled": true
   },
   "outputs": [
    {
     "data": {
      "text/plain": [
       "DATE                 0\n",
       "Unemployment Rate    0\n",
       "dtype: int64"
      ]
     },
     "execution_count": 140,
     "metadata": {},
     "output_type": "execute_result"
    }
   ],
   "source": [
    "df3.isnull().sum()"
   ]
  },
  {
   "cell_type": "code",
   "execution_count": 141,
   "id": "69ffedba-9fbe-4fe2-a23f-02440f125980",
   "metadata": {
    "scrolled": true
   },
   "outputs": [
    {
     "data": {
      "text/html": [
       "<div>\n",
       "<style scoped>\n",
       "    .dataframe tbody tr th:only-of-type {\n",
       "        vertical-align: middle;\n",
       "    }\n",
       "\n",
       "    .dataframe tbody tr th {\n",
       "        vertical-align: top;\n",
       "    }\n",
       "\n",
       "    .dataframe thead th {\n",
       "        text-align: right;\n",
       "    }\n",
       "</style>\n",
       "<table border=\"1\" class=\"dataframe\">\n",
       "  <thead>\n",
       "    <tr style=\"text-align: right;\">\n",
       "      <th></th>\n",
       "      <th>DATE</th>\n",
       "      <th>Unemployment Rate</th>\n",
       "    </tr>\n",
       "  </thead>\n",
       "  <tbody>\n",
       "    <tr>\n",
       "      <th>count</th>\n",
       "      <td>251</td>\n",
       "      <td>251.000000</td>\n",
       "    </tr>\n",
       "    <tr>\n",
       "      <th>mean</th>\n",
       "      <td>2013-06-01 02:23:25.577689344</td>\n",
       "      <td>3.411952</td>\n",
       "    </tr>\n",
       "    <tr>\n",
       "      <th>min</th>\n",
       "      <td>2003-01-01 00:00:00</td>\n",
       "      <td>1.500000</td>\n",
       "    </tr>\n",
       "    <tr>\n",
       "      <th>25%</th>\n",
       "      <td>2008-03-16 12:00:00</td>\n",
       "      <td>2.500000</td>\n",
       "    </tr>\n",
       "    <tr>\n",
       "      <th>50%</th>\n",
       "      <td>2013-06-01 00:00:00</td>\n",
       "      <td>2.900000</td>\n",
       "    </tr>\n",
       "    <tr>\n",
       "      <th>75%</th>\n",
       "      <td>2018-08-16 12:00:00</td>\n",
       "      <td>4.100000</td>\n",
       "    </tr>\n",
       "    <tr>\n",
       "      <th>max</th>\n",
       "      <td>2023-11-01 00:00:00</td>\n",
       "      <td>10.600000</td>\n",
       "    </tr>\n",
       "    <tr>\n",
       "      <th>std</th>\n",
       "      <td>NaN</td>\n",
       "      <td>1.380528</td>\n",
       "    </tr>\n",
       "  </tbody>\n",
       "</table>\n",
       "</div>"
      ],
      "text/plain": [
       "                                DATE  Unemployment Rate\n",
       "count                            251         251.000000\n",
       "mean   2013-06-01 02:23:25.577689344           3.411952\n",
       "min              2003-01-01 00:00:00           1.500000\n",
       "25%              2008-03-16 12:00:00           2.500000\n",
       "50%              2013-06-01 00:00:00           2.900000\n",
       "75%              2018-08-16 12:00:00           4.100000\n",
       "max              2023-11-01 00:00:00          10.600000\n",
       "std                              NaN           1.380528"
      ]
     },
     "execution_count": 141,
     "metadata": {},
     "output_type": "execute_result"
    }
   ],
   "source": [
    "df3.describe()"
   ]
  },
  {
   "cell_type": "code",
   "execution_count": 142,
   "id": "c746adf6-b285-419a-b9de-0ff03ebb388c",
   "metadata": {
    "scrolled": true
   },
   "outputs": [
    {
     "data": {
      "image/png": "[encoded data removed]",
      "text/plain": [
       "<Figure size 600x400 with 1 Axes>"
      ]
     },
     "metadata": {},
     "output_type": "display_data"
    }
   ],
   "source": [
    "# Plotting using Matplotlib\n",
    "plt.figure(figsize=(6, 4))\n",
    "plt.plot(df3['DATE'], df3['Unemployment Rate'])\n",
    "plt.title('Unemployment Rate Over Time')\n",
    "plt.xlabel('Date')\n",
    "plt.ylabel('Unemployment Rate')\n",
    "plt.grid(True)\n",
    "plt.show()"
   ]
  },
  {
   "cell_type": "code",
   "execution_count": 143,
   "id": "999fb563-5e30-4273-8694-55af151d9eb2",
   "metadata": {
    "scrolled": true
   },
   "outputs": [
    {
     "data": {
      "text/html": [
       "<div>\n",
       "<style scoped>\n",
       "    .dataframe tbody tr th:only-of-type {\n",
       "        vertical-align: middle;\n",
       "    }\n",
       "\n",
       "    .dataframe tbody tr th {\n",
       "        vertical-align: top;\n",
       "    }\n",
       "\n",
       "    .dataframe thead th {\n",
       "        text-align: right;\n",
       "    }\n",
       "</style>\n",
       "<table border=\"1\" class=\"dataframe\">\n",
       "  <thead>\n",
       "    <tr style=\"text-align: right;\">\n",
       "      <th></th>\n",
       "      <th>DATE</th>\n",
       "      <th>CSUSHPINSA</th>\n",
       "    </tr>\n",
       "  </thead>\n",
       "  <tbody>\n",
       "    <tr>\n",
       "      <th>0</th>\n",
       "      <td>1987-01-01</td>\n",
       "      <td>63.735</td>\n",
       "    </tr>\n",
       "    <tr>\n",
       "      <th>1</th>\n",
       "      <td>1987-02-01</td>\n",
       "      <td>64.135</td>\n",
       "    </tr>\n",
       "    <tr>\n",
       "      <th>2</th>\n",
       "      <td>1987-03-01</td>\n",
       "      <td>64.470</td>\n",
       "    </tr>\n",
       "    <tr>\n",
       "      <th>3</th>\n",
       "      <td>1987-04-01</td>\n",
       "      <td>64.973</td>\n",
       "    </tr>\n",
       "    <tr>\n",
       "      <th>4</th>\n",
       "      <td>1987-05-01</td>\n",
       "      <td>65.547</td>\n",
       "    </tr>\n",
       "  </tbody>\n",
       "</table>\n",
       "</div>"
      ],
      "text/plain": [
       "         DATE  CSUSHPINSA\n",
       "0  1987-01-01      63.735\n",
       "1  1987-02-01      64.135\n",
       "2  1987-03-01      64.470\n",
       "3  1987-04-01      64.973\n",
       "4  1987-05-01      65.547"
      ]
     },
     "execution_count": 143,
     "metadata": {},
     "output_type": "execute_result"
    }
   ],
   "source": [
    "dataset4.head()"
   ]
  },
  {
   "cell_type": "code",
   "execution_count": 144,
   "id": "4ff1724d-a577-4c58-a1fc-82915eaafd41",
   "metadata": {},
   "outputs": [
    {
     "data": {
      "text/html": [
       "<div>\n",
       "<style scoped>\n",
       "    .dataframe tbody tr th:only-of-type {\n",
       "        vertical-align: middle;\n",
       "    }\n",
       "\n",
       "    .dataframe tbody tr th {\n",
       "        vertical-align: top;\n",
       "    }\n",
       "\n",
       "    .dataframe thead th {\n",
       "        text-align: right;\n",
       "    }\n",
       "</style>\n",
       "<table border=\"1\" class=\"dataframe\">\n",
       "  <thead>\n",
       "    <tr style=\"text-align: right;\">\n",
       "      <th></th>\n",
       "      <th>DATE</th>\n",
       "      <th>CSUSHPINSA</th>\n",
       "    </tr>\n",
       "  </thead>\n",
       "  <tbody>\n",
       "    <tr>\n",
       "      <th>436</th>\n",
       "      <td>2023-05-01</td>\n",
       "      <td>305.410</td>\n",
       "    </tr>\n",
       "    <tr>\n",
       "      <th>437</th>\n",
       "      <td>2023-06-01</td>\n",
       "      <td>308.282</td>\n",
       "    </tr>\n",
       "    <tr>\n",
       "      <th>438</th>\n",
       "      <td>2023-07-01</td>\n",
       "      <td>310.110</td>\n",
       "    </tr>\n",
       "    <tr>\n",
       "      <th>439</th>\n",
       "      <td>2023-08-01</td>\n",
       "      <td>311.392</td>\n",
       "    </tr>\n",
       "    <tr>\n",
       "      <th>440</th>\n",
       "      <td>2023-09-01</td>\n",
       "      <td>312.313</td>\n",
       "    </tr>\n",
       "  </tbody>\n",
       "</table>\n",
       "</div>"
      ],
      "text/plain": [
       "           DATE  CSUSHPINSA\n",
       "436  2023-05-01     305.410\n",
       "437  2023-06-01     308.282\n",
       "438  2023-07-01     310.110\n",
       "439  2023-08-01     311.392\n",
       "440  2023-09-01     312.313"
      ]
     },
     "execution_count": 144,
     "metadata": {},
     "output_type": "execute_result"
    }
   ],
   "source": [
    "dataset4.tail()"
   ]
  },
  {
   "cell_type": "code",
   "execution_count": 145,
   "id": "366f0b92-8992-447c-8d6f-6d74064d7b75",
   "metadata": {
    "scrolled": true
   },
   "outputs": [
    {
     "name": "stdout",
     "output_type": "stream",
     "text": [
      "<class 'pandas.core.frame.DataFrame'>\n",
      "RangeIndex: 441 entries, 0 to 440\n",
      "Data columns (total 2 columns):\n",
      " #   Column      Non-Null Count  Dtype  \n",
      "---  ------      --------------  -----  \n",
      " 0   DATE        441 non-null    object \n",
      " 1   CSUSHPINSA  441 non-null    float64\n",
      "dtypes: float64(1), object(1)\n",
      "memory usage: 7.0+ KB\n"
     ]
    }
   ],
   "source": [
    "dataset4.info()"
   ]
  },
  {
   "cell_type": "code",
   "execution_count": 146,
   "id": "3c9ce68b-8e71-4c42-823f-d5cb6e62bac0",
   "metadata": {},
   "outputs": [],
   "source": [
    " dataset4.rename(columns ={'CSUSHPINSA':'Home Price Index'},inplace = True)"
   ]
  },
  {
   "cell_type": "code",
   "execution_count": 147,
   "id": "97de9283-be06-4393-951b-d5ebb4faee9e",
   "metadata": {},
   "outputs": [],
   "source": [
    "dataset4['DATE'] = pd.to_datetime(dataset4['DATE'])"
   ]
  },
  {
   "cell_type": "code",
   "execution_count": 148,
   "id": "68e89d49-c60b-44f5-824d-721c1abc9329",
   "metadata": {
    "scrolled": true
   },
   "outputs": [
    {
     "name": "stdout",
     "output_type": "stream",
     "text": [
      "<class 'pandas.core.frame.DataFrame'>\n",
      "RangeIndex: 441 entries, 0 to 440\n",
      "Data columns (total 2 columns):\n",
      " #   Column            Non-Null Count  Dtype         \n",
      "---  ------            --------------  -----         \n",
      " 0   DATE              441 non-null    datetime64[ns]\n",
      " 1   Home Price Index  441 non-null    float64       \n",
      "dtypes: datetime64[ns](1), float64(1)\n",
      "memory usage: 7.0 KB\n"
     ]
    }
   ],
   "source": [
    "dataset4.info()"
   ]
  },
  {
   "cell_type": "code",
   "execution_count": 149,
   "id": "4bbd857b-2dcb-4c70-9abe-a2dbee23de0f",
   "metadata": {},
   "outputs": [],
   "source": [
    "# Filter the DataFrame for the last 20 years \n",
    "df4 = dataset4[(dataset4['DATE'].dt.year >= start_year) & (dataset4['DATE'].dt.year <= end_year)]"
   ]
  },
  {
   "cell_type": "code",
   "execution_count": 150,
   "id": "594a1003-81c6-425f-8bd7-b5d709c3202d",
   "metadata": {
    "scrolled": true
   },
   "outputs": [
    {
     "data": {
      "text/html": [
       "<div>\n",
       "<style scoped>\n",
       "    .dataframe tbody tr th:only-of-type {\n",
       "        vertical-align: middle;\n",
       "    }\n",
       "\n",
       "    .dataframe tbody tr th {\n",
       "        vertical-align: top;\n",
       "    }\n",
       "\n",
       "    .dataframe thead th {\n",
       "        text-align: right;\n",
       "    }\n",
       "</style>\n",
       "<table border=\"1\" class=\"dataframe\">\n",
       "  <thead>\n",
       "    <tr style=\"text-align: right;\">\n",
       "      <th></th>\n",
       "      <th>DATE</th>\n",
       "      <th>Home Price Index</th>\n",
       "    </tr>\n",
       "  </thead>\n",
       "  <tbody>\n",
       "    <tr>\n",
       "      <th>192</th>\n",
       "      <td>2003-01-01</td>\n",
       "      <td>127.652</td>\n",
       "    </tr>\n",
       "    <tr>\n",
       "      <th>193</th>\n",
       "      <td>2003-02-01</td>\n",
       "      <td>128.326</td>\n",
       "    </tr>\n",
       "    <tr>\n",
       "      <th>194</th>\n",
       "      <td>2003-03-01</td>\n",
       "      <td>129.308</td>\n",
       "    </tr>\n",
       "    <tr>\n",
       "      <th>195</th>\n",
       "      <td>2003-04-01</td>\n",
       "      <td>130.488</td>\n",
       "    </tr>\n",
       "    <tr>\n",
       "      <th>196</th>\n",
       "      <td>2003-05-01</td>\n",
       "      <td>131.839</td>\n",
       "    </tr>\n",
       "    <tr>\n",
       "      <th>...</th>\n",
       "      <td>...</td>\n",
       "      <td>...</td>\n",
       "    </tr>\n",
       "    <tr>\n",
       "      <th>436</th>\n",
       "      <td>2023-05-01</td>\n",
       "      <td>305.410</td>\n",
       "    </tr>\n",
       "    <tr>\n",
       "      <th>437</th>\n",
       "      <td>2023-06-01</td>\n",
       "      <td>308.282</td>\n",
       "    </tr>\n",
       "    <tr>\n",
       "      <th>438</th>\n",
       "      <td>2023-07-01</td>\n",
       "      <td>310.110</td>\n",
       "    </tr>\n",
       "    <tr>\n",
       "      <th>439</th>\n",
       "      <td>2023-08-01</td>\n",
       "      <td>311.392</td>\n",
       "    </tr>\n",
       "    <tr>\n",
       "      <th>440</th>\n",
       "      <td>2023-09-01</td>\n",
       "      <td>312.313</td>\n",
       "    </tr>\n",
       "  </tbody>\n",
       "</table>\n",
       "<p>249 rows × 2 columns</p>\n",
       "</div>"
      ],
      "text/plain": [
       "          DATE  Home Price Index\n",
       "192 2003-01-01           127.652\n",
       "193 2003-02-01           128.326\n",
       "194 2003-03-01           129.308\n",
       "195 2003-04-01           130.488\n",
       "196 2003-05-01           131.839\n",
       "..         ...               ...\n",
       "436 2023-05-01           305.410\n",
       "437 2023-06-01           308.282\n",
       "438 2023-07-01           310.110\n",
       "439 2023-08-01           311.392\n",
       "440 2023-09-01           312.313\n",
       "\n",
       "[249 rows x 2 columns]"
      ]
     },
     "execution_count": 150,
     "metadata": {},
     "output_type": "execute_result"
    }
   ],
   "source": [
    "df4"
   ]
  },
  {
   "cell_type": "code",
   "execution_count": 151,
   "id": "1957945c-bd8b-4c1a-b689-def7fd136428",
   "metadata": {
    "scrolled": true
   },
   "outputs": [
    {
     "data": {
      "text/plain": [
       "DATE                0\n",
       "Home Price Index    0\n",
       "dtype: int64"
      ]
     },
     "execution_count": 151,
     "metadata": {},
     "output_type": "execute_result"
    }
   ],
   "source": [
    "df4.isnull().sum()"
   ]
  },
  {
   "cell_type": "code",
   "execution_count": 152,
   "id": "a85f3d41-2eca-4985-8601-4281a8b12554",
   "metadata": {
    "scrolled": true
   },
   "outputs": [
    {
     "data": {
      "text/html": [
       "<div>\n",
       "<style scoped>\n",
       "    .dataframe tbody tr th:only-of-type {\n",
       "        vertical-align: middle;\n",
       "    }\n",
       "\n",
       "    .dataframe tbody tr th {\n",
       "        vertical-align: top;\n",
       "    }\n",
       "\n",
       "    .dataframe thead th {\n",
       "        text-align: right;\n",
       "    }\n",
       "</style>\n",
       "<table border=\"1\" class=\"dataframe\">\n",
       "  <thead>\n",
       "    <tr style=\"text-align: right;\">\n",
       "      <th></th>\n",
       "      <th>DATE</th>\n",
       "      <th>Home Price Index</th>\n",
       "    </tr>\n",
       "  </thead>\n",
       "  <tbody>\n",
       "    <tr>\n",
       "      <th>count</th>\n",
       "      <td>249</td>\n",
       "      <td>249.000000</td>\n",
       "    </tr>\n",
       "    <tr>\n",
       "      <th>mean</th>\n",
       "      <td>2013-05-01 15:54:13.012048128</td>\n",
       "      <td>185.104944</td>\n",
       "    </tr>\n",
       "    <tr>\n",
       "      <th>min</th>\n",
       "      <td>2003-01-01 00:00:00</td>\n",
       "      <td>127.652000</td>\n",
       "    </tr>\n",
       "    <tr>\n",
       "      <th>25%</th>\n",
       "      <td>2008-03-01 00:00:00</td>\n",
       "      <td>148.585000</td>\n",
       "    </tr>\n",
       "    <tr>\n",
       "      <th>50%</th>\n",
       "      <td>2013-05-01 00:00:00</td>\n",
       "      <td>175.038000</td>\n",
       "    </tr>\n",
       "    <tr>\n",
       "      <th>75%</th>\n",
       "      <td>2018-07-01 00:00:00</td>\n",
       "      <td>204.209000</td>\n",
       "    </tr>\n",
       "    <tr>\n",
       "      <th>max</th>\n",
       "      <td>2023-09-01 00:00:00</td>\n",
       "      <td>312.313000</td>\n",
       "    </tr>\n",
       "    <tr>\n",
       "      <th>std</th>\n",
       "      <td>NaN</td>\n",
       "      <td>46.650931</td>\n",
       "    </tr>\n",
       "  </tbody>\n",
       "</table>\n",
       "</div>"
      ],
      "text/plain": [
       "                                DATE  Home Price Index\n",
       "count                            249        249.000000\n",
       "mean   2013-05-01 15:54:13.012048128        185.104944\n",
       "min              2003-01-01 00:00:00        127.652000\n",
       "25%              2008-03-01 00:00:00        148.585000\n",
       "50%              2013-05-01 00:00:00        175.038000\n",
       "75%              2018-07-01 00:00:00        204.209000\n",
       "max              2023-09-01 00:00:00        312.313000\n",
       "std                              NaN         46.650931"
      ]
     },
     "execution_count": 152,
     "metadata": {},
     "output_type": "execute_result"
    }
   ],
   "source": [
    "df4.describe()"
   ]
  },
  {
   "cell_type": "code",
   "execution_count": 153,
   "id": "d67629d3-daf3-4b2a-8193-fbb1135c1091",
   "metadata": {
    "scrolled": true
   },
   "outputs": [
    {
     "data": {
      "image/png": "[encoded data removed]",
      "text/plain": [
       "<Figure size 640x480 with 1 Axes>"
      ]
     },
     "metadata": {},
     "output_type": "display_data"
    }
   ],
   "source": [
    "sns.histplot(df4['Home Price Index'], kde=True)\n",
    "plt.title('Distribution of Home Price Index')\n",
    "plt.xlabel('Home Price Index')\n",
    "plt.ylabel('Frequency')\n",
    "plt.show()"
   ]
  },
  {
   "cell_type": "code",
   "execution_count": 154,
   "id": "d40154fa-742c-4204-b0df-046c2c18181e",
   "metadata": {
    "scrolled": true
   },
   "outputs": [
    {
     "data": {
      "image/png": "[encoded data removed]",
      "text/plain": [
       "<Figure size 600x400 with 1 Axes>"
      ]
     },
     "metadata": {},
     "output_type": "display_data"
    }
   ],
   "source": [
    "# Plotting using Matplotlib\n",
    "plt.figure(figsize=(6, 4))\n",
    "plt.plot(df4['DATE'], df4['Home Price Index'])\n",
    "plt.title('Home Price Index Rate Over Time')\n",
    "plt.xlabel('Date')\n",
    "plt.ylabel('Home Price Index')\n",
    "plt.grid(True)\n",
    "plt.show()"
   ]
  },
  {
   "cell_type": "code",
   "execution_count": 155,
   "id": "dbbb3f3d-bcea-4a8e-9b1c-832099768f04",
   "metadata": {
    "scrolled": true
   },
   "outputs": [
    {
     "data": {
      "text/html": [
       "<div>\n",
       "<style scoped>\n",
       "    .dataframe tbody tr th:only-of-type {\n",
       "        vertical-align: middle;\n",
       "    }\n",
       "\n",
       "    .dataframe tbody tr th {\n",
       "        vertical-align: top;\n",
       "    }\n",
       "\n",
       "    .dataframe thead th {\n",
       "        text-align: right;\n",
       "    }\n",
       "</style>\n",
       "<table border=\"1\" class=\"dataframe\">\n",
       "  <thead>\n",
       "    <tr style=\"text-align: right;\">\n",
       "      <th></th>\n",
       "      <th>DATE</th>\n",
       "      <th>CUUR0000SEHA</th>\n",
       "    </tr>\n",
       "  </thead>\n",
       "  <tbody>\n",
       "    <tr>\n",
       "      <th>0</th>\n",
       "      <td>1914-12-01</td>\n",
       "      <td>21.000</td>\n",
       "    </tr>\n",
       "    <tr>\n",
       "      <th>1</th>\n",
       "      <td>1915-01-01</td>\n",
       "      <td>.</td>\n",
       "    </tr>\n",
       "    <tr>\n",
       "      <th>2</th>\n",
       "      <td>1915-02-01</td>\n",
       "      <td>.</td>\n",
       "    </tr>\n",
       "    <tr>\n",
       "      <th>3</th>\n",
       "      <td>1915-03-01</td>\n",
       "      <td>.</td>\n",
       "    </tr>\n",
       "    <tr>\n",
       "      <th>4</th>\n",
       "      <td>1915-04-01</td>\n",
       "      <td>.</td>\n",
       "    </tr>\n",
       "  </tbody>\n",
       "</table>\n",
       "</div>"
      ],
      "text/plain": [
       "         DATE CUUR0000SEHA\n",
       "0  1914-12-01       21.000\n",
       "1  1915-01-01            .\n",
       "2  1915-02-01            .\n",
       "3  1915-03-01            .\n",
       "4  1915-04-01            ."
      ]
     },
     "execution_count": 155,
     "metadata": {},
     "output_type": "execute_result"
    }
   ],
   "source": [
    "dataset5.head()"
   ]
  },
  {
   "cell_type": "code",
   "execution_count": 156,
   "id": "09f1f11e-aa4c-4ca5-b744-771f281b5485",
   "metadata": {
    "scrolled": true
   },
   "outputs": [
    {
     "data": {
      "text/html": [
       "<div>\n",
       "<style scoped>\n",
       "    .dataframe tbody tr th:only-of-type {\n",
       "        vertical-align: middle;\n",
       "    }\n",
       "\n",
       "    .dataframe tbody tr th {\n",
       "        vertical-align: top;\n",
       "    }\n",
       "\n",
       "    .dataframe thead th {\n",
       "        text-align: right;\n",
       "    }\n",
       "</style>\n",
       "<table border=\"1\" class=\"dataframe\">\n",
       "  <thead>\n",
       "    <tr style=\"text-align: right;\">\n",
       "      <th></th>\n",
       "      <th>DATE</th>\n",
       "      <th>CUUR0000SEHA</th>\n",
       "    </tr>\n",
       "  </thead>\n",
       "  <tbody>\n",
       "    <tr>\n",
       "      <th>1302</th>\n",
       "      <td>2023-06-01</td>\n",
       "      <td>398.593</td>\n",
       "    </tr>\n",
       "    <tr>\n",
       "      <th>1303</th>\n",
       "      <td>2023-07-01</td>\n",
       "      <td>400.210</td>\n",
       "    </tr>\n",
       "    <tr>\n",
       "      <th>1304</th>\n",
       "      <td>2023-08-01</td>\n",
       "      <td>402.247</td>\n",
       "    </tr>\n",
       "    <tr>\n",
       "      <th>1305</th>\n",
       "      <td>2023-09-01</td>\n",
       "      <td>404.487</td>\n",
       "    </tr>\n",
       "    <tr>\n",
       "      <th>1306</th>\n",
       "      <td>2023-10-01</td>\n",
       "      <td>406.683</td>\n",
       "    </tr>\n",
       "  </tbody>\n",
       "</table>\n",
       "</div>"
      ],
      "text/plain": [
       "            DATE CUUR0000SEHA\n",
       "1302  2023-06-01      398.593\n",
       "1303  2023-07-01      400.210\n",
       "1304  2023-08-01      402.247\n",
       "1305  2023-09-01      404.487\n",
       "1306  2023-10-01      406.683"
      ]
     },
     "execution_count": 156,
     "metadata": {},
     "output_type": "execute_result"
    }
   ],
   "source": [
    "dataset5.tail()"
   ]
  },
  {
   "cell_type": "code",
   "execution_count": 157,
   "id": "335e5d2f-b156-41f9-985c-5a54dc5aecdb",
   "metadata": {
    "scrolled": true
   },
   "outputs": [
    {
     "name": "stdout",
     "output_type": "stream",
     "text": [
      "<class 'pandas.core.frame.DataFrame'>\n",
      "RangeIndex: 1307 entries, 0 to 1306\n",
      "Data columns (total 2 columns):\n",
      " #   Column        Non-Null Count  Dtype \n",
      "---  ------        --------------  ----- \n",
      " 0   DATE          1307 non-null   object\n",
      " 1   CUUR0000SEHA  1307 non-null   object\n",
      "dtypes: object(2)\n",
      "memory usage: 20.5+ KB\n"
     ]
    }
   ],
   "source": [
    "dataset5.info()"
   ]
  },
  {
   "cell_type": "code",
   "execution_count": 158,
   "id": "f8565ff3-c330-4896-afa5-bea1c8c44f4b",
   "metadata": {},
   "outputs": [],
   "source": [
    " dataset5.rename(columns ={'CUUR0000SEHA':'CPI: Rent of Residence Average'},inplace = True) # CPI Stands for: Consumer Price Index"
   ]
  },
  {
   "cell_type": "code",
   "execution_count": 159,
   "id": "4fc582a1-0e5b-43f5-a0b9-6eb0709f720d",
   "metadata": {},
   "outputs": [],
   "source": [
    "dataset5['DATE'] = pd.to_datetime(dataset5['DATE'])"
   ]
  },
  {
   "cell_type": "code",
   "execution_count": 160,
   "id": "e02767fb-f027-45e6-84e7-4435a0a785ff",
   "metadata": {
    "scrolled": true
   },
   "outputs": [
    {
     "name": "stdout",
     "output_type": "stream",
     "text": [
      "<class 'pandas.core.frame.DataFrame'>\n",
      "RangeIndex: 1307 entries, 0 to 1306\n",
      "Data columns (total 2 columns):\n",
      " #   Column                          Non-Null Count  Dtype         \n",
      "---  ------                          --------------  -----         \n",
      " 0   DATE                            1307 non-null   datetime64[ns]\n",
      " 1   CPI: Rent of Residence Average  1307 non-null   object        \n",
      "dtypes: datetime64[ns](1), object(1)\n",
      "memory usage: 20.5+ KB\n"
     ]
    }
   ],
   "source": [
    "dataset5.info()"
   ]
  },
  {
   "cell_type": "code",
   "execution_count": 161,
   "id": "5785832e-55d8-434c-bc42-fc693e301104",
   "metadata": {},
   "outputs": [],
   "source": [
    "# Filter the DataFrame for the last 20 years \n",
    "df5 = dataset5[(dataset5['DATE'].dt.year >= start_year) & (dataset5['DATE'].dt.year <= end_year)]"
   ]
  },
  {
   "cell_type": "code",
   "execution_count": 162,
   "id": "7884ad7a-53f8-4219-a93c-af429a56c584",
   "metadata": {
    "scrolled": true
   },
   "outputs": [
    {
     "data": {
      "text/html": [
       "<div>\n",
       "<style scoped>\n",
       "    .dataframe tbody tr th:only-of-type {\n",
       "        vertical-align: middle;\n",
       "    }\n",
       "\n",
       "    .dataframe tbody tr th {\n",
       "        vertical-align: top;\n",
       "    }\n",
       "\n",
       "    .dataframe thead th {\n",
       "        text-align: right;\n",
       "    }\n",
       "</style>\n",
       "<table border=\"1\" class=\"dataframe\">\n",
       "  <thead>\n",
       "    <tr style=\"text-align: right;\">\n",
       "      <th></th>\n",
       "      <th>DATE</th>\n",
       "      <th>CPI: Rent of Residence Average</th>\n",
       "    </tr>\n",
       "  </thead>\n",
       "  <tbody>\n",
       "    <tr>\n",
       "      <th>1057</th>\n",
       "      <td>2003-01-01</td>\n",
       "      <td>203.300</td>\n",
       "    </tr>\n",
       "    <tr>\n",
       "      <th>1058</th>\n",
       "      <td>2003-02-01</td>\n",
       "      <td>203.700</td>\n",
       "    </tr>\n",
       "    <tr>\n",
       "      <th>1059</th>\n",
       "      <td>2003-03-01</td>\n",
       "      <td>204.100</td>\n",
       "    </tr>\n",
       "    <tr>\n",
       "      <th>1060</th>\n",
       "      <td>2003-04-01</td>\n",
       "      <td>204.500</td>\n",
       "    </tr>\n",
       "    <tr>\n",
       "      <th>1061</th>\n",
       "      <td>2003-05-01</td>\n",
       "      <td>204.900</td>\n",
       "    </tr>\n",
       "    <tr>\n",
       "      <th>...</th>\n",
       "      <td>...</td>\n",
       "      <td>...</td>\n",
       "    </tr>\n",
       "    <tr>\n",
       "      <th>1302</th>\n",
       "      <td>2023-06-01</td>\n",
       "      <td>398.593</td>\n",
       "    </tr>\n",
       "    <tr>\n",
       "      <th>1303</th>\n",
       "      <td>2023-07-01</td>\n",
       "      <td>400.210</td>\n",
       "    </tr>\n",
       "    <tr>\n",
       "      <th>1304</th>\n",
       "      <td>2023-08-01</td>\n",
       "      <td>402.247</td>\n",
       "    </tr>\n",
       "    <tr>\n",
       "      <th>1305</th>\n",
       "      <td>2023-09-01</td>\n",
       "      <td>404.487</td>\n",
       "    </tr>\n",
       "    <tr>\n",
       "      <th>1306</th>\n",
       "      <td>2023-10-01</td>\n",
       "      <td>406.683</td>\n",
       "    </tr>\n",
       "  </tbody>\n",
       "</table>\n",
       "<p>250 rows × 2 columns</p>\n",
       "</div>"
      ],
      "text/plain": [
       "           DATE CPI: Rent of Residence Average\n",
       "1057 2003-01-01                        203.300\n",
       "1058 2003-02-01                        203.700\n",
       "1059 2003-03-01                        204.100\n",
       "1060 2003-04-01                        204.500\n",
       "1061 2003-05-01                        204.900\n",
       "...         ...                            ...\n",
       "1302 2023-06-01                        398.593\n",
       "1303 2023-07-01                        400.210\n",
       "1304 2023-08-01                        402.247\n",
       "1305 2023-09-01                        404.487\n",
       "1306 2023-10-01                        406.683\n",
       "\n",
       "[250 rows x 2 columns]"
      ]
     },
     "execution_count": 162,
     "metadata": {},
     "output_type": "execute_result"
    }
   ],
   "source": [
    "df5"
   ]
  },
  {
   "cell_type": "code",
   "execution_count": 163,
   "id": "222f00eb-5826-4b65-98b8-2a38e4aaca08",
   "metadata": {
    "scrolled": true
   },
   "outputs": [
    {
     "data": {
      "text/plain": [
       "DATE                              0\n",
       "CPI: Rent of Residence Average    0\n",
       "dtype: int64"
      ]
     },
     "execution_count": 163,
     "metadata": {},
     "output_type": "execute_result"
    }
   ],
   "source": [
    "df5.isnull().sum()"
   ]
  },
  {
   "cell_type": "code",
   "execution_count": 165,
   "id": "ef571951-6ba3-414c-ab21-26d3a7cfd3b5",
   "metadata": {
    "scrolled": true
   },
   "outputs": [
    {
     "data": {
      "image/png": "[encoded data removed]",
      "text/plain": [
       "<Figure size 600x400 with 1 Axes>"
      ]
     },
     "metadata": {},
     "output_type": "display_data"
    }
   ],
   "source": [
    "# Plotting using Matplotlib\n",
    "plt.figure(figsize=(6, 4))\n",
    "plt.plot(df5['DATE'], df5['CPI: Rent of Residence Average'])\n",
    "plt.title('CPI: Rent of Residence Average Over Time')\n",
    "plt.xlabel('Date')\n",
    "plt.ylabel('CPI: Rent of Residence Average')\n",
    "plt.grid(True)\n",
    "plt.show()"
   ]
  },
  {
   "cell_type": "code",
   "execution_count": 166,
   "id": "9c256962-4616-417d-b58c-76f8e86776e8",
   "metadata": {
    "scrolled": true
   },
   "outputs": [
    {
     "data": {
      "text/html": [
       "<div>\n",
       "<style scoped>\n",
       "    .dataframe tbody tr th:only-of-type {\n",
       "        vertical-align: middle;\n",
       "    }\n",
       "\n",
       "    .dataframe tbody tr th {\n",
       "        vertical-align: top;\n",
       "    }\n",
       "\n",
       "    .dataframe thead th {\n",
       "        text-align: right;\n",
       "    }\n",
       "</style>\n",
       "<table border=\"1\" class=\"dataframe\">\n",
       "  <thead>\n",
       "    <tr style=\"text-align: right;\">\n",
       "      <th></th>\n",
       "      <th>DATE</th>\n",
       "      <th>MICH</th>\n",
       "    </tr>\n",
       "  </thead>\n",
       "  <tbody>\n",
       "    <tr>\n",
       "      <th>0</th>\n",
       "      <td>1978-01-01</td>\n",
       "      <td>5.2</td>\n",
       "    </tr>\n",
       "    <tr>\n",
       "      <th>1</th>\n",
       "      <td>1978-02-01</td>\n",
       "      <td>6.4</td>\n",
       "    </tr>\n",
       "    <tr>\n",
       "      <th>2</th>\n",
       "      <td>1978-03-01</td>\n",
       "      <td>6.3</td>\n",
       "    </tr>\n",
       "    <tr>\n",
       "      <th>3</th>\n",
       "      <td>1978-04-01</td>\n",
       "      <td>6.7</td>\n",
       "    </tr>\n",
       "    <tr>\n",
       "      <th>4</th>\n",
       "      <td>1978-05-01</td>\n",
       "      <td>6.9</td>\n",
       "    </tr>\n",
       "  </tbody>\n",
       "</table>\n",
       "</div>"
      ],
      "text/plain": [
       "         DATE  MICH\n",
       "0  1978-01-01   5.2\n",
       "1  1978-02-01   6.4\n",
       "2  1978-03-01   6.3\n",
       "3  1978-04-01   6.7\n",
       "4  1978-05-01   6.9"
      ]
     },
     "execution_count": 166,
     "metadata": {},
     "output_type": "execute_result"
    }
   ],
   "source": [
    "dataset6.head()"
   ]
  },
  {
   "cell_type": "code",
   "execution_count": 168,
   "id": "837a4ba0-fd67-438b-8840-9ffcf5f96bba",
   "metadata": {},
   "outputs": [
    {
     "data": {
      "text/html": [
       "<div>\n",
       "<style scoped>\n",
       "    .dataframe tbody tr th:only-of-type {\n",
       "        vertical-align: middle;\n",
       "    }\n",
       "\n",
       "    .dataframe tbody tr th {\n",
       "        vertical-align: top;\n",
       "    }\n",
       "\n",
       "    .dataframe thead th {\n",
       "        text-align: right;\n",
       "    }\n",
       "</style>\n",
       "<table border=\"1\" class=\"dataframe\">\n",
       "  <thead>\n",
       "    <tr style=\"text-align: right;\">\n",
       "      <th></th>\n",
       "      <th>DATE</th>\n",
       "      <th>MICH</th>\n",
       "    </tr>\n",
       "  </thead>\n",
       "  <tbody>\n",
       "    <tr>\n",
       "      <th>545</th>\n",
       "      <td>2023-06-01</td>\n",
       "      <td>3.3</td>\n",
       "    </tr>\n",
       "    <tr>\n",
       "      <th>546</th>\n",
       "      <td>2023-07-01</td>\n",
       "      <td>3.4</td>\n",
       "    </tr>\n",
       "    <tr>\n",
       "      <th>547</th>\n",
       "      <td>2023-08-01</td>\n",
       "      <td>3.5</td>\n",
       "    </tr>\n",
       "    <tr>\n",
       "      <th>548</th>\n",
       "      <td>2023-09-01</td>\n",
       "      <td>3.2</td>\n",
       "    </tr>\n",
       "    <tr>\n",
       "      <th>549</th>\n",
       "      <td>2023-10-01</td>\n",
       "      <td>4.2</td>\n",
       "    </tr>\n",
       "  </tbody>\n",
       "</table>\n",
       "</div>"
      ],
      "text/plain": [
       "           DATE  MICH\n",
       "545  2023-06-01   3.3\n",
       "546  2023-07-01   3.4\n",
       "547  2023-08-01   3.5\n",
       "548  2023-09-01   3.2\n",
       "549  2023-10-01   4.2"
      ]
     },
     "execution_count": 168,
     "metadata": {},
     "output_type": "execute_result"
    }
   ],
   "source": [
    "dataset6.tail()"
   ]
  },
  {
   "cell_type": "code",
   "execution_count": 169,
   "id": "8e8664c8-9941-476d-8d65-77ee618c6326",
   "metadata": {},
   "outputs": [
    {
     "name": "stdout",
     "output_type": "stream",
     "text": [
      "<class 'pandas.core.frame.DataFrame'>\n",
      "RangeIndex: 550 entries, 0 to 549\n",
      "Data columns (total 2 columns):\n",
      " #   Column  Non-Null Count  Dtype  \n",
      "---  ------  --------------  -----  \n",
      " 0   DATE    550 non-null    object \n",
      " 1   MICH    550 non-null    float64\n",
      "dtypes: float64(1), object(1)\n",
      "memory usage: 8.7+ KB\n"
     ]
    }
   ],
   "source": [
    "dataset6.info()"
   ]
  },
  {
   "cell_type": "code",
   "execution_count": 170,
   "id": "5ad5d3ac-4071-4b36-8e9f-777dddbf6a64",
   "metadata": {},
   "outputs": [],
   "source": [
    " dataset6.rename(columns ={'MICH':'CSI:Inflation Expectations'},inplace = True) # CSI Stands for:Consumer Sentiment Index"
   ]
  },
  {
   "cell_type": "code",
   "execution_count": 171,
   "id": "60e2252a-3c3e-40b6-98bf-90ce68454446",
   "metadata": {},
   "outputs": [],
   "source": [
    "dataset6['DATE'] = pd.to_datetime(dataset6['DATE'])"
   ]
  },
  {
   "cell_type": "code",
   "execution_count": 172,
   "id": "368841b0-9d3c-4366-8fb3-f204db7583e9",
   "metadata": {
    "scrolled": true
   },
   "outputs": [
    {
     "name": "stdout",
     "output_type": "stream",
     "text": [
      "<class 'pandas.core.frame.DataFrame'>\n",
      "RangeIndex: 550 entries, 0 to 549\n",
      "Data columns (total 2 columns):\n",
      " #   Column                      Non-Null Count  Dtype         \n",
      "---  ------                      --------------  -----         \n",
      " 0   DATE                        550 non-null    datetime64[ns]\n",
      " 1   CSI:Inflation Expectations  550 non-null    float64       \n",
      "dtypes: datetime64[ns](1), float64(1)\n",
      "memory usage: 8.7 KB\n"
     ]
    }
   ],
   "source": [
    "dataset6.info()"
   ]
  },
  {
   "cell_type": "code",
   "execution_count": 173,
   "id": "10e23ab5-7edd-405b-a5a3-e821446828aa",
   "metadata": {},
   "outputs": [],
   "source": [
    "# Filter the DataFrame for the last 20 years \n",
    "df6 = dataset6[(dataset6['DATE'].dt.year >= 2003) & (dataset6['DATE'].dt.year <= 2023)]"
   ]
  },
  {
   "cell_type": "code",
   "execution_count": 174,
   "id": "cd3084e6-3a35-4578-a472-0275f5b18c3c",
   "metadata": {
    "scrolled": true
   },
   "outputs": [
    {
     "data": {
      "text/html": [
       "<div>\n",
       "<style scoped>\n",
       "    .dataframe tbody tr th:only-of-type {\n",
       "        vertical-align: middle;\n",
       "    }\n",
       "\n",
       "    .dataframe tbody tr th {\n",
       "        vertical-align: top;\n",
       "    }\n",
       "\n",
       "    .dataframe thead th {\n",
       "        text-align: right;\n",
       "    }\n",
       "</style>\n",
       "<table border=\"1\" class=\"dataframe\">\n",
       "  <thead>\n",
       "    <tr style=\"text-align: right;\">\n",
       "      <th></th>\n",
       "      <th>DATE</th>\n",
       "      <th>CSI:Inflation Expectations</th>\n",
       "    </tr>\n",
       "  </thead>\n",
       "  <tbody>\n",
       "    <tr>\n",
       "      <th>300</th>\n",
       "      <td>2003-01-01</td>\n",
       "      <td>2.5</td>\n",
       "    </tr>\n",
       "    <tr>\n",
       "      <th>301</th>\n",
       "      <td>2003-02-01</td>\n",
       "      <td>2.7</td>\n",
       "    </tr>\n",
       "    <tr>\n",
       "      <th>302</th>\n",
       "      <td>2003-03-01</td>\n",
       "      <td>3.1</td>\n",
       "    </tr>\n",
       "    <tr>\n",
       "      <th>303</th>\n",
       "      <td>2003-04-01</td>\n",
       "      <td>2.4</td>\n",
       "    </tr>\n",
       "    <tr>\n",
       "      <th>304</th>\n",
       "      <td>2003-05-01</td>\n",
       "      <td>2.0</td>\n",
       "    </tr>\n",
       "    <tr>\n",
       "      <th>...</th>\n",
       "      <td>...</td>\n",
       "      <td>...</td>\n",
       "    </tr>\n",
       "    <tr>\n",
       "      <th>545</th>\n",
       "      <td>2023-06-01</td>\n",
       "      <td>3.3</td>\n",
       "    </tr>\n",
       "    <tr>\n",
       "      <th>546</th>\n",
       "      <td>2023-07-01</td>\n",
       "      <td>3.4</td>\n",
       "    </tr>\n",
       "    <tr>\n",
       "      <th>547</th>\n",
       "      <td>2023-08-01</td>\n",
       "      <td>3.5</td>\n",
       "    </tr>\n",
       "    <tr>\n",
       "      <th>548</th>\n",
       "      <td>2023-09-01</td>\n",
       "      <td>3.2</td>\n",
       "    </tr>\n",
       "    <tr>\n",
       "      <th>549</th>\n",
       "      <td>2023-10-01</td>\n",
       "      <td>4.2</td>\n",
       "    </tr>\n",
       "  </tbody>\n",
       "</table>\n",
       "<p>250 rows × 2 columns</p>\n",
       "</div>"
      ],
      "text/plain": [
       "          DATE  CSI:Inflation Expectations\n",
       "300 2003-01-01                         2.5\n",
       "301 2003-02-01                         2.7\n",
       "302 2003-03-01                         3.1\n",
       "303 2003-04-01                         2.4\n",
       "304 2003-05-01                         2.0\n",
       "..         ...                         ...\n",
       "545 2023-06-01                         3.3\n",
       "546 2023-07-01                         3.4\n",
       "547 2023-08-01                         3.5\n",
       "548 2023-09-01                         3.2\n",
       "549 2023-10-01                         4.2\n",
       "\n",
       "[250 rows x 2 columns]"
      ]
     },
     "execution_count": 174,
     "metadata": {},
     "output_type": "execute_result"
    }
   ],
   "source": [
    "df6"
   ]
  },
  {
   "cell_type": "code",
   "execution_count": 176,
   "id": "07a31297-6189-40bf-bc37-9c2102c348ee",
   "metadata": {
    "scrolled": true
   },
   "outputs": [
    {
     "data": {
      "text/plain": [
       "DATE                          0\n",
       "CSI:Inflation Expectations    0\n",
       "dtype: int64"
      ]
     },
     "execution_count": 176,
     "metadata": {},
     "output_type": "execute_result"
    }
   ],
   "source": [
    "df6.isnull().sum()"
   ]
  },
  {
   "cell_type": "code",
   "execution_count": 175,
   "id": "13ce1f27-3c49-449d-b05f-27ba6772eb18",
   "metadata": {},
   "outputs": [
    {
     "data": {
      "text/html": [
       "<div>\n",
       "<style scoped>\n",
       "    .dataframe tbody tr th:only-of-type {\n",
       "        vertical-align: middle;\n",
       "    }\n",
       "\n",
       "    .dataframe tbody tr th {\n",
       "        vertical-align: top;\n",
       "    }\n",
       "\n",
       "    .dataframe thead th {\n",
       "        text-align: right;\n",
       "    }\n",
       "</style>\n",
       "<table border=\"1\" class=\"dataframe\">\n",
       "  <thead>\n",
       "    <tr style=\"text-align: right;\">\n",
       "      <th></th>\n",
       "      <th>DATE</th>\n",
       "      <th>CSI:Inflation Expectations</th>\n",
       "    </tr>\n",
       "  </thead>\n",
       "  <tbody>\n",
       "    <tr>\n",
       "      <th>count</th>\n",
       "      <td>250</td>\n",
       "      <td>250.00000</td>\n",
       "    </tr>\n",
       "    <tr>\n",
       "      <th>mean</th>\n",
       "      <td>2013-05-16 21:07:12</td>\n",
       "      <td>3.16920</td>\n",
       "    </tr>\n",
       "    <tr>\n",
       "      <th>min</th>\n",
       "      <td>2003-01-01 00:00:00</td>\n",
       "      <td>1.70000</td>\n",
       "    </tr>\n",
       "    <tr>\n",
       "      <th>25%</th>\n",
       "      <td>2008-03-08 18:00:00</td>\n",
       "      <td>2.70000</td>\n",
       "    </tr>\n",
       "    <tr>\n",
       "      <th>50%</th>\n",
       "      <td>2013-05-16 12:00:00</td>\n",
       "      <td>3.00000</td>\n",
       "    </tr>\n",
       "    <tr>\n",
       "      <th>75%</th>\n",
       "      <td>2018-07-24 06:00:00</td>\n",
       "      <td>3.30000</td>\n",
       "    </tr>\n",
       "    <tr>\n",
       "      <th>max</th>\n",
       "      <td>2023-10-01 00:00:00</td>\n",
       "      <td>5.40000</td>\n",
       "    </tr>\n",
       "    <tr>\n",
       "      <th>std</th>\n",
       "      <td>NaN</td>\n",
       "      <td>0.75206</td>\n",
       "    </tr>\n",
       "  </tbody>\n",
       "</table>\n",
       "</div>"
      ],
      "text/plain": [
       "                      DATE  CSI:Inflation Expectations\n",
       "count                  250                   250.00000\n",
       "mean   2013-05-16 21:07:12                     3.16920\n",
       "min    2003-01-01 00:00:00                     1.70000\n",
       "25%    2008-03-08 18:00:00                     2.70000\n",
       "50%    2013-05-16 12:00:00                     3.00000\n",
       "75%    2018-07-24 06:00:00                     3.30000\n",
       "max    2023-10-01 00:00:00                     5.40000\n",
       "std                    NaN                     0.75206"
      ]
     },
     "execution_count": 175,
     "metadata": {},
     "output_type": "execute_result"
    }
   ],
   "source": [
    "df6.describe()"
   ]
  },
  {
   "cell_type": "code",
   "execution_count": 177,
   "id": "9a297906-518c-4850-91b9-fb2a83ab1fcc",
   "metadata": {
    "scrolled": true
   },
   "outputs": [
    {
     "data": {
      "image/png": "[encoded data removed]",
      "text/plain": [
       "<Figure size 600x400 with 1 Axes>"
      ]
     },
     "metadata": {},
     "output_type": "display_data"
    }
   ],
   "source": [
    "# Plotting using Matplotlib\n",
    "plt.figure(figsize=(6, 4))\n",
    "plt.plot(df6['DATE'], df6['CSI:Inflation Expectations'])\n",
    "plt.title('CSI:Inflation Expectations Over Time')\n",
    "plt.xlabel('Date')\n",
    "plt.ylabel('CSI:Inflation Expectations')\n",
    "plt.grid(True)\n",
    "plt.show()"
   ]
  },
  {
   "cell_type": "code",
   "execution_count": 178,
   "id": "060bf93e-71fd-4f50-bdcb-66a7ca224bba",
   "metadata": {
    "scrolled": true
   },
   "outputs": [
    {
     "data": {
      "text/html": [
       "<div>\n",
       "<style scoped>\n",
       "    .dataframe tbody tr th:only-of-type {\n",
       "        vertical-align: middle;\n",
       "    }\n",
       "\n",
       "    .dataframe tbody tr th {\n",
       "        vertical-align: top;\n",
       "    }\n",
       "\n",
       "    .dataframe thead th {\n",
       "        text-align: right;\n",
       "    }\n",
       "</style>\n",
       "<table border=\"1\" class=\"dataframe\">\n",
       "  <thead>\n",
       "    <tr style=\"text-align: right;\">\n",
       "      <th></th>\n",
       "      <th>DATE</th>\n",
       "      <th>MEHOINUSA672N</th>\n",
       "    </tr>\n",
       "  </thead>\n",
       "  <tbody>\n",
       "    <tr>\n",
       "      <th>0</th>\n",
       "      <td>1984-01-01</td>\n",
       "      <td>56780</td>\n",
       "    </tr>\n",
       "    <tr>\n",
       "      <th>1</th>\n",
       "      <td>1985-01-01</td>\n",
       "      <td>57860</td>\n",
       "    </tr>\n",
       "    <tr>\n",
       "      <th>2</th>\n",
       "      <td>1986-01-01</td>\n",
       "      <td>60010</td>\n",
       "    </tr>\n",
       "    <tr>\n",
       "      <th>3</th>\n",
       "      <td>1987-01-01</td>\n",
       "      <td>60760</td>\n",
       "    </tr>\n",
       "    <tr>\n",
       "      <th>4</th>\n",
       "      <td>1988-01-01</td>\n",
       "      <td>61210</td>\n",
       "    </tr>\n",
       "  </tbody>\n",
       "</table>\n",
       "</div>"
      ],
      "text/plain": [
       "         DATE  MEHOINUSA672N\n",
       "0  1984-01-01          56780\n",
       "1  1985-01-01          57860\n",
       "2  1986-01-01          60010\n",
       "3  1987-01-01          60760\n",
       "4  1988-01-01          61210"
      ]
     },
     "execution_count": 178,
     "metadata": {},
     "output_type": "execute_result"
    }
   ],
   "source": [
    "dataset7.head()"
   ]
  },
  {
   "cell_type": "code",
   "execution_count": 179,
   "id": "08448271-2a5e-4ffd-884b-99d253c6c0c0",
   "metadata": {},
   "outputs": [
    {
     "data": {
      "text/html": [
       "<div>\n",
       "<style scoped>\n",
       "    .dataframe tbody tr th:only-of-type {\n",
       "        vertical-align: middle;\n",
       "    }\n",
       "\n",
       "    .dataframe tbody tr th {\n",
       "        vertical-align: top;\n",
       "    }\n",
       "\n",
       "    .dataframe thead th {\n",
       "        text-align: right;\n",
       "    }\n",
       "</style>\n",
       "<table border=\"1\" class=\"dataframe\">\n",
       "  <thead>\n",
       "    <tr style=\"text-align: right;\">\n",
       "      <th></th>\n",
       "      <th>DATE</th>\n",
       "      <th>MEHOINUSA672N</th>\n",
       "    </tr>\n",
       "  </thead>\n",
       "  <tbody>\n",
       "    <tr>\n",
       "      <th>34</th>\n",
       "      <td>2018-01-01</td>\n",
       "      <td>73030</td>\n",
       "    </tr>\n",
       "    <tr>\n",
       "      <th>35</th>\n",
       "      <td>2019-01-01</td>\n",
       "      <td>78250</td>\n",
       "    </tr>\n",
       "    <tr>\n",
       "      <th>36</th>\n",
       "      <td>2020-01-01</td>\n",
       "      <td>76660</td>\n",
       "    </tr>\n",
       "    <tr>\n",
       "      <th>37</th>\n",
       "      <td>2021-01-01</td>\n",
       "      <td>76330</td>\n",
       "    </tr>\n",
       "    <tr>\n",
       "      <th>38</th>\n",
       "      <td>2022-01-01</td>\n",
       "      <td>74580</td>\n",
       "    </tr>\n",
       "  </tbody>\n",
       "</table>\n",
       "</div>"
      ],
      "text/plain": [
       "          DATE  MEHOINUSA672N\n",
       "34  2018-01-01          73030\n",
       "35  2019-01-01          78250\n",
       "36  2020-01-01          76660\n",
       "37  2021-01-01          76330\n",
       "38  2022-01-01          74580"
      ]
     },
     "execution_count": 179,
     "metadata": {},
     "output_type": "execute_result"
    }
   ],
   "source": [
    "dataset7.tail()"
   ]
  },
  {
   "cell_type": "code",
   "execution_count": 180,
   "id": "100400de-75ca-4ff3-834d-8f9666e523a4",
   "metadata": {
    "scrolled": true
   },
   "outputs": [
    {
     "name": "stdout",
     "output_type": "stream",
     "text": [
      "<class 'pandas.core.frame.DataFrame'>\n",
      "RangeIndex: 39 entries, 0 to 38\n",
      "Data columns (total 2 columns):\n",
      " #   Column         Non-Null Count  Dtype \n",
      "---  ------         --------------  ----- \n",
      " 0   DATE           39 non-null     object\n",
      " 1   MEHOINUSA672N  39 non-null     int64 \n",
      "dtypes: int64(1), object(1)\n",
      "memory usage: 752.0+ bytes\n"
     ]
    }
   ],
   "source": [
    "dataset7.info()"
   ]
  },
  {
   "cell_type": "code",
   "execution_count": 181,
   "id": "3bf37286-e98e-4136-9118-e8a095ea02bb",
   "metadata": {},
   "outputs": [],
   "source": [
    "dataset7.rename(columns ={'MEHOINUSA672N':'Median Household Income'},inplace = True)"
   ]
  },
  {
   "cell_type": "code",
   "execution_count": 182,
   "id": "77f3efd0-e792-45ee-b6c6-2b6eec653359",
   "metadata": {},
   "outputs": [],
   "source": [
    "dataset7['DATE'] = pd.to_datetime(dataset7['DATE'])"
   ]
  },
  {
   "cell_type": "code",
   "execution_count": 183,
   "id": "d20aceb3-0810-42fa-b29e-b68d8fbb3a6d",
   "metadata": {
    "scrolled": true
   },
   "outputs": [
    {
     "name": "stdout",
     "output_type": "stream",
     "text": [
      "<class 'pandas.core.frame.DataFrame'>\n",
      "RangeIndex: 39 entries, 0 to 38\n",
      "Data columns (total 2 columns):\n",
      " #   Column                   Non-Null Count  Dtype         \n",
      "---  ------                   --------------  -----         \n",
      " 0   DATE                     39 non-null     datetime64[ns]\n",
      " 1   Median Household Income  39 non-null     int64         \n",
      "dtypes: datetime64[ns](1), int64(1)\n",
      "memory usage: 752.0 bytes\n"
     ]
    }
   ],
   "source": [
    "dataset7.info()"
   ]
  },
  {
   "cell_type": "code",
   "execution_count": 184,
   "id": "51616b24-2c3a-46f4-9997-169a63d4deb7",
   "metadata": {},
   "outputs": [],
   "source": [
    "# Filter the DataFrame for the last 20 years \n",
    "df7 = dataset7[(dataset7['DATE'].dt.year >= 2003) & (dataset7['DATE'].dt.year <= 2022)]"
   ]
  },
  {
   "cell_type": "code",
   "execution_count": 185,
   "id": "26869813-da38-468e-8fd7-47ca02ef75f0",
   "metadata": {
    "scrolled": true
   },
   "outputs": [
    {
     "data": {
      "text/html": [
       "<div>\n",
       "<style scoped>\n",
       "    .dataframe tbody tr th:only-of-type {\n",
       "        vertical-align: middle;\n",
       "    }\n",
       "\n",
       "    .dataframe tbody tr th {\n",
       "        vertical-align: top;\n",
       "    }\n",
       "\n",
       "    .dataframe thead th {\n",
       "        text-align: right;\n",
       "    }\n",
       "</style>\n",
       "<table border=\"1\" class=\"dataframe\">\n",
       "  <thead>\n",
       "    <tr style=\"text-align: right;\">\n",
       "      <th></th>\n",
       "      <th>DATE</th>\n",
       "      <th>Median Household Income</th>\n",
       "    </tr>\n",
       "  </thead>\n",
       "  <tbody>\n",
       "    <tr>\n",
       "      <th>19</th>\n",
       "      <td>2003-01-01</td>\n",
       "      <td>65860</td>\n",
       "    </tr>\n",
       "    <tr>\n",
       "      <th>20</th>\n",
       "      <td>2004-01-01</td>\n",
       "      <td>65760</td>\n",
       "    </tr>\n",
       "    <tr>\n",
       "      <th>21</th>\n",
       "      <td>2005-01-01</td>\n",
       "      <td>66780</td>\n",
       "    </tr>\n",
       "    <tr>\n",
       "      <th>22</th>\n",
       "      <td>2006-01-01</td>\n",
       "      <td>67520</td>\n",
       "    </tr>\n",
       "    <tr>\n",
       "      <th>23</th>\n",
       "      <td>2007-01-01</td>\n",
       "      <td>68610</td>\n",
       "    </tr>\n",
       "    <tr>\n",
       "      <th>24</th>\n",
       "      <td>2008-01-01</td>\n",
       "      <td>66280</td>\n",
       "    </tr>\n",
       "    <tr>\n",
       "      <th>25</th>\n",
       "      <td>2009-01-01</td>\n",
       "      <td>65850</td>\n",
       "    </tr>\n",
       "    <tr>\n",
       "      <th>26</th>\n",
       "      <td>2010-01-01</td>\n",
       "      <td>64300</td>\n",
       "    </tr>\n",
       "    <tr>\n",
       "      <th>27</th>\n",
       "      <td>2011-01-01</td>\n",
       "      <td>63350</td>\n",
       "    </tr>\n",
       "    <tr>\n",
       "      <th>28</th>\n",
       "      <td>2012-01-01</td>\n",
       "      <td>63350</td>\n",
       "    </tr>\n",
       "    <tr>\n",
       "      <th>29</th>\n",
       "      <td>2013-01-01</td>\n",
       "      <td>65740</td>\n",
       "    </tr>\n",
       "    <tr>\n",
       "      <th>30</th>\n",
       "      <td>2014-01-01</td>\n",
       "      <td>64900</td>\n",
       "    </tr>\n",
       "    <tr>\n",
       "      <th>31</th>\n",
       "      <td>2015-01-01</td>\n",
       "      <td>68410</td>\n",
       "    </tr>\n",
       "    <tr>\n",
       "      <th>32</th>\n",
       "      <td>2016-01-01</td>\n",
       "      <td>70840</td>\n",
       "    </tr>\n",
       "    <tr>\n",
       "      <th>33</th>\n",
       "      <td>2017-01-01</td>\n",
       "      <td>72090</td>\n",
       "    </tr>\n",
       "    <tr>\n",
       "      <th>34</th>\n",
       "      <td>2018-01-01</td>\n",
       "      <td>73030</td>\n",
       "    </tr>\n",
       "    <tr>\n",
       "      <th>35</th>\n",
       "      <td>2019-01-01</td>\n",
       "      <td>78250</td>\n",
       "    </tr>\n",
       "    <tr>\n",
       "      <th>36</th>\n",
       "      <td>2020-01-01</td>\n",
       "      <td>76660</td>\n",
       "    </tr>\n",
       "    <tr>\n",
       "      <th>37</th>\n",
       "      <td>2021-01-01</td>\n",
       "      <td>76330</td>\n",
       "    </tr>\n",
       "    <tr>\n",
       "      <th>38</th>\n",
       "      <td>2022-01-01</td>\n",
       "      <td>74580</td>\n",
       "    </tr>\n",
       "  </tbody>\n",
       "</table>\n",
       "</div>"
      ],
      "text/plain": [
       "         DATE  Median Household Income\n",
       "19 2003-01-01                    65860\n",
       "20 2004-01-01                    65760\n",
       "21 2005-01-01                    66780\n",
       "22 2006-01-01                    67520\n",
       "23 2007-01-01                    68610\n",
       "24 2008-01-01                    66280\n",
       "25 2009-01-01                    65850\n",
       "26 2010-01-01                    64300\n",
       "27 2011-01-01                    63350\n",
       "28 2012-01-01                    63350\n",
       "29 2013-01-01                    65740\n",
       "30 2014-01-01                    64900\n",
       "31 2015-01-01                    68410\n",
       "32 2016-01-01                    70840\n",
       "33 2017-01-01                    72090\n",
       "34 2018-01-01                    73030\n",
       "35 2019-01-01                    78250\n",
       "36 2020-01-01                    76660\n",
       "37 2021-01-01                    76330\n",
       "38 2022-01-01                    74580"
      ]
     },
     "execution_count": 185,
     "metadata": {},
     "output_type": "execute_result"
    }
   ],
   "source": [
    "df7"
   ]
  },
  {
   "cell_type": "code",
   "execution_count": 186,
   "id": "49a3a02e-3329-4dab-a22f-9702ae2db1ad",
   "metadata": {},
   "outputs": [
    {
     "data": {
      "text/plain": [
       "DATE                       0\n",
       "Median Household Income    0\n",
       "dtype: int64"
      ]
     },
     "execution_count": 186,
     "metadata": {},
     "output_type": "execute_result"
    }
   ],
   "source": [
    "df7.isnull().sum()"
   ]
  },
  {
   "cell_type": "code",
   "execution_count": 187,
   "id": "f34b0894-7f24-4256-8ae6-2874c0f763ad",
   "metadata": {},
   "outputs": [
    {
     "data": {
      "text/html": [
       "<div>\n",
       "<style scoped>\n",
       "    .dataframe tbody tr th:only-of-type {\n",
       "        vertical-align: middle;\n",
       "    }\n",
       "\n",
       "    .dataframe tbody tr th {\n",
       "        vertical-align: top;\n",
       "    }\n",
       "\n",
       "    .dataframe thead th {\n",
       "        text-align: right;\n",
       "    }\n",
       "</style>\n",
       "<table border=\"1\" class=\"dataframe\">\n",
       "  <thead>\n",
       "    <tr style=\"text-align: right;\">\n",
       "      <th></th>\n",
       "      <th>DATE</th>\n",
       "      <th>Median Household Income</th>\n",
       "    </tr>\n",
       "  </thead>\n",
       "  <tbody>\n",
       "    <tr>\n",
       "      <th>count</th>\n",
       "      <td>20</td>\n",
       "      <td>20.000000</td>\n",
       "    </tr>\n",
       "    <tr>\n",
       "      <th>mean</th>\n",
       "      <td>2012-07-02 00:00:00</td>\n",
       "      <td>68924.500000</td>\n",
       "    </tr>\n",
       "    <tr>\n",
       "      <th>min</th>\n",
       "      <td>2003-01-01 00:00:00</td>\n",
       "      <td>63350.000000</td>\n",
       "    </tr>\n",
       "    <tr>\n",
       "      <th>25%</th>\n",
       "      <td>2007-10-01 18:00:00</td>\n",
       "      <td>65755.000000</td>\n",
       "    </tr>\n",
       "    <tr>\n",
       "      <th>50%</th>\n",
       "      <td>2012-07-02 00:00:00</td>\n",
       "      <td>67150.000000</td>\n",
       "    </tr>\n",
       "    <tr>\n",
       "      <th>75%</th>\n",
       "      <td>2017-04-02 06:00:00</td>\n",
       "      <td>72325.000000</td>\n",
       "    </tr>\n",
       "    <tr>\n",
       "      <th>max</th>\n",
       "      <td>2022-01-01 00:00:00</td>\n",
       "      <td>78250.000000</td>\n",
       "    </tr>\n",
       "    <tr>\n",
       "      <th>std</th>\n",
       "      <td>NaN</td>\n",
       "      <td>4683.867582</td>\n",
       "    </tr>\n",
       "  </tbody>\n",
       "</table>\n",
       "</div>"
      ],
      "text/plain": [
       "                      DATE  Median Household Income\n",
       "count                   20                20.000000\n",
       "mean   2012-07-02 00:00:00             68924.500000\n",
       "min    2003-01-01 00:00:00             63350.000000\n",
       "25%    2007-10-01 18:00:00             65755.000000\n",
       "50%    2012-07-02 00:00:00             67150.000000\n",
       "75%    2017-04-02 06:00:00             72325.000000\n",
       "max    2022-01-01 00:00:00             78250.000000\n",
       "std                    NaN              4683.867582"
      ]
     },
     "execution_count": 187,
     "metadata": {},
     "output_type": "execute_result"
    }
   ],
   "source": [
    "df7.describe()"
   ]
  },
  {
   "cell_type": "code",
   "execution_count": 188,
   "id": "74c59108-6f91-4157-986c-0294bdac775f",
   "metadata": {
    "scrolled": true
   },
   "outputs": [
    {
     "data": {
      "image/png": "[encoded data removed]",
      "text/plain": [
       "<Figure size 600x400 with 1 Axes>"
      ]
     },
     "metadata": {},
     "output_type": "display_data"
    }
   ],
   "source": [
    "# Plotting using Matplotlib\n",
    "plt.figure(figsize=(6, 4))\n",
    "plt.plot(df7['DATE'], df7['Median Household Income'])\n",
    "plt.title('Median Household Income Over Time')\n",
    "plt.xlabel('Date')\n",
    "plt.ylabel('Median Household Income')\n",
    "plt.grid(True)\n",
    "plt.show()"
   ]
  },
  {
   "cell_type": "code",
   "execution_count": 214,
   "id": "21e57fdd-141f-4cde-85ac-85b11433455c",
   "metadata": {
    "scrolled": true
   },
   "outputs": [
    {
     "data": {
      "text/html": [
       "<div>\n",
       "<style scoped>\n",
       "    .dataframe tbody tr th:only-of-type {\n",
       "        vertical-align: middle;\n",
       "    }\n",
       "\n",
       "    .dataframe tbody tr th {\n",
       "        vertical-align: top;\n",
       "    }\n",
       "\n",
       "    .dataframe thead th {\n",
       "        text-align: right;\n",
       "    }\n",
       "</style>\n",
       "<table border=\"1\" class=\"dataframe\">\n",
       "  <thead>\n",
       "    <tr style=\"text-align: right;\">\n",
       "      <th></th>\n",
       "      <th>DATE</th>\n",
       "      <th>ETOTALUSQ176N</th>\n",
       "    </tr>\n",
       "  </thead>\n",
       "  <tbody>\n",
       "    <tr>\n",
       "      <th>0</th>\n",
       "      <td>2000-04-01</td>\n",
       "      <td>116047.0</td>\n",
       "    </tr>\n",
       "    <tr>\n",
       "      <th>1</th>\n",
       "      <td>2000-07-01</td>\n",
       "      <td>116482.0</td>\n",
       "    </tr>\n",
       "    <tr>\n",
       "      <th>2</th>\n",
       "      <td>2000-10-01</td>\n",
       "      <td>116914.0</td>\n",
       "    </tr>\n",
       "    <tr>\n",
       "      <th>3</th>\n",
       "      <td>2001-01-01</td>\n",
       "      <td>117347.0</td>\n",
       "    </tr>\n",
       "    <tr>\n",
       "      <th>4</th>\n",
       "      <td>2001-04-01</td>\n",
       "      <td>117786.0</td>\n",
       "    </tr>\n",
       "  </tbody>\n",
       "</table>\n",
       "</div>"
      ],
      "text/plain": [
       "         DATE  ETOTALUSQ176N\n",
       "0  2000-04-01       116047.0\n",
       "1  2000-07-01       116482.0\n",
       "2  2000-10-01       116914.0\n",
       "3  2001-01-01       117347.0\n",
       "4  2001-04-01       117786.0"
      ]
     },
     "execution_count": 214,
     "metadata": {},
     "output_type": "execute_result"
    }
   ],
   "source": [
    "dataset8.head()"
   ]
  },
  {
   "cell_type": "code",
   "execution_count": 215,
   "id": "610ce4da-a0cb-49be-9f1f-9a24c95cdcd4",
   "metadata": {
    "scrolled": true
   },
   "outputs": [
    {
     "data": {
      "text/html": [
       "<div>\n",
       "<style scoped>\n",
       "    .dataframe tbody tr th:only-of-type {\n",
       "        vertical-align: middle;\n",
       "    }\n",
       "\n",
       "    .dataframe tbody tr th {\n",
       "        vertical-align: top;\n",
       "    }\n",
       "\n",
       "    .dataframe thead th {\n",
       "        text-align: right;\n",
       "    }\n",
       "</style>\n",
       "<table border=\"1\" class=\"dataframe\">\n",
       "  <thead>\n",
       "    <tr style=\"text-align: right;\">\n",
       "      <th></th>\n",
       "      <th>DATE</th>\n",
       "      <th>ETOTALUSQ176N</th>\n",
       "    </tr>\n",
       "  </thead>\n",
       "  <tbody>\n",
       "    <tr>\n",
       "      <th>89</th>\n",
       "      <td>2022-07-01</td>\n",
       "      <td>143923.0</td>\n",
       "    </tr>\n",
       "    <tr>\n",
       "      <th>90</th>\n",
       "      <td>2022-10-01</td>\n",
       "      <td>144332.0</td>\n",
       "    </tr>\n",
       "    <tr>\n",
       "      <th>91</th>\n",
       "      <td>2023-01-01</td>\n",
       "      <td>144740.0</td>\n",
       "    </tr>\n",
       "    <tr>\n",
       "      <th>92</th>\n",
       "      <td>2023-04-01</td>\n",
       "      <td>145149.0</td>\n",
       "    </tr>\n",
       "    <tr>\n",
       "      <th>93</th>\n",
       "      <td>2023-07-01</td>\n",
       "      <td>145558.0</td>\n",
       "    </tr>\n",
       "  </tbody>\n",
       "</table>\n",
       "</div>"
      ],
      "text/plain": [
       "          DATE  ETOTALUSQ176N\n",
       "89  2022-07-01       143923.0\n",
       "90  2022-10-01       144332.0\n",
       "91  2023-01-01       144740.0\n",
       "92  2023-04-01       145149.0\n",
       "93  2023-07-01       145558.0"
      ]
     },
     "execution_count": 215,
     "metadata": {},
     "output_type": "execute_result"
    }
   ],
   "source": [
    "dataset8.tail()"
   ]
  },
  {
   "cell_type": "code",
   "execution_count": 216,
   "id": "6dc30616-3b8d-49ee-a4e0-de6fdc116a12",
   "metadata": {
    "scrolled": true
   },
   "outputs": [
    {
     "name": "stdout",
     "output_type": "stream",
     "text": [
      "<class 'pandas.core.frame.DataFrame'>\n",
      "RangeIndex: 94 entries, 0 to 93\n",
      "Data columns (total 2 columns):\n",
      " #   Column         Non-Null Count  Dtype  \n",
      "---  ------         --------------  -----  \n",
      " 0   DATE           94 non-null     object \n",
      " 1   ETOTALUSQ176N  94 non-null     float64\n",
      "dtypes: float64(1), object(1)\n",
      "memory usage: 1.6+ KB\n"
     ]
    }
   ],
   "source": [
    "dataset8.info()"
   ]
  },
  {
   "cell_type": "code",
   "execution_count": 217,
   "id": "3616f2f7-b7d8-4231-b76d-b55ddf4a43a7",
   "metadata": {},
   "outputs": [],
   "source": [
    "dataset8.rename(columns={'ETOTALUSQ176N':'Housing Inventory Estimate'}, inplace=True)"
   ]
  },
  {
   "cell_type": "code",
   "execution_count": 218,
   "id": "e18059cb-d26c-4a36-9675-f068d3660407",
   "metadata": {},
   "outputs": [],
   "source": [
    "dataset8['DATE'] = pd.to_datetime(dataset8['DATE'])"
   ]
  },
  {
   "cell_type": "code",
   "execution_count": 219,
   "id": "fcc0846a-3a35-4992-9b75-cd76c78bf998",
   "metadata": {
    "scrolled": true
   },
   "outputs": [
    {
     "name": "stdout",
     "output_type": "stream",
     "text": [
      "<class 'pandas.core.frame.DataFrame'>\n",
      "RangeIndex: 94 entries, 0 to 93\n",
      "Data columns (total 2 columns):\n",
      " #   Column                      Non-Null Count  Dtype         \n",
      "---  ------                      --------------  -----         \n",
      " 0   DATE                        94 non-null     datetime64[ns]\n",
      " 1   Housing Inventory Estimate  94 non-null     float64       \n",
      "dtypes: datetime64[ns](1), float64(1)\n",
      "memory usage: 1.6 KB\n"
     ]
    }
   ],
   "source": [
    "dataset8.info()"
   ]
  },
  {
   "cell_type": "code",
   "execution_count": 220,
   "id": "56043de7-2f96-40a1-a759-6493c83bd850",
   "metadata": {},
   "outputs": [],
   "source": [
    "# Filter the DataFrame for the last 20 years \n",
    "df8 = dataset8[(dataset8['DATE'].dt.year >= start_year) & (dataset8['DATE'].dt.year <= end_year)]"
   ]
  },
  {
   "cell_type": "code",
   "execution_count": 221,
   "id": "9967dca7-755d-418d-9cc2-5b8b1134a006",
   "metadata": {
    "scrolled": true
   },
   "outputs": [
    {
     "data": {
      "text/html": [
       "<div>\n",
       "<style scoped>\n",
       "    .dataframe tbody tr th:only-of-type {\n",
       "        vertical-align: middle;\n",
       "    }\n",
       "\n",
       "    .dataframe tbody tr th {\n",
       "        vertical-align: top;\n",
       "    }\n",
       "\n",
       "    .dataframe thead th {\n",
       "        text-align: right;\n",
       "    }\n",
       "</style>\n",
       "<table border=\"1\" class=\"dataframe\">\n",
       "  <thead>\n",
       "    <tr style=\"text-align: right;\">\n",
       "      <th></th>\n",
       "      <th>DATE</th>\n",
       "      <th>Housing Inventory Estimate</th>\n",
       "    </tr>\n",
       "  </thead>\n",
       "  <tbody>\n",
       "    <tr>\n",
       "      <th>11</th>\n",
       "      <td>2003-01-01</td>\n",
       "      <td>120792.0</td>\n",
       "    </tr>\n",
       "    <tr>\n",
       "      <th>12</th>\n",
       "      <td>2003-04-01</td>\n",
       "      <td>121233.0</td>\n",
       "    </tr>\n",
       "    <tr>\n",
       "      <th>13</th>\n",
       "      <td>2003-07-01</td>\n",
       "      <td>121682.0</td>\n",
       "    </tr>\n",
       "    <tr>\n",
       "      <th>14</th>\n",
       "      <td>2003-10-01</td>\n",
       "      <td>122159.0</td>\n",
       "    </tr>\n",
       "    <tr>\n",
       "      <th>15</th>\n",
       "      <td>2004-01-01</td>\n",
       "      <td>122632.0</td>\n",
       "    </tr>\n",
       "    <tr>\n",
       "      <th>...</th>\n",
       "      <td>...</td>\n",
       "      <td>...</td>\n",
       "    </tr>\n",
       "    <tr>\n",
       "      <th>89</th>\n",
       "      <td>2022-07-01</td>\n",
       "      <td>143923.0</td>\n",
       "    </tr>\n",
       "    <tr>\n",
       "      <th>90</th>\n",
       "      <td>2022-10-01</td>\n",
       "      <td>144332.0</td>\n",
       "    </tr>\n",
       "    <tr>\n",
       "      <th>91</th>\n",
       "      <td>2023-01-01</td>\n",
       "      <td>144740.0</td>\n",
       "    </tr>\n",
       "    <tr>\n",
       "      <th>92</th>\n",
       "      <td>2023-04-01</td>\n",
       "      <td>145149.0</td>\n",
       "    </tr>\n",
       "    <tr>\n",
       "      <th>93</th>\n",
       "      <td>2023-07-01</td>\n",
       "      <td>145558.0</td>\n",
       "    </tr>\n",
       "  </tbody>\n",
       "</table>\n",
       "<p>83 rows × 2 columns</p>\n",
       "</div>"
      ],
      "text/plain": [
       "         DATE  Housing Inventory Estimate\n",
       "11 2003-01-01                    120792.0\n",
       "12 2003-04-01                    121233.0\n",
       "13 2003-07-01                    121682.0\n",
       "14 2003-10-01                    122159.0\n",
       "15 2004-01-01                    122632.0\n",
       "..        ...                         ...\n",
       "89 2022-07-01                    143923.0\n",
       "90 2022-10-01                    144332.0\n",
       "91 2023-01-01                    144740.0\n",
       "92 2023-04-01                    145149.0\n",
       "93 2023-07-01                    145558.0\n",
       "\n",
       "[83 rows x 2 columns]"
      ]
     },
     "execution_count": 221,
     "metadata": {},
     "output_type": "execute_result"
    }
   ],
   "source": [
    "df8"
   ]
  },
  {
   "cell_type": "code",
   "execution_count": 222,
   "id": "393da081-0b54-43ad-bb4d-31b66aaf2383",
   "metadata": {
    "scrolled": true
   },
   "outputs": [
    {
     "data": {
      "text/plain": [
       "DATE                          0\n",
       "Housing Inventory Estimate    0\n",
       "dtype: int64"
      ]
     },
     "execution_count": 222,
     "metadata": {},
     "output_type": "execute_result"
    }
   ],
   "source": [
    "df8.isnull().sum()"
   ]
  },
  {
   "cell_type": "code",
   "execution_count": 223,
   "id": "ee732cb7-7d52-4fcc-979d-bc016ab399a0",
   "metadata": {
    "scrolled": true
   },
   "outputs": [
    {
     "data": {
      "text/html": [
       "<div>\n",
       "<style scoped>\n",
       "    .dataframe tbody tr th:only-of-type {\n",
       "        vertical-align: middle;\n",
       "    }\n",
       "\n",
       "    .dataframe tbody tr th {\n",
       "        vertical-align: top;\n",
       "    }\n",
       "\n",
       "    .dataframe thead th {\n",
       "        text-align: right;\n",
       "    }\n",
       "</style>\n",
       "<table border=\"1\" class=\"dataframe\">\n",
       "  <thead>\n",
       "    <tr style=\"text-align: right;\">\n",
       "      <th></th>\n",
       "      <th>DATE</th>\n",
       "      <th>Housing Inventory Estimate</th>\n",
       "    </tr>\n",
       "  </thead>\n",
       "  <tbody>\n",
       "    <tr>\n",
       "      <th>count</th>\n",
       "      <td>83</td>\n",
       "      <td>83.000000</td>\n",
       "    </tr>\n",
       "    <tr>\n",
       "      <th>mean</th>\n",
       "      <td>2013-04-01 03:28:11.566265088</td>\n",
       "      <td>133730.927711</td>\n",
       "    </tr>\n",
       "    <tr>\n",
       "      <th>min</th>\n",
       "      <td>2003-01-01 00:00:00</td>\n",
       "      <td>120792.000000</td>\n",
       "    </tr>\n",
       "    <tr>\n",
       "      <th>25%</th>\n",
       "      <td>2008-02-15 12:00:00</td>\n",
       "      <td>130135.500000</td>\n",
       "    </tr>\n",
       "    <tr>\n",
       "      <th>50%</th>\n",
       "      <td>2013-04-01 00:00:00</td>\n",
       "      <td>133408.000000</td>\n",
       "    </tr>\n",
       "    <tr>\n",
       "      <th>75%</th>\n",
       "      <td>2018-05-16 12:00:00</td>\n",
       "      <td>138345.500000</td>\n",
       "    </tr>\n",
       "    <tr>\n",
       "      <th>max</th>\n",
       "      <td>2023-07-01 00:00:00</td>\n",
       "      <td>145558.000000</td>\n",
       "    </tr>\n",
       "    <tr>\n",
       "      <th>std</th>\n",
       "      <td>NaN</td>\n",
       "      <td>6287.247765</td>\n",
       "    </tr>\n",
       "  </tbody>\n",
       "</table>\n",
       "</div>"
      ],
      "text/plain": [
       "                                DATE  Housing Inventory Estimate\n",
       "count                             83                   83.000000\n",
       "mean   2013-04-01 03:28:11.566265088               133730.927711\n",
       "min              2003-01-01 00:00:00               120792.000000\n",
       "25%              2008-02-15 12:00:00               130135.500000\n",
       "50%              2013-04-01 00:00:00               133408.000000\n",
       "75%              2018-05-16 12:00:00               138345.500000\n",
       "max              2023-07-01 00:00:00               145558.000000\n",
       "std                              NaN                 6287.247765"
      ]
     },
     "execution_count": 223,
     "metadata": {},
     "output_type": "execute_result"
    }
   ],
   "source": [
    "df8.describe()"
   ]
  },
  {
   "cell_type": "code",
   "execution_count": 207,
   "id": "dfd36ddd-ac3a-4b29-8ff2-0a010d034f37",
   "metadata": {
    "scrolled": true
   },
   "outputs": [
    {
     "data": {
      "text/html": [
       "<div>\n",
       "<style scoped>\n",
       "    .dataframe tbody tr th:only-of-type {\n",
       "        vertical-align: middle;\n",
       "    }\n",
       "\n",
       "    .dataframe tbody tr th {\n",
       "        vertical-align: top;\n",
       "    }\n",
       "\n",
       "    .dataframe thead th {\n",
       "        text-align: right;\n",
       "    }\n",
       "</style>\n",
       "<table border=\"1\" class=\"dataframe\">\n",
       "  <thead>\n",
       "    <tr style=\"text-align: right;\">\n",
       "      <th></th>\n",
       "      <th>DATE</th>\n",
       "      <th>Housing Inventory Estimate</th>\n",
       "    </tr>\n",
       "  </thead>\n",
       "  <tbody>\n",
       "    <tr>\n",
       "      <th>count</th>\n",
       "      <td>83</td>\n",
       "      <td>83.000000</td>\n",
       "    </tr>\n",
       "    <tr>\n",
       "      <th>mean</th>\n",
       "      <td>2013-04-01 03:28:11.566265088</td>\n",
       "      <td>133730.927711</td>\n",
       "    </tr>\n",
       "    <tr>\n",
       "      <th>min</th>\n",
       "      <td>2003-01-01 00:00:00</td>\n",
       "      <td>120792.000000</td>\n",
       "    </tr>\n",
       "    <tr>\n",
       "      <th>25%</th>\n",
       "      <td>2008-02-15 12:00:00</td>\n",
       "      <td>130135.500000</td>\n",
       "    </tr>\n",
       "    <tr>\n",
       "      <th>50%</th>\n",
       "      <td>2013-04-01 00:00:00</td>\n",
       "      <td>133408.000000</td>\n",
       "    </tr>\n",
       "    <tr>\n",
       "      <th>75%</th>\n",
       "      <td>2018-05-16 12:00:00</td>\n",
       "      <td>138345.500000</td>\n",
       "    </tr>\n",
       "    <tr>\n",
       "      <th>max</th>\n",
       "      <td>2023-07-01 00:00:00</td>\n",
       "      <td>145558.000000</td>\n",
       "    </tr>\n",
       "    <tr>\n",
       "      <th>std</th>\n",
       "      <td>NaN</td>\n",
       "      <td>6287.247765</td>\n",
       "    </tr>\n",
       "  </tbody>\n",
       "</table>\n",
       "</div>"
      ],
      "text/plain": [
       "                                DATE  Housing Inventory Estimate \n",
       "count                             83                    83.000000\n",
       "mean   2013-04-01 03:28:11.566265088                133730.927711\n",
       "min              2003-01-01 00:00:00                120792.000000\n",
       "25%              2008-02-15 12:00:00                130135.500000\n",
       "50%              2013-04-01 00:00:00                133408.000000\n",
       "75%              2018-05-16 12:00:00                138345.500000\n",
       "max              2023-07-01 00:00:00                145558.000000\n",
       "std                              NaN                  6287.247765"
      ]
     },
     "execution_count": 207,
     "metadata": {},
     "output_type": "execute_result"
    }
   ],
   "source": [
    "df8.describe()"
   ]
  },
  {
   "cell_type": "code",
   "execution_count": 225,
   "id": "d11f7a61-9df2-4331-9810-3e644d0a1670",
   "metadata": {
    "scrolled": true
   },
   "outputs": [
    {
     "data": {
      "image/png": "[encoded data removed]",
      "text/plain": [
       "<Figure size 600x400 with 1 Axes>"
      ]
     },
     "metadata": {},
     "output_type": "display_data"
    }
   ],
   "source": [
    "# Plotting using Matplotlib\n",
    "plt.figure(figsize=(6, 4))\n",
    "plt.plot(df8['DATE'], df8['Housing Inventory Estimate'])\n",
    "plt.title('Housing Inventory Estimate Over Time')\n",
    "plt.xlabel('Date')\n",
    "plt.ylabel('Housing Inventory Estimate')\n",
    "plt.grid(True)\n",
    "plt.show()"
   ]
  },
  {
   "cell_type": "code",
   "execution_count": 226,
   "id": "2be430dc-4553-4acd-be13-aa6172598636",
   "metadata": {
    "scrolled": true
   },
   "outputs": [
    {
     "data": {
      "text/html": [
       "<div>\n",
       "<style scoped>\n",
       "    .dataframe tbody tr th:only-of-type {\n",
       "        vertical-align: middle;\n",
       "    }\n",
       "\n",
       "    .dataframe tbody tr th {\n",
       "        vertical-align: top;\n",
       "    }\n",
       "\n",
       "    .dataframe thead th {\n",
       "        text-align: right;\n",
       "    }\n",
       "</style>\n",
       "<table border=\"1\" class=\"dataframe\">\n",
       "  <thead>\n",
       "    <tr style=\"text-align: right;\">\n",
       "      <th></th>\n",
       "      <th>DATE</th>\n",
       "      <th>MSACSR</th>\n",
       "    </tr>\n",
       "  </thead>\n",
       "  <tbody>\n",
       "    <tr>\n",
       "      <th>0</th>\n",
       "      <td>1980-02-01</td>\n",
       "      <td>8.6</td>\n",
       "    </tr>\n",
       "    <tr>\n",
       "      <th>1</th>\n",
       "      <td>1980-03-01</td>\n",
       "      <td>9.8</td>\n",
       "    </tr>\n",
       "    <tr>\n",
       "      <th>2</th>\n",
       "      <td>1980-04-01</td>\n",
       "      <td>11.6</td>\n",
       "    </tr>\n",
       "    <tr>\n",
       "      <th>3</th>\n",
       "      <td>1980-05-01</td>\n",
       "      <td>9.2</td>\n",
       "    </tr>\n",
       "    <tr>\n",
       "      <th>4</th>\n",
       "      <td>1980-06-01</td>\n",
       "      <td>7.6</td>\n",
       "    </tr>\n",
       "  </tbody>\n",
       "</table>\n",
       "</div>"
      ],
      "text/plain": [
       "         DATE  MSACSR\n",
       "0  1980-02-01     8.6\n",
       "1  1980-03-01     9.8\n",
       "2  1980-04-01    11.6\n",
       "3  1980-05-01     9.2\n",
       "4  1980-06-01     7.6"
      ]
     },
     "execution_count": 226,
     "metadata": {},
     "output_type": "execute_result"
    }
   ],
   "source": [
    "dataset9.head()"
   ]
  },
  {
   "cell_type": "code",
   "execution_count": 227,
   "id": "d42b76c9-4738-441f-8da0-aa4ef8a7d752",
   "metadata": {},
   "outputs": [
    {
     "data": {
      "text/html": [
       "<div>\n",
       "<style scoped>\n",
       "    .dataframe tbody tr th:only-of-type {\n",
       "        vertical-align: middle;\n",
       "    }\n",
       "\n",
       "    .dataframe tbody tr th {\n",
       "        vertical-align: top;\n",
       "    }\n",
       "\n",
       "    .dataframe thead th {\n",
       "        text-align: right;\n",
       "    }\n",
       "</style>\n",
       "<table border=\"1\" class=\"dataframe\">\n",
       "  <thead>\n",
       "    <tr style=\"text-align: right;\">\n",
       "      <th></th>\n",
       "      <th>DATE</th>\n",
       "      <th>MSACSR</th>\n",
       "    </tr>\n",
       "  </thead>\n",
       "  <tbody>\n",
       "    <tr>\n",
       "      <th>520</th>\n",
       "      <td>2023-06-01</td>\n",
       "      <td>7.5</td>\n",
       "    </tr>\n",
       "    <tr>\n",
       "      <th>521</th>\n",
       "      <td>2023-07-01</td>\n",
       "      <td>7.1</td>\n",
       "    </tr>\n",
       "    <tr>\n",
       "      <th>522</th>\n",
       "      <td>2023-08-01</td>\n",
       "      <td>7.8</td>\n",
       "    </tr>\n",
       "    <tr>\n",
       "      <th>523</th>\n",
       "      <td>2023-09-01</td>\n",
       "      <td>7.2</td>\n",
       "    </tr>\n",
       "    <tr>\n",
       "      <th>524</th>\n",
       "      <td>2023-10-01</td>\n",
       "      <td>7.8</td>\n",
       "    </tr>\n",
       "  </tbody>\n",
       "</table>\n",
       "</div>"
      ],
      "text/plain": [
       "           DATE  MSACSR\n",
       "520  2023-06-01     7.5\n",
       "521  2023-07-01     7.1\n",
       "522  2023-08-01     7.8\n",
       "523  2023-09-01     7.2\n",
       "524  2023-10-01     7.8"
      ]
     },
     "execution_count": 227,
     "metadata": {},
     "output_type": "execute_result"
    }
   ],
   "source": [
    "dataset9.tail()"
   ]
  },
  {
   "cell_type": "code",
   "execution_count": 228,
   "id": "57e43db5-4228-47e6-b7f4-0a2ab6d11c40",
   "metadata": {
    "scrolled": true
   },
   "outputs": [
    {
     "name": "stdout",
     "output_type": "stream",
     "text": [
      "<class 'pandas.core.frame.DataFrame'>\n",
      "RangeIndex: 525 entries, 0 to 524\n",
      "Data columns (total 2 columns):\n",
      " #   Column  Non-Null Count  Dtype  \n",
      "---  ------  --------------  -----  \n",
      " 0   DATE    525 non-null    object \n",
      " 1   MSACSR  525 non-null    float64\n",
      "dtypes: float64(1), object(1)\n",
      "memory usage: 8.3+ KB\n"
     ]
    }
   ],
   "source": [
    "dataset9.info()"
   ]
  },
  {
   "cell_type": "code",
   "execution_count": 229,
   "id": "1a5d909c-427a-4808-a059-a06a8c542891",
   "metadata": {},
   "outputs": [],
   "source": [
    "dataset9.rename(columns={'MSACSR':'Monthly Supply of New Houses'}, inplace=True)"
   ]
  },
  {
   "cell_type": "code",
   "execution_count": 230,
   "id": "0abad917-96d9-42f6-a796-80a5e6b4ab61",
   "metadata": {},
   "outputs": [],
   "source": [
    "dataset9['DATE'] = pd.to_datetime(dataset9['DATE'])"
   ]
  },
  {
   "cell_type": "code",
   "execution_count": 231,
   "id": "13f6c2c8-5d2e-437a-a05c-13f1d0b03987",
   "metadata": {
    "scrolled": true
   },
   "outputs": [
    {
     "name": "stdout",
     "output_type": "stream",
     "text": [
      "<class 'pandas.core.frame.DataFrame'>\n",
      "RangeIndex: 525 entries, 0 to 524\n",
      "Data columns (total 2 columns):\n",
      " #   Column                        Non-Null Count  Dtype         \n",
      "---  ------                        --------------  -----         \n",
      " 0   DATE                          525 non-null    datetime64[ns]\n",
      " 1   Monthly Supply of New Houses  525 non-null    float64       \n",
      "dtypes: datetime64[ns](1), float64(1)\n",
      "memory usage: 8.3 KB\n"
     ]
    }
   ],
   "source": [
    "dataset9.info()"
   ]
  },
  {
   "cell_type": "code",
   "execution_count": 232,
   "id": "ad93601b-b5e9-48d8-8fcd-0ce56ddd962c",
   "metadata": {},
   "outputs": [],
   "source": [
    "# Filter the DataFrame for the last 20 years \n",
    "df9 = dataset9[(dataset9['DATE'].dt.year >= start_year) & (dataset9['DATE'].dt.year <= end_year)]"
   ]
  },
  {
   "cell_type": "code",
   "execution_count": 233,
   "id": "4bcdb2c4-1c25-4032-928b-a7320a8b6d34",
   "metadata": {
    "scrolled": true
   },
   "outputs": [
    {
     "data": {
      "text/html": [
       "<div>\n",
       "<style scoped>\n",
       "    .dataframe tbody tr th:only-of-type {\n",
       "        vertical-align: middle;\n",
       "    }\n",
       "\n",
       "    .dataframe tbody tr th {\n",
       "        vertical-align: top;\n",
       "    }\n",
       "\n",
       "    .dataframe thead th {\n",
       "        text-align: right;\n",
       "    }\n",
       "</style>\n",
       "<table border=\"1\" class=\"dataframe\">\n",
       "  <thead>\n",
       "    <tr style=\"text-align: right;\">\n",
       "      <th></th>\n",
       "      <th>DATE</th>\n",
       "      <th>Monthly Supply of New Houses</th>\n",
       "    </tr>\n",
       "  </thead>\n",
       "  <tbody>\n",
       "    <tr>\n",
       "      <th>275</th>\n",
       "      <td>2003-01-01</td>\n",
       "      <td>4.0</td>\n",
       "    </tr>\n",
       "    <tr>\n",
       "      <th>276</th>\n",
       "      <td>2003-02-01</td>\n",
       "      <td>4.5</td>\n",
       "    </tr>\n",
       "    <tr>\n",
       "      <th>277</th>\n",
       "      <td>2003-03-01</td>\n",
       "      <td>4.1</td>\n",
       "    </tr>\n",
       "    <tr>\n",
       "      <th>278</th>\n",
       "      <td>2003-04-01</td>\n",
       "      <td>4.1</td>\n",
       "    </tr>\n",
       "    <tr>\n",
       "      <th>279</th>\n",
       "      <td>2003-05-01</td>\n",
       "      <td>3.9</td>\n",
       "    </tr>\n",
       "    <tr>\n",
       "      <th>...</th>\n",
       "      <td>...</td>\n",
       "      <td>...</td>\n",
       "    </tr>\n",
       "    <tr>\n",
       "      <th>520</th>\n",
       "      <td>2023-06-01</td>\n",
       "      <td>7.5</td>\n",
       "    </tr>\n",
       "    <tr>\n",
       "      <th>521</th>\n",
       "      <td>2023-07-01</td>\n",
       "      <td>7.1</td>\n",
       "    </tr>\n",
       "    <tr>\n",
       "      <th>522</th>\n",
       "      <td>2023-08-01</td>\n",
       "      <td>7.8</td>\n",
       "    </tr>\n",
       "    <tr>\n",
       "      <th>523</th>\n",
       "      <td>2023-09-01</td>\n",
       "      <td>7.2</td>\n",
       "    </tr>\n",
       "    <tr>\n",
       "      <th>524</th>\n",
       "      <td>2023-10-01</td>\n",
       "      <td>7.8</td>\n",
       "    </tr>\n",
       "  </tbody>\n",
       "</table>\n",
       "<p>250 rows × 2 columns</p>\n",
       "</div>"
      ],
      "text/plain": [
       "          DATE  Monthly Supply of New Houses\n",
       "275 2003-01-01                           4.0\n",
       "276 2003-02-01                           4.5\n",
       "277 2003-03-01                           4.1\n",
       "278 2003-04-01                           4.1\n",
       "279 2003-05-01                           3.9\n",
       "..         ...                           ...\n",
       "520 2023-06-01                           7.5\n",
       "521 2023-07-01                           7.1\n",
       "522 2023-08-01                           7.8\n",
       "523 2023-09-01                           7.2\n",
       "524 2023-10-01                           7.8\n",
       "\n",
       "[250 rows x 2 columns]"
      ]
     },
     "execution_count": 233,
     "metadata": {},
     "output_type": "execute_result"
    }
   ],
   "source": [
    "df9"
   ]
  },
  {
   "cell_type": "code",
   "execution_count": 234,
   "id": "3289ad68-ad74-46e4-bf73-e6bf1acb7136",
   "metadata": {},
   "outputs": [
    {
     "data": {
      "text/plain": [
       "DATE                            0\n",
       "Monthly Supply of New Houses    0\n",
       "dtype: int64"
      ]
     },
     "execution_count": 234,
     "metadata": {},
     "output_type": "execute_result"
    }
   ],
   "source": [
    "df9.isnull().sum()"
   ]
  },
  {
   "cell_type": "code",
   "execution_count": 235,
   "id": "1846f43f-902e-44cd-843e-33988e4925b2",
   "metadata": {
    "scrolled": true
   },
   "outputs": [
    {
     "data": {
      "text/html": [
       "<div>\n",
       "<style scoped>\n",
       "    .dataframe tbody tr th:only-of-type {\n",
       "        vertical-align: middle;\n",
       "    }\n",
       "\n",
       "    .dataframe tbody tr th {\n",
       "        vertical-align: top;\n",
       "    }\n",
       "\n",
       "    .dataframe thead th {\n",
       "        text-align: right;\n",
       "    }\n",
       "</style>\n",
       "<table border=\"1\" class=\"dataframe\">\n",
       "  <thead>\n",
       "    <tr style=\"text-align: right;\">\n",
       "      <th></th>\n",
       "      <th>DATE</th>\n",
       "      <th>Monthly Supply of New Houses</th>\n",
       "    </tr>\n",
       "  </thead>\n",
       "  <tbody>\n",
       "    <tr>\n",
       "      <th>count</th>\n",
       "      <td>250</td>\n",
       "      <td>250.000000</td>\n",
       "    </tr>\n",
       "    <tr>\n",
       "      <th>mean</th>\n",
       "      <td>2013-05-16 21:07:12</td>\n",
       "      <td>6.199600</td>\n",
       "    </tr>\n",
       "    <tr>\n",
       "      <th>min</th>\n",
       "      <td>2003-01-01 00:00:00</td>\n",
       "      <td>3.300000</td>\n",
       "    </tr>\n",
       "    <tr>\n",
       "      <th>25%</th>\n",
       "      <td>2008-03-08 18:00:00</td>\n",
       "      <td>4.900000</td>\n",
       "    </tr>\n",
       "    <tr>\n",
       "      <th>50%</th>\n",
       "      <td>2013-05-16 12:00:00</td>\n",
       "      <td>5.600000</td>\n",
       "    </tr>\n",
       "    <tr>\n",
       "      <th>75%</th>\n",
       "      <td>2018-07-24 06:00:00</td>\n",
       "      <td>7.300000</td>\n",
       "    </tr>\n",
       "    <tr>\n",
       "      <th>max</th>\n",
       "      <td>2023-10-01 00:00:00</td>\n",
       "      <td>12.200000</td>\n",
       "    </tr>\n",
       "    <tr>\n",
       "      <th>std</th>\n",
       "      <td>NaN</td>\n",
       "      <td>1.938233</td>\n",
       "    </tr>\n",
       "  </tbody>\n",
       "</table>\n",
       "</div>"
      ],
      "text/plain": [
       "                      DATE  Monthly Supply of New Houses\n",
       "count                  250                    250.000000\n",
       "mean   2013-05-16 21:07:12                      6.199600\n",
       "min    2003-01-01 00:00:00                      3.300000\n",
       "25%    2008-03-08 18:00:00                      4.900000\n",
       "50%    2013-05-16 12:00:00                      5.600000\n",
       "75%    2018-07-24 06:00:00                      7.300000\n",
       "max    2023-10-01 00:00:00                     12.200000\n",
       "std                    NaN                      1.938233"
      ]
     },
     "execution_count": 235,
     "metadata": {},
     "output_type": "execute_result"
    }
   ],
   "source": [
    "df9.describe()"
   ]
  },
  {
   "cell_type": "code",
   "execution_count": 236,
   "id": "be189fc0-fd1f-40d4-969f-97143bc70dad",
   "metadata": {
    "scrolled": true
   },
   "outputs": [
    {
     "data": {
      "image/png": "[encoded data removed]",
      "text/plain": [
       "<Figure size 600x400 with 1 Axes>"
      ]
     },
     "metadata": {},
     "output_type": "display_data"
    }
   ],
   "source": [
    "# Plotting using Matplotlib\n",
    "plt.figure(figsize=(6, 4))\n",
    "plt.plot(df9['DATE'], df9['Monthly Supply of New Houses'])\n",
    "plt.title('Monthly Supply of New Houses Over Time')\n",
    "plt.xlabel('Date')\n",
    "plt.ylabel('Monthly Supply of New Houses')\n",
    "plt.grid(True)\n",
    "plt.show()"
   ]
  },
  {
   "cell_type": "code",
   "execution_count": 237,
   "id": "f8f32fd5-3c63-46ac-a0b6-1ce1e8714d08",
   "metadata": {
    "scrolled": true
   },
   "outputs": [
    {
     "data": {
      "text/html": [
       "<div>\n",
       "<style scoped>\n",
       "    .dataframe tbody tr th:only-of-type {\n",
       "        vertical-align: middle;\n",
       "    }\n",
       "\n",
       "    .dataframe tbody tr th {\n",
       "        vertical-align: top;\n",
       "    }\n",
       "\n",
       "    .dataframe thead th {\n",
       "        text-align: right;\n",
       "    }\n",
       "</style>\n",
       "<table border=\"1\" class=\"dataframe\">\n",
       "  <thead>\n",
       "    <tr style=\"text-align: right;\">\n",
       "      <th></th>\n",
       "      <th>DATE</th>\n",
       "      <th>TTLCONS</th>\n",
       "    </tr>\n",
       "  </thead>\n",
       "  <tbody>\n",
       "    <tr>\n",
       "      <th>0</th>\n",
       "      <td>1993-01-01</td>\n",
       "      <td>458080.0</td>\n",
       "    </tr>\n",
       "    <tr>\n",
       "      <th>1</th>\n",
       "      <td>1993-02-01</td>\n",
       "      <td>462967.0</td>\n",
       "    </tr>\n",
       "    <tr>\n",
       "      <th>2</th>\n",
       "      <td>1993-03-01</td>\n",
       "      <td>458399.0</td>\n",
       "    </tr>\n",
       "    <tr>\n",
       "      <th>3</th>\n",
       "      <td>1993-04-01</td>\n",
       "      <td>469425.0</td>\n",
       "    </tr>\n",
       "    <tr>\n",
       "      <th>4</th>\n",
       "      <td>1993-05-01</td>\n",
       "      <td>468998.0</td>\n",
       "    </tr>\n",
       "  </tbody>\n",
       "</table>\n",
       "</div>"
      ],
      "text/plain": [
       "         DATE   TTLCONS\n",
       "0  1993-01-01  458080.0\n",
       "1  1993-02-01  462967.0\n",
       "2  1993-03-01  458399.0\n",
       "3  1993-04-01  469425.0\n",
       "4  1993-05-01  468998.0"
      ]
     },
     "execution_count": 237,
     "metadata": {},
     "output_type": "execute_result"
    }
   ],
   "source": [
    "dataset10.head()"
   ]
  },
  {
   "cell_type": "code",
   "execution_count": 239,
   "id": "75899697-adf4-4814-8682-25fa2f24438e",
   "metadata": {
    "scrolled": true
   },
   "outputs": [
    {
     "data": {
      "text/html": [
       "<div>\n",
       "<style scoped>\n",
       "    .dataframe tbody tr th:only-of-type {\n",
       "        vertical-align: middle;\n",
       "    }\n",
       "\n",
       "    .dataframe tbody tr th {\n",
       "        vertical-align: top;\n",
       "    }\n",
       "\n",
       "    .dataframe thead th {\n",
       "        text-align: right;\n",
       "    }\n",
       "</style>\n",
       "<table border=\"1\" class=\"dataframe\">\n",
       "  <thead>\n",
       "    <tr style=\"text-align: right;\">\n",
       "      <th></th>\n",
       "      <th>DATE</th>\n",
       "      <th>TTLCONS</th>\n",
       "    </tr>\n",
       "  </thead>\n",
       "  <tbody>\n",
       "    <tr>\n",
       "      <th>365</th>\n",
       "      <td>2023-06-01</td>\n",
       "      <td>1956226.0</td>\n",
       "    </tr>\n",
       "    <tr>\n",
       "      <th>366</th>\n",
       "      <td>2023-07-01</td>\n",
       "      <td>1969005.0</td>\n",
       "    </tr>\n",
       "    <tr>\n",
       "      <th>367</th>\n",
       "      <td>2023-08-01</td>\n",
       "      <td>2010143.0</td>\n",
       "    </tr>\n",
       "    <tr>\n",
       "      <th>368</th>\n",
       "      <td>2023-09-01</td>\n",
       "      <td>2014718.0</td>\n",
       "    </tr>\n",
       "    <tr>\n",
       "      <th>369</th>\n",
       "      <td>2023-10-01</td>\n",
       "      <td>2027072.0</td>\n",
       "    </tr>\n",
       "  </tbody>\n",
       "</table>\n",
       "</div>"
      ],
      "text/plain": [
       "           DATE    TTLCONS\n",
       "365  2023-06-01  1956226.0\n",
       "366  2023-07-01  1969005.0\n",
       "367  2023-08-01  2010143.0\n",
       "368  2023-09-01  2014718.0\n",
       "369  2023-10-01  2027072.0"
      ]
     },
     "execution_count": 239,
     "metadata": {},
     "output_type": "execute_result"
    }
   ],
   "source": [
    "dataset10.tail()"
   ]
  },
  {
   "cell_type": "code",
   "execution_count": 240,
   "id": "d9dfc950-35ed-42c1-9a28-e6697057c698",
   "metadata": {
    "scrolled": true
   },
   "outputs": [
    {
     "name": "stdout",
     "output_type": "stream",
     "text": [
      "<class 'pandas.core.frame.DataFrame'>\n",
      "RangeIndex: 370 entries, 0 to 369\n",
      "Data columns (total 2 columns):\n",
      " #   Column   Non-Null Count  Dtype  \n",
      "---  ------   --------------  -----  \n",
      " 0   DATE     370 non-null    object \n",
      " 1   TTLCONS  370 non-null    float64\n",
      "dtypes: float64(1), object(1)\n",
      "memory usage: 5.9+ KB\n"
     ]
    }
   ],
   "source": [
    "dataset10.info()"
   ]
  },
  {
   "cell_type": "code",
   "execution_count": 241,
   "id": "08a49d54-165e-4af3-8b17-fd20f5aa2676",
   "metadata": {},
   "outputs": [],
   "source": [
    "dataset10.rename(columns={'TTLCONS':'Total Construction Spending'}, inplace=True)"
   ]
  },
  {
   "cell_type": "code",
   "execution_count": 242,
   "id": "3de9cdb0-a596-4e9a-9e60-567170568bc7",
   "metadata": {},
   "outputs": [],
   "source": [
    "dataset10['DATE'] = pd.to_datetime(dataset10['DATE'])"
   ]
  },
  {
   "cell_type": "code",
   "execution_count": 243,
   "id": "34e8b54f-24d0-4f28-be07-f737bb4880b2",
   "metadata": {
    "scrolled": true
   },
   "outputs": [
    {
     "name": "stdout",
     "output_type": "stream",
     "text": [
      "<class 'pandas.core.frame.DataFrame'>\n",
      "RangeIndex: 370 entries, 0 to 369\n",
      "Data columns (total 2 columns):\n",
      " #   Column                       Non-Null Count  Dtype         \n",
      "---  ------                       --------------  -----         \n",
      " 0   DATE                         370 non-null    datetime64[ns]\n",
      " 1   Total Construction Spending  370 non-null    float64       \n",
      "dtypes: datetime64[ns](1), float64(1)\n",
      "memory usage: 5.9 KB\n"
     ]
    }
   ],
   "source": [
    "dataset10.info()"
   ]
  },
  {
   "cell_type": "code",
   "execution_count": 244,
   "id": "b95ded77-d75b-464d-868a-d2a84ddb7b1b",
   "metadata": {},
   "outputs": [],
   "source": [
    "# Filter the DataFrame for the last 20 years \n",
    "df10 = dataset10[(dataset10['DATE'].dt.year >= start_year) & (dataset10['DATE'].dt.year <= end_year)]"
   ]
  },
  {
   "cell_type": "code",
   "execution_count": 245,
   "id": "29e63f89-88a7-40f2-acea-dab225019690",
   "metadata": {
    "scrolled": true
   },
   "outputs": [
    {
     "data": {
      "text/html": [
       "<div>\n",
       "<style scoped>\n",
       "    .dataframe tbody tr th:only-of-type {\n",
       "        vertical-align: middle;\n",
       "    }\n",
       "\n",
       "    .dataframe tbody tr th {\n",
       "        vertical-align: top;\n",
       "    }\n",
       "\n",
       "    .dataframe thead th {\n",
       "        text-align: right;\n",
       "    }\n",
       "</style>\n",
       "<table border=\"1\" class=\"dataframe\">\n",
       "  <thead>\n",
       "    <tr style=\"text-align: right;\">\n",
       "      <th></th>\n",
       "      <th>DATE</th>\n",
       "      <th>Total Construction Spending</th>\n",
       "    </tr>\n",
       "  </thead>\n",
       "  <tbody>\n",
       "    <tr>\n",
       "      <th>120</th>\n",
       "      <td>2003-01-01</td>\n",
       "      <td>863855.0</td>\n",
       "    </tr>\n",
       "    <tr>\n",
       "      <th>121</th>\n",
       "      <td>2003-02-01</td>\n",
       "      <td>859225.0</td>\n",
       "    </tr>\n",
       "    <tr>\n",
       "      <th>122</th>\n",
       "      <td>2003-03-01</td>\n",
       "      <td>851132.0</td>\n",
       "    </tr>\n",
       "    <tr>\n",
       "      <th>123</th>\n",
       "      <td>2003-04-01</td>\n",
       "      <td>859459.0</td>\n",
       "    </tr>\n",
       "    <tr>\n",
       "      <th>124</th>\n",
       "      <td>2003-05-01</td>\n",
       "      <td>866814.0</td>\n",
       "    </tr>\n",
       "    <tr>\n",
       "      <th>...</th>\n",
       "      <td>...</td>\n",
       "      <td>...</td>\n",
       "    </tr>\n",
       "    <tr>\n",
       "      <th>365</th>\n",
       "      <td>2023-06-01</td>\n",
       "      <td>1956226.0</td>\n",
       "    </tr>\n",
       "    <tr>\n",
       "      <th>366</th>\n",
       "      <td>2023-07-01</td>\n",
       "      <td>1969005.0</td>\n",
       "    </tr>\n",
       "    <tr>\n",
       "      <th>367</th>\n",
       "      <td>2023-08-01</td>\n",
       "      <td>2010143.0</td>\n",
       "    </tr>\n",
       "    <tr>\n",
       "      <th>368</th>\n",
       "      <td>2023-09-01</td>\n",
       "      <td>2014718.0</td>\n",
       "    </tr>\n",
       "    <tr>\n",
       "      <th>369</th>\n",
       "      <td>2023-10-01</td>\n",
       "      <td>2027072.0</td>\n",
       "    </tr>\n",
       "  </tbody>\n",
       "</table>\n",
       "<p>250 rows × 2 columns</p>\n",
       "</div>"
      ],
      "text/plain": [
       "          DATE  Total Construction Spending\n",
       "120 2003-01-01                     863855.0\n",
       "121 2003-02-01                     859225.0\n",
       "122 2003-03-01                     851132.0\n",
       "123 2003-04-01                     859459.0\n",
       "124 2003-05-01                     866814.0\n",
       "..         ...                          ...\n",
       "365 2023-06-01                    1956226.0\n",
       "366 2023-07-01                    1969005.0\n",
       "367 2023-08-01                    2010143.0\n",
       "368 2023-09-01                    2014718.0\n",
       "369 2023-10-01                    2027072.0\n",
       "\n",
       "[250 rows x 2 columns]"
      ]
     },
     "execution_count": 245,
     "metadata": {},
     "output_type": "execute_result"
    }
   ],
   "source": [
    "df10"
   ]
  },
  {
   "cell_type": "code",
   "execution_count": 253,
   "id": "954ae022-e222-48bd-b21b-23cbbac0cb1a",
   "metadata": {},
   "outputs": [
    {
     "data": {
      "text/plain": [
       "DATE                           0\n",
       "Total Construction Spending    0\n",
       "dtype: int64"
      ]
     },
     "execution_count": 253,
     "metadata": {},
     "output_type": "execute_result"
    }
   ],
   "source": [
    "filtered_df10.isnull().sum()"
   ]
  },
  {
   "cell_type": "code",
   "execution_count": 246,
   "id": "18a9bcc2-5719-4952-926c-1b715dc010a1",
   "metadata": {},
   "outputs": [
    {
     "data": {
      "text/html": [
       "<div>\n",
       "<style scoped>\n",
       "    .dataframe tbody tr th:only-of-type {\n",
       "        vertical-align: middle;\n",
       "    }\n",
       "\n",
       "    .dataframe tbody tr th {\n",
       "        vertical-align: top;\n",
       "    }\n",
       "\n",
       "    .dataframe thead th {\n",
       "        text-align: right;\n",
       "    }\n",
       "</style>\n",
       "<table border=\"1\" class=\"dataframe\">\n",
       "  <thead>\n",
       "    <tr style=\"text-align: right;\">\n",
       "      <th></th>\n",
       "      <th>DATE</th>\n",
       "      <th>Total Construction Spending</th>\n",
       "    </tr>\n",
       "  </thead>\n",
       "  <tbody>\n",
       "    <tr>\n",
       "      <th>count</th>\n",
       "      <td>250</td>\n",
       "      <td>2.500000e+02</td>\n",
       "    </tr>\n",
       "    <tr>\n",
       "      <th>mean</th>\n",
       "      <td>2013-05-16 21:07:12</td>\n",
       "      <td>1.183392e+06</td>\n",
       "    </tr>\n",
       "    <tr>\n",
       "      <th>min</th>\n",
       "      <td>2003-01-01 00:00:00</td>\n",
       "      <td>7.583760e+05</td>\n",
       "    </tr>\n",
       "    <tr>\n",
       "      <th>25%</th>\n",
       "      <td>2008-03-08 18:00:00</td>\n",
       "      <td>9.299162e+05</td>\n",
       "    </tr>\n",
       "    <tr>\n",
       "      <th>50%</th>\n",
       "      <td>2013-05-16 12:00:00</td>\n",
       "      <td>1.135420e+06</td>\n",
       "    </tr>\n",
       "    <tr>\n",
       "      <th>75%</th>\n",
       "      <td>2018-07-24 06:00:00</td>\n",
       "      <td>1.333880e+06</td>\n",
       "    </tr>\n",
       "    <tr>\n",
       "      <th>max</th>\n",
       "      <td>2023-10-01 00:00:00</td>\n",
       "      <td>2.027072e+06</td>\n",
       "    </tr>\n",
       "    <tr>\n",
       "      <th>std</th>\n",
       "      <td>NaN</td>\n",
       "      <td>3.161009e+05</td>\n",
       "    </tr>\n",
       "  </tbody>\n",
       "</table>\n",
       "</div>"
      ],
      "text/plain": [
       "                      DATE  Total Construction Spending\n",
       "count                  250                 2.500000e+02\n",
       "mean   2013-05-16 21:07:12                 1.183392e+06\n",
       "min    2003-01-01 00:00:00                 7.583760e+05\n",
       "25%    2008-03-08 18:00:00                 9.299162e+05\n",
       "50%    2013-05-16 12:00:00                 1.135420e+06\n",
       "75%    2018-07-24 06:00:00                 1.333880e+06\n",
       "max    2023-10-01 00:00:00                 2.027072e+06\n",
       "std                    NaN                 3.161009e+05"
      ]
     },
     "execution_count": 246,
     "metadata": {},
     "output_type": "execute_result"
    }
   ],
   "source": [
    "df10.describe()"
   ]
  },
  {
   "cell_type": "code",
   "execution_count": 247,
   "id": "a8c3b5e9-d1d4-4ca3-afda-e24ab7a81a28",
   "metadata": {
    "scrolled": true
   },
   "outputs": [
    {
     "data": {
      "image/png": "[encoded data removed]",
      "text/plain": [
       "<Figure size 600x400 with 1 Axes>"
      ]
     },
     "metadata": {},
     "output_type": "display_data"
    }
   ],
   "source": [
    "# Plotting using Matplotlib\n",
    "plt.figure(figsize=(6, 4))\n",
    "plt.plot(df10['DATE'], df10['Total Construction Spending'])\n",
    "plt.title('Total Construction Spending Over Time')\n",
    "plt.xlabel('Date')\n",
    "plt.ylabel('Total Construction Spending')\n",
    "plt.grid(True)\n",
    "plt.show()"
   ]
  },
  {
   "cell_type": "code",
   "execution_count": 248,
   "id": "de2a995d-b0d5-4317-85bf-a65a9b7c038a",
   "metadata": {
    "scrolled": true
   },
   "outputs": [
    {
     "data": {
      "text/html": [
       "<div>\n",
       "<style scoped>\n",
       "    .dataframe tbody tr th:only-of-type {\n",
       "        vertical-align: middle;\n",
       "    }\n",
       "\n",
       "    .dataframe tbody tr th {\n",
       "        vertical-align: top;\n",
       "    }\n",
       "\n",
       "    .dataframe thead th {\n",
       "        text-align: right;\n",
       "    }\n",
       "</style>\n",
       "<table border=\"1\" class=\"dataframe\">\n",
       "  <thead>\n",
       "    <tr style=\"text-align: right;\">\n",
       "      <th></th>\n",
       "      <th>DATE</th>\n",
       "      <th>CXUTOTALEXPLB0403M</th>\n",
       "    </tr>\n",
       "  </thead>\n",
       "  <tbody>\n",
       "    <tr>\n",
       "      <th>0</th>\n",
       "      <td>1984-01-01</td>\n",
       "      <td>22294</td>\n",
       "    </tr>\n",
       "    <tr>\n",
       "      <th>1</th>\n",
       "      <td>1985-01-01</td>\n",
       "      <td>23349</td>\n",
       "    </tr>\n",
       "    <tr>\n",
       "      <th>2</th>\n",
       "      <td>1986-01-01</td>\n",
       "      <td>23931</td>\n",
       "    </tr>\n",
       "    <tr>\n",
       "      <th>3</th>\n",
       "      <td>1987-01-01</td>\n",
       "      <td>24177</td>\n",
       "    </tr>\n",
       "    <tr>\n",
       "      <th>4</th>\n",
       "      <td>1988-01-01</td>\n",
       "      <td>25770</td>\n",
       "    </tr>\n",
       "  </tbody>\n",
       "</table>\n",
       "</div>"
      ],
      "text/plain": [
       "         DATE  CXUTOTALEXPLB0403M\n",
       "0  1984-01-01               22294\n",
       "1  1985-01-01               23349\n",
       "2  1986-01-01               23931\n",
       "3  1987-01-01               24177\n",
       "4  1988-01-01               25770"
      ]
     },
     "execution_count": 248,
     "metadata": {},
     "output_type": "execute_result"
    }
   ],
   "source": [
    "dataset11.head()"
   ]
  },
  {
   "cell_type": "code",
   "execution_count": 249,
   "id": "11a41493-4b50-45d0-9160-8692d92db1e0",
   "metadata": {},
   "outputs": [
    {
     "data": {
      "text/html": [
       "<div>\n",
       "<style scoped>\n",
       "    .dataframe tbody tr th:only-of-type {\n",
       "        vertical-align: middle;\n",
       "    }\n",
       "\n",
       "    .dataframe tbody tr th {\n",
       "        vertical-align: top;\n",
       "    }\n",
       "\n",
       "    .dataframe thead th {\n",
       "        text-align: right;\n",
       "    }\n",
       "</style>\n",
       "<table border=\"1\" class=\"dataframe\">\n",
       "  <thead>\n",
       "    <tr style=\"text-align: right;\">\n",
       "      <th></th>\n",
       "      <th>DATE</th>\n",
       "      <th>CXUTOTALEXPLB0403M</th>\n",
       "    </tr>\n",
       "  </thead>\n",
       "  <tbody>\n",
       "    <tr>\n",
       "      <th>34</th>\n",
       "      <td>2018-01-01</td>\n",
       "      <td>56457</td>\n",
       "    </tr>\n",
       "    <tr>\n",
       "      <th>35</th>\n",
       "      <td>2019-01-01</td>\n",
       "      <td>57128</td>\n",
       "    </tr>\n",
       "    <tr>\n",
       "      <th>36</th>\n",
       "      <td>2020-01-01</td>\n",
       "      <td>57644</td>\n",
       "    </tr>\n",
       "    <tr>\n",
       "      <th>37</th>\n",
       "      <td>2021-01-01</td>\n",
       "      <td>63905</td>\n",
       "    </tr>\n",
       "    <tr>\n",
       "      <th>38</th>\n",
       "      <td>2022-01-01</td>\n",
       "      <td>67883</td>\n",
       "    </tr>\n",
       "  </tbody>\n",
       "</table>\n",
       "</div>"
      ],
      "text/plain": [
       "          DATE  CXUTOTALEXPLB0403M\n",
       "34  2018-01-01               56457\n",
       "35  2019-01-01               57128\n",
       "36  2020-01-01               57644\n",
       "37  2021-01-01               63905\n",
       "38  2022-01-01               67883"
      ]
     },
     "execution_count": 249,
     "metadata": {},
     "output_type": "execute_result"
    }
   ],
   "source": [
    "dataset11.tail()"
   ]
  },
  {
   "cell_type": "code",
   "execution_count": 250,
   "id": "7b141fe5-0964-4f0b-aefb-b5aa1d987fc4",
   "metadata": {
    "scrolled": true
   },
   "outputs": [
    {
     "name": "stdout",
     "output_type": "stream",
     "text": [
      "<class 'pandas.core.frame.DataFrame'>\n",
      "RangeIndex: 39 entries, 0 to 38\n",
      "Data columns (total 2 columns):\n",
      " #   Column              Non-Null Count  Dtype \n",
      "---  ------              --------------  ----- \n",
      " 0   DATE                39 non-null     object\n",
      " 1   CXUTOTALEXPLB0403M  39 non-null     int64 \n",
      "dtypes: int64(1), object(1)\n",
      "memory usage: 752.0+ bytes\n"
     ]
    }
   ],
   "source": [
    "dataset11.info()"
   ]
  },
  {
   "cell_type": "code",
   "execution_count": 251,
   "id": "1aeddd33-137f-4b82-a186-04d345464d21",
   "metadata": {},
   "outputs": [],
   "source": [
    "dataset11.rename(columns={'CXUTOTALEXPLB0403M':'Total Avg Annual Expenditures'}, inplace=True)"
   ]
  },
  {
   "cell_type": "code",
   "execution_count": 252,
   "id": "6eac01e8-fff9-46eb-9098-4f8f7dfba8f9",
   "metadata": {},
   "outputs": [],
   "source": [
    "dataset11['DATE'] = pd.to_datetime(dataset11['DATE'])"
   ]
  },
  {
   "cell_type": "code",
   "execution_count": 253,
   "id": "c15e5d2b-db28-44dc-8a43-9d360b1cef5f",
   "metadata": {
    "scrolled": true
   },
   "outputs": [
    {
     "name": "stdout",
     "output_type": "stream",
     "text": [
      "<class 'pandas.core.frame.DataFrame'>\n",
      "RangeIndex: 39 entries, 0 to 38\n",
      "Data columns (total 2 columns):\n",
      " #   Column                         Non-Null Count  Dtype         \n",
      "---  ------                         --------------  -----         \n",
      " 0   DATE                           39 non-null     datetime64[ns]\n",
      " 1   Total Avg Annual Expenditures  39 non-null     int64         \n",
      "dtypes: datetime64[ns](1), int64(1)\n",
      "memory usage: 752.0 bytes\n"
     ]
    }
   ],
   "source": [
    "dataset11.info()"
   ]
  },
  {
   "cell_type": "code",
   "execution_count": 254,
   "id": "34152603-968b-4518-a1fe-2fc4a64d9620",
   "metadata": {},
   "outputs": [],
   "source": [
    "# Filter the DataFrame for the last 20 years \n",
    "df11 = dataset11[(dataset11['DATE'].dt.year >= start_year) & (dataset11['DATE'].dt.year <= end_year)]"
   ]
  },
  {
   "cell_type": "code",
   "execution_count": 255,
   "id": "4e2c67b2-b66c-44ad-a30a-4b50ad6543e1",
   "metadata": {
    "scrolled": true
   },
   "outputs": [
    {
     "data": {
      "text/html": [
       "<div>\n",
       "<style scoped>\n",
       "    .dataframe tbody tr th:only-of-type {\n",
       "        vertical-align: middle;\n",
       "    }\n",
       "\n",
       "    .dataframe tbody tr th {\n",
       "        vertical-align: top;\n",
       "    }\n",
       "\n",
       "    .dataframe thead th {\n",
       "        text-align: right;\n",
       "    }\n",
       "</style>\n",
       "<table border=\"1\" class=\"dataframe\">\n",
       "  <thead>\n",
       "    <tr style=\"text-align: right;\">\n",
       "      <th></th>\n",
       "      <th>DATE</th>\n",
       "      <th>Total Avg Annual Expenditures</th>\n",
       "    </tr>\n",
       "  </thead>\n",
       "  <tbody>\n",
       "    <tr>\n",
       "      <th>19</th>\n",
       "      <td>2003-01-01</td>\n",
       "      <td>40525</td>\n",
       "    </tr>\n",
       "    <tr>\n",
       "      <th>20</th>\n",
       "      <td>2004-01-01</td>\n",
       "      <td>42701</td>\n",
       "    </tr>\n",
       "    <tr>\n",
       "      <th>21</th>\n",
       "      <td>2005-01-01</td>\n",
       "      <td>45068</td>\n",
       "    </tr>\n",
       "    <tr>\n",
       "      <th>22</th>\n",
       "      <td>2006-01-01</td>\n",
       "      <td>47582</td>\n",
       "    </tr>\n",
       "    <tr>\n",
       "      <th>23</th>\n",
       "      <td>2007-01-01</td>\n",
       "      <td>47510</td>\n",
       "    </tr>\n",
       "    <tr>\n",
       "      <th>24</th>\n",
       "      <td>2008-01-01</td>\n",
       "      <td>48159</td>\n",
       "    </tr>\n",
       "    <tr>\n",
       "      <th>25</th>\n",
       "      <td>2009-01-01</td>\n",
       "      <td>46494</td>\n",
       "    </tr>\n",
       "    <tr>\n",
       "      <th>26</th>\n",
       "      <td>2010-01-01</td>\n",
       "      <td>46617</td>\n",
       "    </tr>\n",
       "    <tr>\n",
       "      <th>27</th>\n",
       "      <td>2011-01-01</td>\n",
       "      <td>48097</td>\n",
       "    </tr>\n",
       "    <tr>\n",
       "      <th>28</th>\n",
       "      <td>2012-01-01</td>\n",
       "      <td>49544</td>\n",
       "    </tr>\n",
       "    <tr>\n",
       "      <th>29</th>\n",
       "      <td>2013-01-01</td>\n",
       "      <td>48087</td>\n",
       "    </tr>\n",
       "    <tr>\n",
       "      <th>30</th>\n",
       "      <td>2014-01-01</td>\n",
       "      <td>49547</td>\n",
       "    </tr>\n",
       "    <tr>\n",
       "      <th>31</th>\n",
       "      <td>2015-01-01</td>\n",
       "      <td>52062</td>\n",
       "    </tr>\n",
       "    <tr>\n",
       "      <th>32</th>\n",
       "      <td>2016-01-01</td>\n",
       "      <td>52838</td>\n",
       "    </tr>\n",
       "    <tr>\n",
       "      <th>33</th>\n",
       "      <td>2017-01-01</td>\n",
       "      <td>55325</td>\n",
       "    </tr>\n",
       "    <tr>\n",
       "      <th>34</th>\n",
       "      <td>2018-01-01</td>\n",
       "      <td>56457</td>\n",
       "    </tr>\n",
       "    <tr>\n",
       "      <th>35</th>\n",
       "      <td>2019-01-01</td>\n",
       "      <td>57128</td>\n",
       "    </tr>\n",
       "    <tr>\n",
       "      <th>36</th>\n",
       "      <td>2020-01-01</td>\n",
       "      <td>57644</td>\n",
       "    </tr>\n",
       "    <tr>\n",
       "      <th>37</th>\n",
       "      <td>2021-01-01</td>\n",
       "      <td>63905</td>\n",
       "    </tr>\n",
       "    <tr>\n",
       "      <th>38</th>\n",
       "      <td>2022-01-01</td>\n",
       "      <td>67883</td>\n",
       "    </tr>\n",
       "  </tbody>\n",
       "</table>\n",
       "</div>"
      ],
      "text/plain": [
       "         DATE  Total Avg Annual Expenditures\n",
       "19 2003-01-01                          40525\n",
       "20 2004-01-01                          42701\n",
       "21 2005-01-01                          45068\n",
       "22 2006-01-01                          47582\n",
       "23 2007-01-01                          47510\n",
       "24 2008-01-01                          48159\n",
       "25 2009-01-01                          46494\n",
       "26 2010-01-01                          46617\n",
       "27 2011-01-01                          48097\n",
       "28 2012-01-01                          49544\n",
       "29 2013-01-01                          48087\n",
       "30 2014-01-01                          49547\n",
       "31 2015-01-01                          52062\n",
       "32 2016-01-01                          52838\n",
       "33 2017-01-01                          55325\n",
       "34 2018-01-01                          56457\n",
       "35 2019-01-01                          57128\n",
       "36 2020-01-01                          57644\n",
       "37 2021-01-01                          63905\n",
       "38 2022-01-01                          67883"
      ]
     },
     "execution_count": 255,
     "metadata": {},
     "output_type": "execute_result"
    }
   ],
   "source": [
    "df11"
   ]
  },
  {
   "cell_type": "code",
   "execution_count": 256,
   "id": "a92e1227-6623-46f9-92fd-8f3a75e04128",
   "metadata": {},
   "outputs": [
    {
     "data": {
      "text/plain": [
       "DATE                             0\n",
       "Total Avg Annual Expenditures    0\n",
       "dtype: int64"
      ]
     },
     "execution_count": 256,
     "metadata": {},
     "output_type": "execute_result"
    }
   ],
   "source": [
    "df11.isnull().sum()"
   ]
  },
  {
   "cell_type": "code",
   "execution_count": 257,
   "id": "fd8c7e43-8516-4774-a014-a73768b097e6",
   "metadata": {
    "scrolled": true
   },
   "outputs": [
    {
     "data": {
      "text/html": [
       "<div>\n",
       "<style scoped>\n",
       "    .dataframe tbody tr th:only-of-type {\n",
       "        vertical-align: middle;\n",
       "    }\n",
       "\n",
       "    .dataframe tbody tr th {\n",
       "        vertical-align: top;\n",
       "    }\n",
       "\n",
       "    .dataframe thead th {\n",
       "        text-align: right;\n",
       "    }\n",
       "</style>\n",
       "<table border=\"1\" class=\"dataframe\">\n",
       "  <thead>\n",
       "    <tr style=\"text-align: right;\">\n",
       "      <th></th>\n",
       "      <th>DATE</th>\n",
       "      <th>Total Avg Annual Expenditures</th>\n",
       "    </tr>\n",
       "  </thead>\n",
       "  <tbody>\n",
       "    <tr>\n",
       "      <th>count</th>\n",
       "      <td>20</td>\n",
       "      <td>20.000000</td>\n",
       "    </tr>\n",
       "    <tr>\n",
       "      <th>mean</th>\n",
       "      <td>2012-07-02 00:00:00</td>\n",
       "      <td>51158.650000</td>\n",
       "    </tr>\n",
       "    <tr>\n",
       "      <th>min</th>\n",
       "      <td>2003-01-01 00:00:00</td>\n",
       "      <td>40525.000000</td>\n",
       "    </tr>\n",
       "    <tr>\n",
       "      <th>25%</th>\n",
       "      <td>2007-10-01 18:00:00</td>\n",
       "      <td>47286.750000</td>\n",
       "    </tr>\n",
       "    <tr>\n",
       "      <th>50%</th>\n",
       "      <td>2012-07-02 00:00:00</td>\n",
       "      <td>48851.500000</td>\n",
       "    </tr>\n",
       "    <tr>\n",
       "      <th>75%</th>\n",
       "      <td>2017-04-02 06:00:00</td>\n",
       "      <td>55608.000000</td>\n",
       "    </tr>\n",
       "    <tr>\n",
       "      <th>max</th>\n",
       "      <td>2022-01-01 00:00:00</td>\n",
       "      <td>67883.000000</td>\n",
       "    </tr>\n",
       "    <tr>\n",
       "      <th>std</th>\n",
       "      <td>NaN</td>\n",
       "      <td>6852.343443</td>\n",
       "    </tr>\n",
       "  </tbody>\n",
       "</table>\n",
       "</div>"
      ],
      "text/plain": [
       "                      DATE  Total Avg Annual Expenditures\n",
       "count                   20                      20.000000\n",
       "mean   2012-07-02 00:00:00                   51158.650000\n",
       "min    2003-01-01 00:00:00                   40525.000000\n",
       "25%    2007-10-01 18:00:00                   47286.750000\n",
       "50%    2012-07-02 00:00:00                   48851.500000\n",
       "75%    2017-04-02 06:00:00                   55608.000000\n",
       "max    2022-01-01 00:00:00                   67883.000000\n",
       "std                    NaN                    6852.343443"
      ]
     },
     "execution_count": 257,
     "metadata": {},
     "output_type": "execute_result"
    }
   ],
   "source": [
    "df11.describe()"
   ]
  },
  {
   "cell_type": "code",
   "execution_count": 258,
   "id": "84a57086-0989-4c1d-88ae-cad3778d026b",
   "metadata": {
    "scrolled": true
   },
   "outputs": [
    {
     "data": {
      "image/png": "[encoded data removed]",
      "text/plain": [
       "<Figure size 600x400 with 1 Axes>"
      ]
     },
     "metadata": {},
     "output_type": "display_data"
    }
   ],
   "source": [
    "# Plotting using Matplotlib\n",
    "plt.figure(figsize=(6, 4))\n",
    "plt.plot(df11['DATE'], df11['Total Avg Annual Expenditures'])\n",
    "plt.title('Total Avg Annual Expenditures Over Time')\n",
    "plt.xlabel('Date')\n",
    "plt.ylabel('Total Avg Annual Expenditures')\n",
    "plt.grid(True)\n",
    "plt.show()"
   ]
  },
  {
   "cell_type": "markdown",
   "id": "620a94a4-64a6-4b6f-9936-de8c4a55995d",
   "metadata": {},
   "source": [
    "# Building Model"
   ]
  },
  {
   "cell_type": "markdown",
   "id": "61d8b6f5-7638-46f8-b603-a58f90986830",
   "metadata": {},
   "source": [
    "##### Making use of scikit-learn Library"
   ]
  },
  {
   "cell_type": "code",
   "execution_count": 259,
   "id": "7411cafa-264c-40af-be53-948ec69db556",
   "metadata": {},
   "outputs": [],
   "source": [
    "import pandas as pd\n",
    "import numpy as np\n",
    "from sklearn.model_selection import train_test_split\n",
    "from sklearn.linear_model import LinearRegression\n",
    "from sklearn.metrics import mean_squared_error, r2_score\n",
    "from sklearn.impute import SimpleImputer"
   ]
  },
  {
   "cell_type": "markdown",
   "id": "1d4b77d8-935f-47cf-9e16-cdaa912f88fb",
   "metadata": {},
   "source": [
    "##### Merging DataFrame for further Modeling processes"
   ]
  },
  {
   "cell_type": "code",
   "execution_count": 260,
   "id": "b9c4fb28-8338-4373-bdf3-0cd1fdd53eca",
   "metadata": {},
   "outputs": [],
   "source": [
    "# Merging the DataFrames on the 'DATE' column using outer join\n",
    "merged_df = df1.merge(df2, on='DATE', how='outer')\n",
    "merged_df = merged_df.merge(df3, on='DATE', how='outer')\n",
    "merged_df = merged_df.merge(df4, on='DATE', how='outer')\n",
    "merged_df = merged_df.merge(df5, on='DATE', how='outer')\n",
    "merged_df = merged_df.merge(df6, on='DATE', how='outer')\n",
    "merged_df = merged_df.merge(df7, on='DATE', how='outer')\n",
    "merged_df = merged_df.merge(df8, on='DATE', how='outer')\n",
    "merged_df = merged_df.merge(df9, on='DATE', how='outer')\n",
    "merged_df = merged_df.merge(df10, on='DATE', how='outer')\n",
    "merged_df = merged_df.merge(df11, on='DATE', how='outer')"
   ]
  },
  {
   "cell_type": "code",
   "execution_count": 261,
   "id": "33c2fda6-3699-497a-b0bf-1149c088d347",
   "metadata": {},
   "outputs": [],
   "source": [
    "# Ensuring 'DATE' is timestamp column\n",
    "merged_df['DATE'] = pd.to_datetime(merged_df['DATE'])"
   ]
  },
  {
   "cell_type": "code",
   "execution_count": 262,
   "id": "6aa96b6f-2892-4d47-8dcc-dd764a31b8b3",
   "metadata": {},
   "outputs": [],
   "source": [
    "import datetime as dt\n",
    "# Convert to Unix timestamps\n",
    "merged_df['UNIX_DATE'] = merged_df['DATE'].apply(lambda x: int(dt.datetime.timestamp(x)))"
   ]
  },
  {
   "cell_type": "markdown",
   "id": "e789b4e5-c30f-4f43-a1ec-0d358afa0292",
   "metadata": {},
   "source": [
    "##### Segregating Independent and Dependent Variables"
   ]
  },
  {
   "cell_type": "code",
   "execution_count": 263,
   "id": "5b805692-c333-425c-9d2d-2b7ac2fb39fa",
   "metadata": {},
   "outputs": [],
   "source": [
    "# Separating predictors and target variable\n",
    "X = merged_df[['UNIX_DATE', 'Fixed Rate Mortgage Average', 'Average Sales Price of Houses', 'Unemployment Rate', 'CPI: Rent of Residence Average', 'CSI:Inflation Expectations', 'Median Household Income', 'Housing Inventory Estimate', 'Monthly Supply of New Houses', 'Total Construction Spending', 'Total Avg Annual Expenditures']]\n",
    "y = merged_df['Home Price Index']"
   ]
  },
  {
   "cell_type": "markdown",
   "id": "763674ef-4df2-42cf-a903-58ff8ca0dd5c",
   "metadata": {},
   "source": [
    "##### Spliting into Training and Testing Sets"
   ]
  },
  {
   "cell_type": "code",
   "execution_count": 264,
   "id": "ad277f16-8fb9-4b1d-9569-faa0c48f9bb3",
   "metadata": {},
   "outputs": [],
   "source": [
    "# Splitting into training and testing sets\n",
    "X_train, X_test, y_train, y_test = train_test_split(X, y, test_size=0.2, random_state=42)"
   ]
  },
  {
   "cell_type": "markdown",
   "id": "defeb02d-1819-4a93-a9dc-394d55903909",
   "metadata": {},
   "source": [
    "##### Handling Missing values by SimpleImputer:Strategy- Mean"
   ]
  },
  {
   "cell_type": "code",
   "execution_count": 265,
   "id": "488592ed-989c-44a6-ae3b-dfb0d8279a49",
   "metadata": {},
   "outputs": [],
   "source": [
    "# Initialize SimpleImputer with mean strategy\n",
    "imputer = SimpleImputer(strategy='mean')"
   ]
  },
  {
   "cell_type": "code",
   "execution_count": 266,
   "id": "a3cb5aa4-05ee-49a8-906a-5fddfc86af47",
   "metadata": {},
   "outputs": [],
   "source": [
    "# Impute missing values using SimpleImputer with mean strategy on training data\n",
    "X_train_imputed = pd.DataFrame(imputer.fit_transform(X_train), columns=X_train.columns)"
   ]
  },
  {
   "cell_type": "code",
   "execution_count": 267,
   "id": "569385fc-5bba-4dd6-a400-9b43360eb72e",
   "metadata": {},
   "outputs": [],
   "source": [
    "# Impute missing values using SimpleImputer with mean strategy on testing data\n",
    "X_test_imputed = pd.DataFrame(imputer.transform(X_test), columns=X_test.columns)"
   ]
  },
  {
   "cell_type": "code",
   "execution_count": 268,
   "id": "e349f5df-a059-464d-85b2-b9c6bb3d4fd5",
   "metadata": {},
   "outputs": [],
   "source": [
    "# Fit and transform y_train\n",
    "y_train_imputed = imputer.fit_transform(y_train.values.reshape(-1, 1))"
   ]
  },
  {
   "cell_type": "code",
   "execution_count": 269,
   "id": "481f539e-f081-4700-8957-9036e1003026",
   "metadata": {},
   "outputs": [],
   "source": [
    "# Transform y_test\n",
    "y_test_imputed = imputer.transform(y_test.values.reshape(-1, 1))"
   ]
  },
  {
   "cell_type": "markdown",
   "id": "a2a88f04-8bba-4f8f-8de6-d4728142500c",
   "metadata": {},
   "source": [
    "##### Fitting Model to the Training data"
   ]
  },
  {
   "cell_type": "code",
   "execution_count": 270,
   "id": "15729f4a-6b02-496a-bfab-6654f6c0a72c",
   "metadata": {},
   "outputs": [
    {
     "data": {
      "text/html": [
       "<style>#sk-container-id-1 {color: black;}#sk-container-id-1 pre{padding: 0;}#sk-container-id-1 div.sk-toggleable {background-color: white;}#sk-container-id-1 label.sk-toggleable__label {cursor: pointer;display: block;width: 100%;margin-bottom: 0;padding: 0.3em;box-sizing: border-box;text-align: center;}#sk-container-id-1 label.sk-toggleable__label-arrow:before {content: \"▸\";float: left;margin-right: 0.25em;color: #696969;}#sk-container-id-1 label.sk-toggleable__label-arrow:hover:before {color: black;}#sk-container-id-1 div.sk-estimator:hover label.sk-toggleable__label-arrow:before {color: black;}#sk-container-id-1 div.sk-toggleable__content {max-height: 0;max-width: 0;overflow: hidden;text-align: left;background-color: #f0f8ff;}#sk-container-id-1 div.sk-toggleable__content pre {margin: 0.2em;color: black;border-radius: 0.25em;background-color: #f0f8ff;}#sk-container-id-1 input.sk-toggleable__control:checked~div.sk-toggleable__content {max-height: 200px;max-width: 100%;overflow: auto;}#sk-container-id-1 input.sk-toggleable__control:checked~label.sk-toggleable__label-arrow:before {content: \"▾\";}#sk-container-id-1 div.sk-estimator input.sk-toggleable__control:checked~label.sk-toggleable__label {background-color: #d4ebff;}#sk-container-id-1 div.sk-label input.sk-toggleable__control:checked~label.sk-toggleable__label {background-color: #d4ebff;}#sk-container-id-1 input.sk-hidden--visually {border: 0;clip: rect(1px 1px 1px 1px);clip: rect(1px, 1px, 1px, 1px);height: 1px;margin: -1px;overflow: hidden;padding: 0;position: absolute;width: 1px;}#sk-container-id-1 div.sk-estimator {font-family: monospace;background-color: #f0f8ff;border: 1px dotted black;border-radius: 0.25em;box-sizing: border-box;margin-bottom: 0.5em;}#sk-container-id-1 div.sk-estimator:hover {background-color: #d4ebff;}#sk-container-id-1 div.sk-parallel-item::after {content: \"\";width: 100%;border-bottom: 1px solid gray;flex-grow: 1;}#sk-container-id-1 div.sk-label:hover label.sk-toggleable__label {background-color: #d4ebff;}#sk-container-id-1 div.sk-serial::before {content: \"\";position: absolute;border-left: 1px solid gray;box-sizing: border-box;top: 0;bottom: 0;left: 50%;z-index: 0;}#sk-container-id-1 div.sk-serial {display: flex;flex-direction: column;align-items: center;background-color: white;padding-right: 0.2em;padding-left: 0.2em;position: relative;}#sk-container-id-1 div.sk-item {position: relative;z-index: 1;}#sk-container-id-1 div.sk-parallel {display: flex;align-items: stretch;justify-content: center;background-color: white;position: relative;}#sk-container-id-1 div.sk-item::before, #sk-container-id-1 div.sk-parallel-item::before {content: \"\";position: absolute;border-left: 1px solid gray;box-sizing: border-box;top: 0;bottom: 0;left: 50%;z-index: -1;}#sk-container-id-1 div.sk-parallel-item {display: flex;flex-direction: column;z-index: 1;position: relative;background-color: white;}#sk-container-id-1 div.sk-parallel-item:first-child::after {align-self: flex-end;width: 50%;}#sk-container-id-1 div.sk-parallel-item:last-child::after {align-self: flex-start;width: 50%;}#sk-container-id-1 div.sk-parallel-item:only-child::after {width: 0;}#sk-container-id-1 div.sk-dashed-wrapped {border: 1px dashed gray;margin: 0 0.4em 0.5em 0.4em;box-sizing: border-box;padding-bottom: 0.4em;background-color: white;}#sk-container-id-1 div.sk-label label {font-family: monospace;font-weight: bold;display: inline-block;line-height: 1.2em;}#sk-container-id-1 div.sk-label-container {text-align: center;}#sk-container-id-1 div.sk-container {/* jupyter's `normalize.less` sets `[hidden] { display: none; }` but bootstrap.min.css set `[hidden] { display: none !important; }` so we also need the `!important` here to be able to override the default hidden behavior on the sphinx rendered scikit-learn.org. See: https://github.com/scikit-learn/scikit-learn/issues/21755 */display: inline-block !important;position: relative;}#sk-container-id-1 div.sk-text-repr-fallback {display: none;}</style><div id=\"sk-container-id-1\" class=\"sk-top-container\"><div class=\"sk-text-repr-fallback\"><pre>LinearRegression()</pre><b>In a Jupyter environment, please rerun this cell to show the HTML representation or trust the notebook. <br />On GitHub, the HTML representation is unable to render, please try loading this page with nbviewer.org.</b></div><div class=\"sk-container\" hidden><div class=\"sk-item\"><div class=\"sk-estimator sk-toggleable\"><input class=\"sk-toggleable__control sk-hidden--visually\" id=\"sk-estimator-id-1\" type=\"checkbox\" checked><label for=\"sk-estimator-id-1\" class=\"sk-toggleable__label sk-toggleable__label-arrow\">LinearRegression</label><div class=\"sk-toggleable__content\"><pre>LinearRegression()</pre></div></div></div></div></div>"
      ],
      "text/plain": [
       "LinearRegression()"
      ]
     },
     "execution_count": 270,
     "metadata": {},
     "output_type": "execute_result"
    }
   ],
   "source": [
    "# Initialize and fit the model\n",
    "model = LinearRegression()\n",
    "model.fit(X_train_imputed, y_train_imputed)"
   ]
  },
  {
   "cell_type": "markdown",
   "id": "6496e470-6a52-4dbb-b970-dbd0ac2a16de",
   "metadata": {},
   "source": [
    "##### Applying Trained Model to Test-set to generate Predictions"
   ]
  },
  {
   "cell_type": "code",
   "execution_count": 271,
   "id": "2c8c9492-dd6f-46cb-a165-92952de516f3",
   "metadata": {},
   "outputs": [],
   "source": [
    "# Predict on the imputed test set\n",
    "y_pred = model.predict(X_test_imputed)"
   ]
  },
  {
   "cell_type": "markdown",
   "id": "455d690e-7262-48c6-a427-72c89c1756d4",
   "metadata": {},
   "source": [
    "#  Model evaluation"
   ]
  },
  {
   "cell_type": "markdown",
   "id": "14b56cf5-b3e8-4dfc-be19-62e7cbb45b9e",
   "metadata": {},
   "source": [
    "#### Mean Squared Error"
   ]
  },
  {
   "cell_type": "code",
   "execution_count": 272,
   "id": "c124447b-cef0-47d4-a752-64cd252cb9df",
   "metadata": {},
   "outputs": [
    {
     "name": "stdout",
     "output_type": "stream",
     "text": [
      "Mean Squared Error: 9.939815873206333\n"
     ]
    }
   ],
   "source": [
    "mse = mean_squared_error(y_test_imputed, y_pred)\n",
    "print(f\"Mean Squared Error: {mse}\")"
   ]
  },
  {
   "cell_type": "markdown",
   "id": "37fd4e0b-5145-4ac5-a1d4-ec743f3a7e4b",
   "metadata": {},
   "source": [
    "#### R-squared Score"
   ]
  },
  {
   "cell_type": "code",
   "execution_count": 273,
   "id": "1c0c0f6e-6f58-42a3-87f6-9060523d6a7e",
   "metadata": {},
   "outputs": [
    {
     "name": "stdout",
     "output_type": "stream",
     "text": [
      "R^2 Score: 0.9803391344324744\n"
     ]
    }
   ],
   "source": [
    "r_squared = r2_score(y_test_imputed, y_pred)\n",
    "\n",
    "print(f\"R^2 Score: {r_squared}\")"
   ]
  },
  {
   "cell_type": "markdown",
   "id": "f00dff17-4419-4ab6-b479-f1f8e292a843",
   "metadata": {},
   "source": [
    "#### Adjusted R-squared Score"
   ]
  },
  {
   "cell_type": "code",
   "execution_count": 274,
   "id": "a2d8d0bd-d865-47aa-94e3-e6bdc6cf6ec8",
   "metadata": {},
   "outputs": [
    {
     "name": "stdout",
     "output_type": "stream",
     "text": [
      "Adjusted R-squared: 0.9794775028737382\n"
     ]
    }
   ],
   "source": [
    "n = len(y_test_imputed)  # Number of samples in test set\n",
    "p = X_test_imputed.shape[1]  # Number of predictors\n",
    "adjusted_r_squared = 1 - (1 - r_squared) * ((n - 1) / (n - p - 1))\n",
    "\n",
    "print(f\"Adjusted R-squared: {adjusted_r_squared}\")"
   ]
  },
  {
   "cell_type": "markdown",
   "id": "763b241e-6696-485a-b6c0-8116e77fe54e",
   "metadata": {},
   "source": [
    "#### Root Mean Squared Error (RMSE)"
   ]
  },
  {
   "cell_type": "code",
   "execution_count": 275,
   "id": "fea01930-315b-436d-acc1-68bc078b261f",
   "metadata": {},
   "outputs": [
    {
     "name": "stdout",
     "output_type": "stream",
     "text": [
      "Root Mean Squared Error (RMSE): 3.1527473532153403\n"
     ]
    }
   ],
   "source": [
    "rmse = np.sqrt(mse)\n",
    "\n",
    "print(\"Root Mean Squared Error (RMSE):\", rmse)"
   ]
  },
  {
   "cell_type": "markdown",
   "id": "c215c30d-ce43-4be4-903d-d1a727b73178",
   "metadata": {},
   "source": [
    "#### Cross-Validation Score"
   ]
  },
  {
   "cell_type": "code",
   "execution_count": 276,
   "id": "06a4973e-801c-4a97-a547-79153c974679",
   "metadata": {},
   "outputs": [
    {
     "name": "stdout",
     "output_type": "stream",
     "text": [
      "Average MSE from 5-fold CV: 25.147711044715194\n"
     ]
    }
   ],
   "source": [
    "from sklearn.model_selection import cross_val_score\n",
    "\n",
    "# Initialize the model\n",
    "model = LinearRegression()\n",
    "\n",
    "# Perform 10-fold cross-validation and specify scoring (e.g., 'neg_mean_squared_error' for MSE)\n",
    "scores = cross_val_score(model, X_train_imputed, y_train_imputed, cv=10, scoring='neg_mean_squared_error')\n",
    "\n",
    "# Get the average score\n",
    "avg_mse = -scores.mean()\n",
    "print(\"Average MSE from 5-fold CV:\", avg_mse)"
   ]
  },
  {
   "cell_type": "markdown",
   "id": "a29cdd99-1f07-4142-b94c-17b3a53dfd4c",
   "metadata": {},
   "source": [
    "# Model Conclusion"
   ]
  },
  {
   "cell_type": "markdown",
   "id": "1b16d23a-71f7-4b88-a945-b8529911c07e",
   "metadata": {},
   "source": [
    "##### **Model Performance Summary:**"
   ]
  },
  {
   "cell_type": "markdown",
   "id": "88931729-a67c-4b1f-aa68-11ee4dee9645",
   "metadata": {},
   "source": [
    " `The data science model constructed for this investigation demonstrates exceptional proficiency in assessing and forecasting home prices based on an array of pertinent features. Rigorous evaluation of the model yielded impressive performance metrics, indicative of its reliability and predictive prowess.`\n",
    "\n",
    "\n",
    "\n",
    "\n",
    "\n"
   ]
  },
  {
   "cell_type": "markdown",
   "id": "b45d8415-353a-4205-a17c-be55fee7fb63",
   "metadata": {},
   "source": [
    "##### **Key Findings:**"
   ]
  },
  {
   "cell_type": "markdown",
   "id": "d44fe824-ba65-4e9d-8831-f0fad58218ae",
   "metadata": {},
   "source": [
    "- `Mean Squared Error (MSE): The model achieves a low MSE of approximately 9.94, signifying minimal average squared differences between predicted and actual home prices. This underscores the model's precision in forecasting.`\r\n",
    "\n",
    "\n",
    "\n",
    "\n",
    "\n"
   ]
  },
  {
   "cell_type": "markdown",
   "id": "aa5794a7-c2fa-48c9-b158-221329a01144",
   "metadata": {},
   "source": [
    "- `R-squared Score: With an score of about 0.98, the model elucidates approximately 98% of the variability in home prices, highlighting its strong ability to capture the nuances of the housing market.`"
   ]
  },
  {
   "cell_type": "markdown",
   "id": "66099597-4246-450b-9fdf-76982cd1f86d",
   "metadata": {},
   "source": [
    "- `Adjusted R-squared: The adjusted R-squared value of approximately 0.98 reflects the substantial impact of selected features on the model's predictive capacity, accounting for the number of features utilized.`"
   ]
  },
  {
   "cell_type": "markdown",
   "id": "5cb0adb9-f2fa-4db3-aa9f-fada76b90f9b",
   "metadata": {},
   "source": [
    "- `Root Mean Squared Error (RMSE): The RMSE of around 3.15 provides a clear measure of the average magnitude of errors in the model's price predictions.`"
   ]
  },
  {
   "cell_type": "markdown",
   "id": "bcfb2c07-f3fe-40fe-8502-9a8d7b38bbe0",
   "metadata": {},
   "source": [
    "- `Average MSE from 10-fold Cross-Validation: The consistent average MSE of approximately 25.15 across 10-fold cross-validation folds underscores the model's robustness and stability.`"
   ]
  },
  {
   "cell_type": "markdown",
   "id": "92d7b9e2-dada-4067-b4bc-5f91bedcae32",
   "metadata": {},
   "source": [
    "##### **Conclusion**"
   ]
  },
  {
   "cell_type": "markdown",
   "id": "7ee8bb0a-18ba-42cb-bc96-7f49d7a98c8b",
   "metadata": {},
   "source": [
    "`This data science model serves as a powerful tool in uncovering the underlying factors that have influenced home prices over the last two decades. Its ability to accurately forecast prices and explain a significant portion of the variability signifies its utility in dissecting housing market trends.`\n",
    "\n",
    "`The insights gleaned from this model not only aid in understanding past price fluctuations but also hold promise in informing future projections and strategic decision-making in real estate and related sectors. Continued validation and monitoring are pivotal to ensuring the model's ongoing effectiveness and reliability in practical applications.`"
   ]
  }
 ],
 "metadata": {
  "kernelspec": {
   "display_name": "Python 3 (ipykernel)",
   "language": "python",
   "name": "python3"
  },
  "language_info": {
   "codemirror_mode": {
    "name": "ipython",
    "version": 3
   },
   "file_extension": ".py",
   "mimetype": "text/x-python",
   "name": "python",
   "nbconvert_exporter": "python",
   "pygments_lexer": "ipython3",
   "version": "3.9.13"
  }
 },
 "nbformat": 4,
 "nbformat_minor": 5
}
